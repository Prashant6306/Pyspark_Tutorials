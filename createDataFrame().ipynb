{
 "cells": [
  {
   "cell_type": "code",
   "execution_count": 1,
   "id": "clean-opera",
   "metadata": {
    "execution": {
     "iopub.execute_input": "2023-01-29T05:46:31.286179Z",
     "iopub.status.busy": "2023-01-29T05:46:31.284412Z",
     "iopub.status.idle": "2023-01-29T05:47:21.978613Z",
     "shell.execute_reply": "2023-01-29T05:47:21.977819Z",
     "shell.execute_reply.started": "2023-01-29T05:45:06.869754Z"
    },
    "papermill": {
     "duration": 50.704476,
     "end_time": "2023-01-29T05:47:21.978879",
     "exception": false,
     "start_time": "2023-01-29T05:46:31.274403",
     "status": "completed"
    },
    "tags": []
   },
   "outputs": [
    {
     "name": "stdout",
     "output_type": "stream",
     "text": [
      "Collecting pyspark\r\n",
      "  Downloading pyspark-3.3.1.tar.gz (281.4 MB)\r\n",
      "\u001b[K     |████████████████████████████████| 281.4 MB 34 kB/s \r\n",
      "\u001b[?25hCollecting py4j==0.10.9.5\r\n",
      "  Downloading py4j-0.10.9.5-py2.py3-none-any.whl (199 kB)\r\n",
      "\u001b[K     |████████████████████████████████| 199 kB 65.8 MB/s \r\n",
      "\u001b[?25hBuilding wheels for collected packages: pyspark\r\n",
      "  Building wheel for pyspark (setup.py) ... \u001b[?25l-\b \b\\\b \b|\b \b/\b \b-\b \b\\\b \b|\b \b/\b \b-\b \b\\\b \b|\b \b/\b \b-\b \b\\\b \b|\b \b/\b \b-\b \b\\\b \b|\b \b/\b \b-\b \b\\\b \b|\b \b/\b \b-\b \b\\\b \b|\b \b/\b \b-\b \b\\\b \b|\b \b/\b \b-\b \b\\\b \b|\b \b/\b \b-\b \b\\\b \b|\b \b/\b \b-\b \b\\\b \b|\b \b/\b \b-\b \b\\\b \b|\b \b/\b \b-\b \b\\\b \b|\b \b/\b \b-\b \b\\\b \b|\b \b/\b \b-\b \b\\\b \b|\b \b/\b \b-\b \b\\\b \bdone\r\n",
      "\u001b[?25h  Created wheel for pyspark: filename=pyspark-3.3.1-py2.py3-none-any.whl size=281845515 sha256=4cce2cea23c5ff56b706a202ffa64d0c95a7eb17ed59a1eecba257fedd0a55ef\r\n",
      "  Stored in directory: /root/.cache/pip/wheels/42/59/f5/79a5bf931714dcd201b26025347785f087370a10a3329a899c\r\n",
      "Successfully built pyspark\r\n",
      "Installing collected packages: py4j, pyspark\r\n",
      "Successfully installed py4j-0.10.9.5 pyspark-3.3.1\r\n",
      "Note: you may need to restart the kernel to use updated packages.\n"
     ]
    }
   ],
   "source": [
    "pip install pyspark"
   ]
  },
  {
   "cell_type": "code",
   "execution_count": 2,
   "id": "veterinary-option",
   "metadata": {
    "execution": {
     "iopub.execute_input": "2023-01-29T05:47:22.280282Z",
     "iopub.status.busy": "2023-01-29T05:47:22.279581Z",
     "iopub.status.idle": "2023-01-29T05:47:22.336308Z",
     "shell.execute_reply": "2023-01-29T05:47:22.335741Z",
     "shell.execute_reply.started": "2023-01-29T05:45:46.560783Z"
    },
    "papermill": {
     "duration": 0.208377,
     "end_time": "2023-01-29T05:47:22.336465",
     "exception": false,
     "start_time": "2023-01-29T05:47:22.128088",
     "status": "completed"
    },
    "tags": []
   },
   "outputs": [],
   "source": [
    "import pyspark"
   ]
  },
  {
   "cell_type": "code",
   "execution_count": 3,
   "id": "fundamental-consumer",
   "metadata": {
    "execution": {
     "iopub.execute_input": "2023-01-29T05:47:22.624846Z",
     "iopub.status.busy": "2023-01-29T05:47:22.624191Z",
     "iopub.status.idle": "2023-01-29T05:47:22.627801Z",
     "shell.execute_reply": "2023-01-29T05:47:22.628332Z",
     "shell.execute_reply.started": "2023-01-29T05:45:46.614258Z"
    },
    "papermill": {
     "duration": 0.151029,
     "end_time": "2023-01-29T05:47:22.628530",
     "exception": false,
     "start_time": "2023-01-29T05:47:22.477501",
     "status": "completed"
    },
    "tags": []
   },
   "outputs": [],
   "source": [
    "from pyspark.sql import SparkSession"
   ]
  },
  {
   "cell_type": "code",
   "execution_count": 4,
   "id": "retired-pathology",
   "metadata": {
    "execution": {
     "iopub.execute_input": "2023-01-29T05:47:22.921270Z",
     "iopub.status.busy": "2023-01-29T05:47:22.920566Z",
     "iopub.status.idle": "2023-01-29T05:47:35.028832Z",
     "shell.execute_reply": "2023-01-29T05:47:35.028040Z",
     "shell.execute_reply.started": "2023-01-29T05:45:46.618141Z"
    },
    "papermill": {
     "duration": 12.254356,
     "end_time": "2023-01-29T05:47:35.029031",
     "exception": false,
     "start_time": "2023-01-29T05:47:22.774675",
     "status": "completed"
    },
    "tags": []
   },
   "outputs": [
    {
     "name": "stdout",
     "output_type": "stream",
     "text": [
      "root\n",
      " |-- firstname: string (nullable = true)\n",
      " |-- middlename: string (nullable = true)\n",
      " |-- lastname: string (nullable = true)\n",
      " |-- dob: string (nullable = true)\n",
      " |-- gender: string (nullable = true)\n",
      " |-- salary: long (nullable = true)\n",
      "\n",
      "+---------+----------+--------+----------+------+------+\n",
      "|firstname|middlename|lastname|dob       |gender|salary|\n",
      "+---------+----------+--------+----------+------+------+\n",
      "|James    |          |Smith   |1991-04-01|M     |3000  |\n",
      "|Michael  |Rose      |        |2000-05-19|M     |4000  |\n",
      "|Robert   |          |Williams|1978-09-05|M     |4000  |\n",
      "|Maria    |Anne      |Jones   |1967-12-01|F     |4000  |\n",
      "|Jen      |Mary      |Brown   |1980-02-17|F     |-1    |\n",
      "+---------+----------+--------+----------+------+------+\n",
      "\n"
     ]
    }
   ],
   "source": [
    "spark =SparkSession.builder.appName('SparkByExamples.com').getOrCreate()\n",
    "\n",
    "data =[('James','','Smith','1991-04-01','M',3000),\n",
    "('Michael','Rose','','2000-05-19','M',4000),\n",
    "('Robert','','Williams','1978-09-05','M',4000),\n",
    "('Maria','Anne','Jones','1967-12-01','F',4000),\n",
    "('Jen','Mary','Brown','1980-02-17','F',-1)\n",
    "]\n",
    "\n",
    "columns =[\"firstname\",\"middlename\",\"lastname\",\"dob\",\"gender\",\"salary\"]\n",
    "df = spark.createDataFrame(data=data, schema = columns) \n",
    "df.printSchema()\n",
    "df.show(truncate=False)\n"
   ]
  }
 ],
 "metadata": {
  "kernelspec": {
   "display_name": "Python 3",
   "language": "python",
   "name": "python3"
  },
  "language_info": {
   "codemirror_mode": {
    "name": "ipython",
    "version": 3
   },
   "file_extension": ".py",
   "mimetype": "text/x-python",
   "name": "python",
   "nbconvert_exporter": "python",
   "pygments_lexer": "ipython3",
   "version": "3.7.10"
  },
  "papermill": {
   "default_parameters": {},
   "duration": 73.91095,
   "end_time": "2023-01-29T05:47:36.856179",
   "environment_variables": {},
   "exception": null,
   "input_path": "__notebook__.ipynb",
   "output_path": "__notebook__.ipynb",
   "parameters": {},
   "start_time": "2023-01-29T05:46:22.945229",
   "version": "2.3.3"
  }
 },
 "nbformat": 4,
 "nbformat_minor": 5
}
