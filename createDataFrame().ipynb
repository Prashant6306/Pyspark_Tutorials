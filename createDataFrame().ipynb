{
 "cells": [
  {
   "cell_type": "code",
   "execution_count": 1,
   "id": "reported-bailey",
   "metadata": {
    "execution": {
     "iopub.execute_input": "2023-01-29T05:42:51.715411Z",
     "iopub.status.busy": "2023-01-29T05:42:51.714440Z",
     "iopub.status.idle": "2023-01-29T05:43:32.410348Z",
     "shell.execute_reply": "2023-01-29T05:43:32.410907Z",
     "shell.execute_reply.started": "2023-01-29T04:57:32.205077Z"
    },
    "papermill": {
     "duration": 40.705067,
     "end_time": "2023-01-29T05:43:32.411223",
     "exception": false,
     "start_time": "2023-01-29T05:42:51.706156",
     "status": "completed"
    },
    "tags": []
   },
   "outputs": [
    {
     "name": "stdout",
     "output_type": "stream",
     "text": [
      "Collecting pyspark\r\n",
      "  Downloading pyspark-3.3.1.tar.gz (281.4 MB)\r\n",
      "\u001b[K     |████████████████████████████████| 281.4 MB 37 kB/s \r\n",
      "\u001b[?25hCollecting py4j==0.10.9.5\r\n",
      "  Downloading py4j-0.10.9.5-py2.py3-none-any.whl (199 kB)\r\n",
      "\u001b[K     |████████████████████████████████| 199 kB 75.4 MB/s \r\n",
      "\u001b[?25hBuilding wheels for collected packages: pyspark\r\n",
      "  Building wheel for pyspark (setup.py) ... \u001b[?25l-\b \b\\\b \b|\b \b/\b \b-\b \b\\\b \b|\b \b/\b \b-\b \b\\\b \b|\b \b/\b \b-\b \b\\\b \b|\b \b/\b \b-\b \b\\\b \b|\b \b/\b \b-\b \b\\\b \b|\b \b/\b \b-\b \b\\\b \b|\b \b/\b \b-\b \b\\\b \b|\b \b/\b \b-\b \b\\\b \b|\b \b/\b \b-\b \b\\\b \b|\b \b/\b \b-\b \b\\\b \b|\b \b/\b \b-\b \b\\\b \b|\b \b/\b \b-\b \b\\\b \b|\b \b/\b \b-\b \bdone\r\n",
      "\u001b[?25h  Created wheel for pyspark: filename=pyspark-3.3.1-py2.py3-none-any.whl size=281845515 sha256=fe49d3ade7453cab55b4bc7b4c8d4c99e49300d8b6cddf244a098ed6eb935a5e\r\n",
      "  Stored in directory: /root/.cache/pip/wheels/42/59/f5/79a5bf931714dcd201b26025347785f087370a10a3329a899c\r\n",
      "Successfully built pyspark\r\n",
      "Installing collected packages: py4j, pyspark\r\n",
      "Successfully installed py4j-0.10.9.5 pyspark-3.3.1\r\n",
      "Note: you may need to restart the kernel to use updated packages.\n"
     ]
    }
   ],
   "source": [
    "pip install pyspark"
   ]
  },
  {
   "cell_type": "code",
   "execution_count": 2,
   "id": "toxic-jamaica",
   "metadata": {
    "execution": {
     "iopub.execute_input": "2023-01-29T05:43:32.595597Z",
     "iopub.status.busy": "2023-01-29T05:43:32.594996Z",
     "iopub.status.idle": "2023-01-29T05:43:32.640684Z",
     "shell.execute_reply": "2023-01-29T05:43:32.641173Z",
     "shell.execute_reply.started": "2023-01-29T04:58:31.833133Z"
    },
    "papermill": {
     "duration": 0.138645,
     "end_time": "2023-01-29T05:43:32.641345",
     "exception": false,
     "start_time": "2023-01-29T05:43:32.502700",
     "status": "completed"
    },
    "tags": []
   },
   "outputs": [],
   "source": [
    "import pyspark"
   ]
  },
  {
   "cell_type": "code",
   "execution_count": 3,
   "id": "still-sunrise",
   "metadata": {
    "execution": {
     "iopub.execute_input": "2023-01-29T05:43:32.817425Z",
     "iopub.status.busy": "2023-01-29T05:43:32.816747Z",
     "iopub.status.idle": "2023-01-29T05:43:32.820230Z",
     "shell.execute_reply": "2023-01-29T05:43:32.820736Z",
     "shell.execute_reply.started": "2023-01-29T04:58:52.590731Z"
    },
    "papermill": {
     "duration": 0.09314,
     "end_time": "2023-01-29T05:43:32.820893",
     "exception": false,
     "start_time": "2023-01-29T05:43:32.727753",
     "status": "completed"
    },
    "tags": []
   },
   "outputs": [],
   "source": [
    "from pyspark.sql import SparkSession"
   ]
  },
  {
   "cell_type": "code",
   "execution_count": 4,
   "id": "forty-singing",
   "metadata": {
    "execution": {
     "iopub.execute_input": "2023-01-29T05:43:32.994340Z",
     "iopub.status.busy": "2023-01-29T05:43:32.993586Z",
     "iopub.status.idle": "2023-01-29T05:43:44.541529Z",
     "shell.execute_reply": "2023-01-29T05:43:44.540461Z",
     "shell.execute_reply.started": "2023-01-29T04:58:59.155287Z"
    },
    "papermill": {
     "duration": 11.635616,
     "end_time": "2023-01-29T05:43:44.541813",
     "exception": false,
     "start_time": "2023-01-29T05:43:32.906197",
     "status": "completed"
    },
    "tags": []
   },
   "outputs": [
    {
     "name": "stdout",
     "output_type": "stream",
     "text": [
      "root\n",
      " |-- firstname: string (nullable = true)\n",
      " |-- middlename: string (nullable = true)\n",
      " |-- lastname: string (nullable = true)\n",
      " |-- dob: string (nullable = true)\n",
      " |-- gender: string (nullable = true)\n",
      " |-- salary: long (nullable = true)\n",
      "\n",
      "+---------+----------+--------+----------+------+------+\n",
      "|firstname|middlename|lastname|dob       |gender|salary|\n",
      "+---------+----------+--------+----------+------+------+\n",
      "|James    |          |Smith   |1991-04-01|M     |3000  |\n",
      "|Michael  |Rose      |        |2000-05-19|M     |4000  |\n",
      "|Robert   |          |Williams|1978-09-05|M     |4000  |\n",
      "|Maria    |Anne      |Jones   |1967-12-01|F     |4000  |\n",
      "|Jen      |Mary      |Brown   |1980-02-17|F     |-1    |\n",
      "+---------+----------+--------+----------+------+------+\n",
      "\n"
     ]
    }
   ],
   "source": [
    "spark =SparkSession.builder.appName('SparkByExamples.com').getOrCreate()\n",
    "\n",
    "data =[('James','','Smith','1991-04-01','M',3000),\n",
    "('Michael','Rose','','2000-05-19','M',4000),\n",
    "('Robert','','Williams','1978-09-05','M',4000),\n",
    "('Maria','Anne','Jones','1967-12-01','F',4000),\n",
    "('Jen','Mary','Brown','1980-02-17','F',-1)\n",
    "]\n",
    "\n",
    "columns =[\"firstname\",\"middlename\",\"lastname\",\"dob\",\"gender\",\"salary\"]\n",
    "df = spark.createDataFrame(data=data, schema = columns) \n",
    "df.printSchema()\n",
    "df.show(truncate=False)\n"
   ]
  }
 ],
 "metadata": {
  "kernelspec": {
   "display_name": "Python 3",
   "language": "python",
   "name": "python3"
  },
  "language_info": {
   "codemirror_mode": {
    "name": "ipython",
    "version": 3
   },
   "file_extension": ".py",
   "mimetype": "text/x-python",
   "name": "python",
   "nbconvert_exporter": "python",
   "pygments_lexer": "ipython3",
   "version": "3.7.10"
  },
  "papermill": {
   "default_parameters": {},
   "duration": 61.470425,
   "end_time": "2023-01-29T05:43:45.341086",
   "environment_variables": {},
   "exception": null,
   "input_path": "__notebook__.ipynb",
   "output_path": "__notebook__.ipynb",
   "parameters": {},
   "start_time": "2023-01-29T05:42:43.870661",
   "version": "2.3.3"
  }
 },
 "nbformat": 4,
 "nbformat_minor": 5
}
