{
 "cells": [
  {
   "cell_type": "code",
   "execution_count": 1,
   "id": "talented-chain",
   "metadata": {
    "execution": {
     "iopub.execute_input": "2023-05-13T06:10:56.433029Z",
     "iopub.status.busy": "2023-05-13T06:10:56.431081Z",
     "iopub.status.idle": "2023-05-13T06:11:49.198754Z",
     "shell.execute_reply": "2023-05-13T06:11:49.197879Z",
     "shell.execute_reply.started": "2023-05-13T06:04:55.159958Z"
    },
    "papermill": {
     "duration": 52.789442,
     "end_time": "2023-05-13T06:11:49.198975",
     "exception": false,
     "start_time": "2023-05-13T06:10:56.409533",
     "status": "completed"
    },
    "tags": []
   },
   "outputs": [
    {
     "name": "stdout",
     "output_type": "stream",
     "text": [
      "Collecting pyspark\r\n",
      "  Downloading pyspark-3.4.0.tar.gz (310.8 MB)\r\n",
      "\u001b[K     |████████████████████████████████| 310.8 MB 7.5 kB/s \r\n",
      "\u001b[?25hCollecting py4j==0.10.9.7\r\n",
      "  Downloading py4j-0.10.9.7-py2.py3-none-any.whl (200 kB)\r\n",
      "\u001b[K     |████████████████████████████████| 200 kB 59.2 MB/s \r\n",
      "\u001b[?25hBuilding wheels for collected packages: pyspark\r\n",
      "  Building wheel for pyspark (setup.py) ... \u001b[?25l-\b \b\\\b \b|\b \b/\b \b-\b \b\\\b \b|\b \b/\b \b-\b \b\\\b \b|\b \b/\b \b-\b \b\\\b \b|\b \b/\b \b-\b \b\\\b \b|\b \b/\b \b-\b \b\\\b \b|\b \b/\b \b-\b \b\\\b \b|\b \b/\b \b-\b \b\\\b \b|\b \b/\b \b-\b \b\\\b \b|\b \b/\b \b-\b \b\\\b \b|\b \b/\b \b-\b \b\\\b \b|\b \b/\b \b-\b \b\\\b \b|\b \b/\b \b-\b \b\\\b \b|\b \b/\b \b-\b \b\\\b \b|\b \b/\b \b-\b \b\\\b \b|\b \b/\b \b-\b \b\\\b \b|\b \b/\b \b-\b \b\\\b \b|\b \b/\b \b-\b \bdone\r\n",
      "\u001b[?25h  Created wheel for pyspark: filename=pyspark-3.4.0-py2.py3-none-any.whl size=311317145 sha256=d83efcdbb6c82171d20dc0745d907b44bb352714008805f005ac5228a96a3cd9\r\n",
      "  Stored in directory: /root/.cache/pip/wheels/06/51/98/f7a41aad64c08302d6c26c90650e713c3dfeb5cdec4946db00\r\n",
      "Successfully built pyspark\r\n",
      "Installing collected packages: py4j, pyspark\r\n",
      "Successfully installed py4j-0.10.9.7 pyspark-3.4.0\r\n",
      "Note: you may need to restart the kernel to use updated packages.\n"
     ]
    }
   ],
   "source": [
    "pip install pyspark"
   ]
  },
  {
   "cell_type": "code",
   "execution_count": 2,
   "id": "cleared-pastor",
   "metadata": {
    "execution": {
     "iopub.execute_input": "2023-05-13T06:11:49.558301Z",
     "iopub.status.busy": "2023-05-13T06:11:49.557171Z",
     "iopub.status.idle": "2023-05-13T06:11:49.637978Z",
     "shell.execute_reply": "2023-05-13T06:11:49.637307Z",
     "shell.execute_reply.started": "2023-05-13T06:05:47.329333Z"
    },
    "papermill": {
     "duration": 0.265354,
     "end_time": "2023-05-13T06:11:49.638211",
     "exception": false,
     "start_time": "2023-05-13T06:11:49.372857",
     "status": "completed"
    },
    "tags": []
   },
   "outputs": [],
   "source": [
    "from pyspark.sql import SparkSession"
   ]
  },
  {
   "cell_type": "code",
   "execution_count": 3,
   "id": "confidential-argentina",
   "metadata": {
    "execution": {
     "iopub.execute_input": "2023-05-13T06:11:49.998583Z",
     "iopub.status.busy": "2023-05-13T06:11:49.997786Z",
     "iopub.status.idle": "2023-05-13T06:11:55.992330Z",
     "shell.execute_reply": "2023-05-13T06:11:55.992906Z",
     "shell.execute_reply.started": "2023-05-13T06:05:47.416693Z"
    },
    "papermill": {
     "duration": 6.189923,
     "end_time": "2023-05-13T06:11:55.993155",
     "exception": false,
     "start_time": "2023-05-13T06:11:49.803232",
     "status": "completed"
    },
    "tags": []
   },
   "outputs": [
    {
     "name": "stderr",
     "output_type": "stream",
     "text": [
      "/opt/conda/lib/python3.7/site-packages/pyspark/context.py:317: FutureWarning: Python 3.7 support is deprecated in Spark 3.4.\n",
      "  warnings.warn(\"Python 3.7 support is deprecated in Spark 3.4.\", FutureWarning)\n"
     ]
    }
   ],
   "source": [
    "spark=SparkSession.builder.master(\"local[1]\").appName(\"spark\").getOrCreate()"
   ]
  },
  {
   "cell_type": "code",
   "execution_count": 4,
   "id": "experimental-fishing",
   "metadata": {
    "execution": {
     "iopub.execute_input": "2023-05-13T06:11:56.342457Z",
     "iopub.status.busy": "2023-05-13T06:11:56.341497Z",
     "iopub.status.idle": "2023-05-13T06:11:56.343717Z",
     "shell.execute_reply": "2023-05-13T06:11:56.344407Z",
     "shell.execute_reply.started": "2023-05-13T06:05:53.137647Z"
    },
    "papermill": {
     "duration": 0.182677,
     "end_time": "2023-05-13T06:11:56.344606",
     "exception": false,
     "start_time": "2023-05-13T06:11:56.161929",
     "status": "completed"
    },
    "tags": []
   },
   "outputs": [],
   "source": [
    "data=[1,2,3,4,5]"
   ]
  },
  {
   "cell_type": "code",
   "execution_count": 5,
   "id": "ranging-economics",
   "metadata": {
    "execution": {
     "iopub.execute_input": "2023-05-13T06:11:56.680687Z",
     "iopub.status.busy": "2023-05-13T06:11:56.679852Z",
     "iopub.status.idle": "2023-05-13T06:11:57.085532Z",
     "shell.execute_reply": "2023-05-13T06:11:57.084465Z",
     "shell.execute_reply.started": "2023-05-13T06:05:53.153019Z"
    },
    "papermill": {
     "duration": 0.574802,
     "end_time": "2023-05-13T06:11:57.085779",
     "exception": false,
     "start_time": "2023-05-13T06:11:56.510977",
     "status": "completed"
    },
    "tags": []
   },
   "outputs": [],
   "source": [
    "rdd=spark.sparkContext.parallelize(data)"
   ]
  },
  {
   "cell_type": "code",
   "execution_count": 6,
   "id": "gross-dublin",
   "metadata": {
    "execution": {
     "iopub.execute_input": "2023-05-13T06:11:57.438265Z",
     "iopub.status.busy": "2023-05-13T06:11:57.437416Z",
     "iopub.status.idle": "2023-05-13T06:11:58.236165Z",
     "shell.execute_reply": "2023-05-13T06:11:58.237642Z",
     "shell.execute_reply.started": "2023-05-13T06:05:53.573257Z"
    },
    "papermill": {
     "duration": 0.967098,
     "end_time": "2023-05-13T06:11:58.237919",
     "exception": false,
     "start_time": "2023-05-13T06:11:57.270821",
     "status": "completed"
    },
    "tags": []
   },
   "outputs": [
    {
     "data": {
      "text/plain": [
       "[1, 2, 3, 4, 5]"
      ]
     },
     "execution_count": 6,
     "metadata": {},
     "output_type": "execute_result"
    }
   ],
   "source": [
    "rdd.collect()"
   ]
  },
  {
   "cell_type": "code",
   "execution_count": 7,
   "id": "affecting-football",
   "metadata": {
    "execution": {
     "iopub.execute_input": "2023-05-13T06:11:58.684543Z",
     "iopub.status.busy": "2023-05-13T06:11:58.683705Z",
     "iopub.status.idle": "2023-05-13T06:11:58.686026Z",
     "shell.execute_reply": "2023-05-13T06:11:58.686775Z",
     "shell.execute_reply.started": "2023-05-13T06:07:15.039949Z"
    },
    "papermill": {
     "duration": 0.196842,
     "end_time": "2023-05-13T06:11:58.686971",
     "exception": false,
     "start_time": "2023-05-13T06:11:58.490129",
     "status": "completed"
    },
    "tags": []
   },
   "outputs": [],
   "source": [
    "from pyspark.sql import SparkSession"
   ]
  },
  {
   "cell_type": "code",
   "execution_count": 8,
   "id": "leading-complexity",
   "metadata": {
    "execution": {
     "iopub.execute_input": "2023-05-13T06:11:59.081396Z",
     "iopub.status.busy": "2023-05-13T06:11:59.080617Z",
     "iopub.status.idle": "2023-05-13T06:12:00.311137Z",
     "shell.execute_reply": "2023-05-13T06:12:00.310073Z",
     "shell.execute_reply.started": "2023-05-13T06:07:16.618170Z"
    },
    "papermill": {
     "duration": 1.421432,
     "end_time": "2023-05-13T06:12:00.311382",
     "exception": false,
     "start_time": "2023-05-13T06:11:58.889950",
     "status": "completed"
    },
    "tags": []
   },
   "outputs": [],
   "source": [
    "spark = SparkSession.builder.appName(\"MyApp\").getOrCreate()"
   ]
  },
  {
   "cell_type": "code",
   "execution_count": 9,
   "id": "maritime-cocktail",
   "metadata": {
    "execution": {
     "iopub.execute_input": "2023-05-13T06:12:00.668289Z",
     "iopub.status.busy": "2023-05-13T06:12:00.666744Z",
     "iopub.status.idle": "2023-05-13T06:12:00.674183Z",
     "shell.execute_reply": "2023-05-13T06:12:00.675143Z",
     "shell.execute_reply.started": "2023-05-13T06:09:29.143686Z"
    },
    "papermill": {
     "duration": 0.183492,
     "end_time": "2023-05-13T06:12:00.675416",
     "exception": false,
     "start_time": "2023-05-13T06:12:00.491924",
     "status": "completed"
    },
    "tags": []
   },
   "outputs": [],
   "source": [
    "# create an RDD from a list of numbers\n",
    "rdd = spark.sparkContext.parallelize([1, 2, 3, 4, 5])"
   ]
  },
  {
   "cell_type": "code",
   "execution_count": 10,
   "id": "constitutional-flood",
   "metadata": {
    "execution": {
     "iopub.execute_input": "2023-05-13T06:12:01.054910Z",
     "iopub.status.busy": "2023-05-13T06:12:01.054135Z",
     "iopub.status.idle": "2023-05-13T06:12:01.175323Z",
     "shell.execute_reply": "2023-05-13T06:12:01.176196Z",
     "shell.execute_reply.started": "2023-05-13T06:09:30.054324Z"
    },
    "papermill": {
     "duration": 0.321897,
     "end_time": "2023-05-13T06:12:01.176458",
     "exception": false,
     "start_time": "2023-05-13T06:12:00.854561",
     "status": "completed"
    },
    "tags": []
   },
   "outputs": [
    {
     "name": "stdout",
     "output_type": "stream",
     "text": [
      "[1, 2, 3, 4, 5]\n"
     ]
    }
   ],
   "source": [
    "print(rdd.collect())"
   ]
  },
  {
   "cell_type": "code",
   "execution_count": 11,
   "id": "fuzzy-spoke",
   "metadata": {
    "execution": {
     "iopub.execute_input": "2023-05-13T06:12:01.538273Z",
     "iopub.status.busy": "2023-05-13T06:12:01.537213Z",
     "iopub.status.idle": "2023-05-13T06:12:01.542355Z",
     "shell.execute_reply": "2023-05-13T06:12:01.541690Z",
     "shell.execute_reply.started": "2023-05-13T06:09:33.976506Z"
    },
    "papermill": {
     "duration": 0.186031,
     "end_time": "2023-05-13T06:12:01.542527",
     "exception": false,
     "start_time": "2023-05-13T06:12:01.356496",
     "status": "completed"
    },
    "tags": []
   },
   "outputs": [],
   "source": [
    "# perform transformations on the RDD\n",
    "squared_rdd = rdd.map(lambda x: x*x)\n",
    "even_rdd = squared_rdd.filter(lambda x: x % 2 == 0)"
   ]
  },
  {
   "cell_type": "code",
   "execution_count": 12,
   "id": "determined-cruise",
   "metadata": {
    "execution": {
     "iopub.execute_input": "2023-05-13T06:12:01.891143Z",
     "iopub.status.busy": "2023-05-13T06:12:01.889837Z",
     "iopub.status.idle": "2023-05-13T06:12:03.245943Z",
     "shell.execute_reply": "2023-05-13T06:12:03.246932Z",
     "shell.execute_reply.started": "2023-05-13T06:10:22.623765Z"
    },
    "papermill": {
     "duration": 1.531698,
     "end_time": "2023-05-13T06:12:03.247289",
     "exception": false,
     "start_time": "2023-05-13T06:12:01.715591",
     "status": "completed"
    },
    "tags": []
   },
   "outputs": [],
   "source": [
    "# perform an action on the RDD\n",
    "even_numbers = even_rdd.collect()"
   ]
  },
  {
   "cell_type": "code",
   "execution_count": 13,
   "id": "superb-globe",
   "metadata": {
    "execution": {
     "iopub.execute_input": "2023-05-13T06:12:03.593354Z",
     "iopub.status.busy": "2023-05-13T06:12:03.592510Z",
     "iopub.status.idle": "2023-05-13T06:12:03.597529Z",
     "shell.execute_reply": "2023-05-13T06:12:03.598198Z",
     "shell.execute_reply.started": "2023-05-13T06:10:24.824436Z"
    },
    "papermill": {
     "duration": 0.176624,
     "end_time": "2023-05-13T06:12:03.598393",
     "exception": false,
     "start_time": "2023-05-13T06:12:03.421769",
     "status": "completed"
    },
    "tags": []
   },
   "outputs": [
    {
     "name": "stdout",
     "output_type": "stream",
     "text": [
      "[4, 16]\n"
     ]
    }
   ],
   "source": [
    "print(even_numbers)"
   ]
  },
  {
   "cell_type": "code",
   "execution_count": null,
   "id": "burning-quality",
   "metadata": {
    "papermill": {
     "duration": 0.190476,
     "end_time": "2023-05-13T06:12:03.956475",
     "exception": false,
     "start_time": "2023-05-13T06:12:03.765999",
     "status": "completed"
    },
    "tags": []
   },
   "outputs": [],
   "source": []
  }
 ],
 "metadata": {
  "kernelspec": {
   "display_name": "Python 3",
   "language": "python",
   "name": "python3"
  },
  "language_info": {
   "codemirror_mode": {
    "name": "ipython",
    "version": 3
   },
   "file_extension": ".py",
   "mimetype": "text/x-python",
   "name": "python",
   "nbconvert_exporter": "python",
   "pygments_lexer": "ipython3",
   "version": "3.7.10"
  },
  "papermill": {
   "default_parameters": {},
   "duration": 80.017421,
   "end_time": "2023-05-13T06:12:05.538811",
   "environment_variables": {},
   "exception": null,
   "input_path": "__notebook__.ipynb",
   "output_path": "__notebook__.ipynb",
   "parameters": {},
   "start_time": "2023-05-13T06:10:45.521390",
   "version": "2.3.3"
  }
 },
 "nbformat": 4,
 "nbformat_minor": 5
}
