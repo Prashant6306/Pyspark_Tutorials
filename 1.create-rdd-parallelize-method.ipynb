{
 "cells": [
  {
   "cell_type": "code",
   "execution_count": 1,
   "id": "instrumental-muscle",
   "metadata": {
    "execution": {
     "iopub.execute_input": "2023-01-29T07:20:54.584855Z",
     "iopub.status.busy": "2023-01-29T07:20:54.583084Z",
     "iopub.status.idle": "2023-01-29T07:21:44.120136Z",
     "shell.execute_reply": "2023-01-29T07:21:44.119289Z",
     "shell.execute_reply.started": "2023-01-29T06:15:35.732199Z"
    },
    "papermill": {
     "duration": 49.549305,
     "end_time": "2023-01-29T07:21:44.120345",
     "exception": false,
     "start_time": "2023-01-29T07:20:54.571040",
     "status": "completed"
    },
    "tags": []
   },
   "outputs": [
    {
     "name": "stdout",
     "output_type": "stream",
     "text": [
      "Collecting pyspark\r\n",
      "  Downloading pyspark-3.3.1.tar.gz (281.4 MB)\r\n",
      "\u001b[K     |████████████████████████████████| 281.4 MB 34 kB/s \r\n",
      "\u001b[?25hCollecting py4j==0.10.9.5\r\n",
      "  Downloading py4j-0.10.9.5-py2.py3-none-any.whl (199 kB)\r\n",
      "\u001b[K     |████████████████████████████████| 199 kB 61.6 MB/s \r\n",
      "\u001b[?25hBuilding wheels for collected packages: pyspark\r\n",
      "  Building wheel for pyspark (setup.py) ... \u001b[?25l-\b \b\\\b \b|\b \b/\b \b-\b \b\\\b \b|\b \b/\b \b-\b \b\\\b \b|\b \b/\b \b-\b \b\\\b \b|\b \b/\b \b-\b \b\\\b \b|\b \b/\b \b-\b \b\\\b \b|\b \b/\b \b-\b \b\\\b \b|\b \b/\b \b-\b \b\\\b \b|\b \b/\b \b-\b \b\\\b \b|\b \b/\b \b-\b \b\\\b \b|\b \b/\b \b-\b \b\\\b \b|\b \b/\b \b-\b \b\\\b \b|\b \b/\b \b-\b \b\\\b \b|\b \b/\b \b-\b \b\\\b \b|\b \b/\b \b-\b \b\\\b \b|\b \b/\b \b-\b \b\\\b \b|\b \b/\b \b-\b \bdone\r\n",
      "\u001b[?25h  Created wheel for pyspark: filename=pyspark-3.3.1-py2.py3-none-any.whl size=281845515 sha256=00358303429e4bd540a9f8ac0d37cf3972137dee6258ec796901ee558329ae7c\r\n",
      "  Stored in directory: /root/.cache/pip/wheels/42/59/f5/79a5bf931714dcd201b26025347785f087370a10a3329a899c\r\n",
      "Successfully built pyspark\r\n",
      "Installing collected packages: py4j, pyspark\r\n",
      "Successfully installed py4j-0.10.9.5 pyspark-3.3.1\r\n",
      "Note: you may need to restart the kernel to use updated packages.\n"
     ]
    }
   ],
   "source": [
    "pip install pyspark"
   ]
  },
  {
   "cell_type": "code",
   "execution_count": 2,
   "id": "informative-heart",
   "metadata": {
    "execution": {
     "iopub.execute_input": "2023-01-29T07:21:44.413922Z",
     "iopub.status.busy": "2023-01-29T07:21:44.406779Z",
     "iopub.status.idle": "2023-01-29T07:21:44.465949Z",
     "shell.execute_reply": "2023-01-29T07:21:44.466590Z",
     "shell.execute_reply.started": "2023-01-29T06:17:04.133598Z"
    },
    "papermill": {
     "duration": 0.204677,
     "end_time": "2023-01-29T07:21:44.466787",
     "exception": false,
     "start_time": "2023-01-29T07:21:44.262110",
     "status": "completed"
    },
    "tags": []
   },
   "outputs": [],
   "source": [
    "from pyspark.sql import SparkSession"
   ]
  },
  {
   "cell_type": "code",
   "execution_count": 3,
   "id": "nutritional-beverage",
   "metadata": {
    "execution": {
     "iopub.execute_input": "2023-01-29T07:21:44.743516Z",
     "iopub.status.busy": "2023-01-29T07:21:44.742532Z",
     "iopub.status.idle": "2023-01-29T07:21:50.465342Z",
     "shell.execute_reply": "2023-01-29T07:21:50.464482Z",
     "shell.execute_reply.started": "2023-01-29T06:17:42.868034Z"
    },
    "papermill": {
     "duration": 5.863336,
     "end_time": "2023-01-29T07:21:50.465560",
     "exception": false,
     "start_time": "2023-01-29T07:21:44.602224",
     "status": "completed"
    },
    "tags": []
   },
   "outputs": [],
   "source": [
    "spark=SparkSession.builder.master(\"local[1]\").appName(\"spark\").getOrCreate()"
   ]
  },
  {
   "cell_type": "code",
   "execution_count": 4,
   "id": "informal-simple",
   "metadata": {
    "execution": {
     "iopub.execute_input": "2023-01-29T07:21:50.783063Z",
     "iopub.status.busy": "2023-01-29T07:21:50.781936Z",
     "iopub.status.idle": "2023-01-29T07:21:50.784504Z",
     "shell.execute_reply": "2023-01-29T07:21:50.785132Z",
     "shell.execute_reply.started": "2023-01-29T06:18:06.277566Z"
    },
    "papermill": {
     "duration": 0.153159,
     "end_time": "2023-01-29T07:21:50.785320",
     "exception": false,
     "start_time": "2023-01-29T07:21:50.632161",
     "status": "completed"
    },
    "tags": []
   },
   "outputs": [],
   "source": [
    "data=[1,2,3,4,5]"
   ]
  },
  {
   "cell_type": "code",
   "execution_count": 5,
   "id": "little-blind",
   "metadata": {
    "execution": {
     "iopub.execute_input": "2023-01-29T07:21:51.062511Z",
     "iopub.status.busy": "2023-01-29T07:21:51.061776Z",
     "iopub.status.idle": "2023-01-29T07:21:51.495443Z",
     "shell.execute_reply": "2023-01-29T07:21:51.494738Z",
     "shell.execute_reply.started": "2023-01-29T06:19:18.866568Z"
    },
    "papermill": {
     "duration": 0.574771,
     "end_time": "2023-01-29T07:21:51.495601",
     "exception": false,
     "start_time": "2023-01-29T07:21:50.920830",
     "status": "completed"
    },
    "tags": []
   },
   "outputs": [],
   "source": [
    "rdd=spark.sparkContext.parallelize(data)"
   ]
  },
  {
   "cell_type": "code",
   "execution_count": 6,
   "id": "joint-shaft",
   "metadata": {
    "execution": {
     "iopub.execute_input": "2023-01-29T07:21:51.769643Z",
     "iopub.status.busy": "2023-01-29T07:21:51.768585Z",
     "iopub.status.idle": "2023-01-29T07:21:52.427629Z",
     "shell.execute_reply": "2023-01-29T07:21:52.428602Z",
     "shell.execute_reply.started": "2023-01-29T06:19:22.017678Z"
    },
    "papermill": {
     "duration": 0.800405,
     "end_time": "2023-01-29T07:21:52.428889",
     "exception": false,
     "start_time": "2023-01-29T07:21:51.628484",
     "status": "completed"
    },
    "tags": []
   },
   "outputs": [
    {
     "data": {
      "text/plain": [
       "[1, 2, 3, 4, 5]"
      ]
     },
     "execution_count": 6,
     "metadata": {},
     "output_type": "execute_result"
    }
   ],
   "source": [
    "rdd.collect()"
   ]
  },
  {
   "cell_type": "code",
   "execution_count": null,
   "id": "sharp-calibration",
   "metadata": {
    "papermill": {
     "duration": 0.134999,
     "end_time": "2023-01-29T07:21:52.731426",
     "exception": false,
     "start_time": "2023-01-29T07:21:52.596427",
     "status": "completed"
    },
    "tags": []
   },
   "outputs": [],
   "source": []
  }
 ],
 "metadata": {
  "kernelspec": {
   "display_name": "Python 3",
   "language": "python",
   "name": "python3"
  },
  "language_info": {
   "codemirror_mode": {
    "name": "ipython",
    "version": 3
   },
   "file_extension": ".py",
   "mimetype": "text/x-python",
   "name": "python",
   "nbconvert_exporter": "python",
   "pygments_lexer": "ipython3",
   "version": "3.7.10"
  },
  "papermill": {
   "default_parameters": {},
   "duration": 67.896778,
   "end_time": "2023-01-29T07:21:54.199048",
   "environment_variables": {},
   "exception": null,
   "input_path": "__notebook__.ipynb",
   "output_path": "__notebook__.ipynb",
   "parameters": {},
   "start_time": "2023-01-29T07:20:46.302270",
   "version": "2.3.3"
  }
 },
 "nbformat": 4,
 "nbformat_minor": 5
}
