{
 "cells": [
  {
   "cell_type": "code",
   "execution_count": 1,
   "id": "toxic-prevention",
   "metadata": {
    "execution": {
     "iopub.execute_input": "2023-01-30T04:48:29.687072Z",
     "iopub.status.busy": "2023-01-30T04:48:29.685836Z",
     "iopub.status.idle": "2023-01-30T04:49:14.725442Z",
     "shell.execute_reply": "2023-01-30T04:49:14.724708Z",
     "shell.execute_reply.started": "2023-01-30T04:44:50.155521Z"
    },
    "papermill": {
     "duration": 45.058749,
     "end_time": "2023-01-30T04:49:14.725635",
     "exception": false,
     "start_time": "2023-01-30T04:48:29.666886",
     "status": "completed"
    },
    "tags": []
   },
   "outputs": [
    {
     "name": "stdout",
     "output_type": "stream",
     "text": [
      "Collecting pyspark\r\n",
      "  Downloading pyspark-3.3.1.tar.gz (281.4 MB)\r\n",
      "\u001b[K     |████████████████████████████████| 281.4 MB 34 kB/s \r\n",
      "\u001b[?25hCollecting py4j==0.10.9.5\r\n",
      "  Downloading py4j-0.10.9.5-py2.py3-none-any.whl (199 kB)\r\n",
      "\u001b[K     |████████████████████████████████| 199 kB 44.4 MB/s \r\n",
      "\u001b[?25hBuilding wheels for collected packages: pyspark\r\n",
      "  Building wheel for pyspark (setup.py) ... \u001b[?25l-\b \b\\\b \b|\b \b/\b \b-\b \b\\\b \b|\b \b/\b \b-\b \b\\\b \b|\b \b/\b \b-\b \b\\\b \b|\b \b/\b \b-\b \b\\\b \b|\b \b/\b \b-\b \b\\\b \b|\b \b/\b \b-\b \b\\\b \b|\b \b/\b \b-\b \b\\\b \b|\b \b/\b \b-\b \b\\\b \b|\b \b/\b \b-\b \b\\\b \b|\b \b/\b \b-\b \b\\\b \b|\b \b/\b \b-\b \b\\\b \b|\b \b/\b \b-\b \b\\\b \b|\b \b/\b \b-\b \b\\\b \b|\b \b/\b \b-\b \b\\\b \b|\b \b/\b \b-\b \b\\\b \b|\b \bdone\r\n",
      "\u001b[?25h  Created wheel for pyspark: filename=pyspark-3.3.1-py2.py3-none-any.whl size=281845515 sha256=8c4766def6cc94cec0d2634ba75253334321aaf45bb559220c857e160ce56e84\r\n",
      "  Stored in directory: /root/.cache/pip/wheels/42/59/f5/79a5bf931714dcd201b26025347785f087370a10a3329a899c\r\n",
      "Successfully built pyspark\r\n",
      "Installing collected packages: py4j, pyspark\r\n",
      "Successfully installed py4j-0.10.9.5 pyspark-3.3.1\r\n",
      "Note: you may need to restart the kernel to use updated packages.\n"
     ]
    }
   ],
   "source": [
    "pip install pyspark"
   ]
  },
  {
   "cell_type": "code",
   "execution_count": 2,
   "id": "satellite-duncan",
   "metadata": {
    "execution": {
     "iopub.execute_input": "2023-01-30T04:49:15.004881Z",
     "iopub.status.busy": "2023-01-30T04:49:15.004157Z",
     "iopub.status.idle": "2023-01-30T04:49:15.060613Z",
     "shell.execute_reply": "2023-01-30T04:49:15.060047Z",
     "shell.execute_reply.started": "2023-01-30T04:44:57.131417Z"
    },
    "papermill": {
     "duration": 0.199341,
     "end_time": "2023-01-30T04:49:15.060772",
     "exception": false,
     "start_time": "2023-01-30T04:49:14.861431",
     "status": "completed"
    },
    "tags": []
   },
   "outputs": [],
   "source": [
    "import pyspark"
   ]
  },
  {
   "cell_type": "code",
   "execution_count": 3,
   "id": "executive-disability",
   "metadata": {
    "execution": {
     "iopub.execute_input": "2023-01-30T04:49:15.325322Z",
     "iopub.status.busy": "2023-01-30T04:49:15.324636Z",
     "iopub.status.idle": "2023-01-30T04:49:15.326410Z",
     "shell.execute_reply": "2023-01-30T04:49:15.327018Z",
     "shell.execute_reply.started": "2023-01-30T04:44:57.137878Z"
    },
    "papermill": {
     "duration": 0.13667,
     "end_time": "2023-01-30T04:49:15.327204",
     "exception": false,
     "start_time": "2023-01-30T04:49:15.190534",
     "status": "completed"
    },
    "tags": []
   },
   "outputs": [],
   "source": [
    "from pyspark.sql import SparkSession"
   ]
  },
  {
   "cell_type": "code",
   "execution_count": 4,
   "id": "loose-arrangement",
   "metadata": {
    "execution": {
     "iopub.execute_input": "2023-01-30T04:49:15.591019Z",
     "iopub.status.busy": "2023-01-30T04:49:15.590012Z",
     "iopub.status.idle": "2023-01-30T04:49:21.213950Z",
     "shell.execute_reply": "2023-01-30T04:49:21.212769Z",
     "shell.execute_reply.started": "2023-01-30T04:44:57.150783Z"
    },
    "papermill": {
     "duration": 5.757392,
     "end_time": "2023-01-30T04:49:21.214153",
     "exception": false,
     "start_time": "2023-01-30T04:49:15.456761",
     "status": "completed"
    },
    "tags": []
   },
   "outputs": [],
   "source": [
    "spark =SparkSession.builder.appName('SparkByExamples.com').getOrCreate()"
   ]
  },
  {
   "cell_type": "code",
   "execution_count": 5,
   "id": "incredible-transmission",
   "metadata": {
    "execution": {
     "iopub.execute_input": "2023-01-30T04:49:21.490042Z",
     "iopub.status.busy": "2023-01-30T04:49:21.489347Z",
     "iopub.status.idle": "2023-01-30T04:49:21.492235Z",
     "shell.execute_reply": "2023-01-30T04:49:21.491661Z",
     "shell.execute_reply.started": "2023-01-30T04:44:57.168127Z"
    },
    "papermill": {
     "duration": 0.138419,
     "end_time": "2023-01-30T04:49:21.492390",
     "exception": false,
     "start_time": "2023-01-30T04:49:21.353971",
     "status": "completed"
    },
    "tags": []
   },
   "outputs": [],
   "source": [
    "data=[\n",
    "    ((\"F\",\"M\",\"L\"),1,100),\n",
    "    ((\"F\",\"M\",\"L\"),2,90),\n",
    "    ((\"F\",\"M\",\"L\"),3,70)\n",
    "]"
   ]
  },
  {
   "cell_type": "code",
   "execution_count": 6,
   "id": "interim-composer",
   "metadata": {
    "execution": {
     "iopub.execute_input": "2023-01-30T04:49:21.757941Z",
     "iopub.status.busy": "2023-01-30T04:49:21.757236Z",
     "iopub.status.idle": "2023-01-30T04:49:21.761232Z",
     "shell.execute_reply": "2023-01-30T04:49:21.761746Z",
     "shell.execute_reply.started": "2023-01-30T04:44:57.179296Z"
    },
    "papermill": {
     "duration": 0.138485,
     "end_time": "2023-01-30T04:49:21.761998",
     "exception": false,
     "start_time": "2023-01-30T04:49:21.623513",
     "status": "completed"
    },
    "tags": []
   },
   "outputs": [],
   "source": [
    "from pyspark.sql.types import StructType,StringType,IntegerType,StructField"
   ]
  },
  {
   "cell_type": "markdown",
   "id": "amber-routine",
   "metadata": {
    "papermill": {
     "duration": 0.129405,
     "end_time": "2023-01-30T04:49:22.021309",
     "exception": false,
     "start_time": "2023-01-30T04:49:21.891904",
     "status": "completed"
    },
    "tags": []
   },
   "source": [
    "# schema has a nested structure."
   ]
  },
  {
   "cell_type": "code",
   "execution_count": 7,
   "id": "bigger-practice",
   "metadata": {
    "execution": {
     "iopub.execute_input": "2023-01-30T04:49:22.282387Z",
     "iopub.status.busy": "2023-01-30T04:49:22.281693Z",
     "iopub.status.idle": "2023-01-30T04:49:22.286246Z",
     "shell.execute_reply": "2023-01-30T04:49:22.286805Z",
     "shell.execute_reply.started": "2023-01-30T04:44:57.191457Z"
    },
    "papermill": {
     "duration": 0.13684,
     "end_time": "2023-01-30T04:49:22.286977",
     "exception": false,
     "start_time": "2023-01-30T04:49:22.150137",
     "status": "completed"
    },
    "tags": []
   },
   "outputs": [],
   "source": [
    "schema=StructType([\n",
    "    StructField(\"name\",StructType([\n",
    "        StructField(\"First\",StringType(),True),\n",
    "        StructField(\"Middle\",StringType(),True),\n",
    "        StructField(\"last\",StringType(),True)\n",
    "    ])),\n",
    "    StructField(\"roll\",IntegerType(),True),\n",
    "    StructField(\"fees\",IntegerType(),True)\n",
    "])"
   ]
  },
  {
   "cell_type": "code",
   "execution_count": 8,
   "id": "historic-parish",
   "metadata": {
    "execution": {
     "iopub.execute_input": "2023-01-30T04:49:22.547222Z",
     "iopub.status.busy": "2023-01-30T04:49:22.546566Z",
     "iopub.status.idle": "2023-01-30T04:49:26.386581Z",
     "shell.execute_reply": "2023-01-30T04:49:26.385601Z",
     "shell.execute_reply.started": "2023-01-30T04:44:57.207083Z"
    },
    "papermill": {
     "duration": 3.971708,
     "end_time": "2023-01-30T04:49:26.386807",
     "exception": false,
     "start_time": "2023-01-30T04:49:22.415099",
     "status": "completed"
    },
    "tags": []
   },
   "outputs": [],
   "source": [
    "df5=spark.createDataFrame(data=data,schema=schema)"
   ]
  },
  {
   "cell_type": "code",
   "execution_count": 9,
   "id": "proper-party",
   "metadata": {
    "execution": {
     "iopub.execute_input": "2023-01-30T04:49:26.674663Z",
     "iopub.status.busy": "2023-01-30T04:49:26.673648Z",
     "iopub.status.idle": "2023-01-30T04:49:29.337619Z",
     "shell.execute_reply": "2023-01-30T04:49:29.336938Z",
     "shell.execute_reply.started": "2023-01-30T04:44:57.263936Z"
    },
    "papermill": {
     "duration": 2.807988,
     "end_time": "2023-01-30T04:49:29.337781",
     "exception": false,
     "start_time": "2023-01-30T04:49:26.529793",
     "status": "completed"
    },
    "tags": []
   },
   "outputs": [
    {
     "name": "stdout",
     "output_type": "stream",
     "text": [
      "+---------+----+----+\n",
      "|     name|roll|fees|\n",
      "+---------+----+----+\n",
      "|{F, M, L}|   1| 100|\n",
      "|{F, M, L}|   2|  90|\n",
      "|{F, M, L}|   3|  70|\n",
      "+---------+----+----+\n",
      "\n"
     ]
    }
   ],
   "source": [
    "df5.show()"
   ]
  },
  {
   "cell_type": "code",
   "execution_count": 10,
   "id": "external-course",
   "metadata": {
    "execution": {
     "iopub.execute_input": "2023-01-30T04:49:29.601365Z",
     "iopub.status.busy": "2023-01-30T04:49:29.600691Z",
     "iopub.status.idle": "2023-01-30T04:49:29.620097Z",
     "shell.execute_reply": "2023-01-30T04:49:29.619177Z",
     "shell.execute_reply.started": "2023-01-30T04:44:57.562831Z"
    },
    "papermill": {
     "duration": 0.153444,
     "end_time": "2023-01-30T04:49:29.620312",
     "exception": false,
     "start_time": "2023-01-30T04:49:29.466868",
     "status": "completed"
    },
    "tags": []
   },
   "outputs": [
    {
     "name": "stdout",
     "output_type": "stream",
     "text": [
      "root\n",
      " |-- name: struct (nullable = true)\n",
      " |    |-- First: string (nullable = true)\n",
      " |    |-- Middle: string (nullable = true)\n",
      " |    |-- last: string (nullable = true)\n",
      " |-- roll: integer (nullable = true)\n",
      " |-- fees: integer (nullable = true)\n",
      "\n"
     ]
    }
   ],
   "source": [
    "df5.printSchema()"
   ]
  },
  {
   "cell_type": "markdown",
   "id": "suffering-village",
   "metadata": {
    "papermill": {
     "duration": 0.129496,
     "end_time": "2023-01-30T04:49:29.882636",
     "exception": false,
     "start_time": "2023-01-30T04:49:29.753140",
     "status": "completed"
    },
    "tags": []
   },
   "source": [
    "# PySpark withColumnRenamed() "
   ]
  },
  {
   "cell_type": "code",
   "execution_count": 11,
   "id": "headed-heather",
   "metadata": {
    "execution": {
     "iopub.execute_input": "2023-01-30T04:49:30.146146Z",
     "iopub.status.busy": "2023-01-30T04:49:30.145466Z",
     "iopub.status.idle": "2023-01-30T04:49:30.166265Z",
     "shell.execute_reply": "2023-01-30T04:49:30.165687Z",
     "shell.execute_reply.started": "2023-01-30T04:45:22.418187Z"
    },
    "papermill": {
     "duration": 0.154319,
     "end_time": "2023-01-30T04:49:30.166431",
     "exception": false,
     "start_time": "2023-01-30T04:49:30.012112",
     "status": "completed"
    },
    "tags": []
   },
   "outputs": [],
   "source": [
    "df5=df5.withColumnRenamed(\"roll\",\"roll_no\")"
   ]
  },
  {
   "cell_type": "code",
   "execution_count": 12,
   "id": "suburban-recall",
   "metadata": {
    "execution": {
     "iopub.execute_input": "2023-01-30T04:49:30.431629Z",
     "iopub.status.busy": "2023-01-30T04:49:30.430613Z",
     "iopub.status.idle": "2023-01-30T04:49:30.749341Z",
     "shell.execute_reply": "2023-01-30T04:49:30.748167Z",
     "shell.execute_reply.started": "2023-01-30T04:45:24.414516Z"
    },
    "papermill": {
     "duration": 0.452744,
     "end_time": "2023-01-30T04:49:30.749579",
     "exception": false,
     "start_time": "2023-01-30T04:49:30.296835",
     "status": "completed"
    },
    "tags": []
   },
   "outputs": [
    {
     "name": "stdout",
     "output_type": "stream",
     "text": [
      "+---------+-------+----+\n",
      "|     name|roll_no|fees|\n",
      "+---------+-------+----+\n",
      "|{F, M, L}|      1| 100|\n",
      "|{F, M, L}|      2|  90|\n",
      "|{F, M, L}|      3|  70|\n",
      "+---------+-------+----+\n",
      "\n"
     ]
    }
   ],
   "source": [
    "df5.show()"
   ]
  },
  {
   "cell_type": "code",
   "execution_count": 13,
   "id": "adequate-coalition",
   "metadata": {
    "execution": {
     "iopub.execute_input": "2023-01-30T04:49:31.109614Z",
     "iopub.status.busy": "2023-01-30T04:49:31.108620Z",
     "iopub.status.idle": "2023-01-30T04:49:31.113980Z",
     "shell.execute_reply": "2023-01-30T04:49:31.112933Z",
     "shell.execute_reply.started": "2023-01-30T04:45:34.095259Z"
    },
    "papermill": {
     "duration": 0.191111,
     "end_time": "2023-01-30T04:49:31.114202",
     "exception": false,
     "start_time": "2023-01-30T04:49:30.923091",
     "status": "completed"
    },
    "tags": []
   },
   "outputs": [
    {
     "name": "stdout",
     "output_type": "stream",
     "text": [
      "root\n",
      " |-- name: struct (nullable = true)\n",
      " |    |-- First: string (nullable = true)\n",
      " |    |-- Middle: string (nullable = true)\n",
      " |    |-- last: string (nullable = true)\n",
      " |-- roll_no: integer (nullable = true)\n",
      " |-- fees: integer (nullable = true)\n",
      "\n"
     ]
    }
   ],
   "source": [
    "df5.printSchema()"
   ]
  },
  {
   "cell_type": "markdown",
   "id": "combined-pennsylvania",
   "metadata": {
    "papermill": {
     "duration": 0.140761,
     "end_time": "2023-01-30T04:49:31.440189",
     "exception": false,
     "start_time": "2023-01-30T04:49:31.299428",
     "status": "completed"
    },
    "tags": []
   },
   "source": [
    "# To rename multiple columns"
   ]
  },
  {
   "cell_type": "code",
   "execution_count": 14,
   "id": "reduced-silver",
   "metadata": {
    "execution": {
     "iopub.execute_input": "2023-01-30T04:49:31.705123Z",
     "iopub.status.busy": "2023-01-30T04:49:31.704459Z",
     "iopub.status.idle": "2023-01-30T04:49:31.728713Z",
     "shell.execute_reply": "2023-01-30T04:49:31.727828Z",
     "shell.execute_reply.started": "2023-01-30T04:47:55.165469Z"
    },
    "papermill": {
     "duration": 0.157725,
     "end_time": "2023-01-30T04:49:31.728942",
     "exception": false,
     "start_time": "2023-01-30T04:49:31.571217",
     "status": "completed"
    },
    "tags": []
   },
   "outputs": [],
   "source": [
    "df5=df5.withColumnRenamed(\"fees\",\"total_fees\")\\\n",
    ".withColumnRenamed(\"name\",\"Full_name\")"
   ]
  },
  {
   "cell_type": "code",
   "execution_count": 15,
   "id": "compound-shelf",
   "metadata": {
    "execution": {
     "iopub.execute_input": "2023-01-30T04:49:32.004892Z",
     "iopub.status.busy": "2023-01-30T04:49:32.003818Z",
     "iopub.status.idle": "2023-01-30T04:49:32.285507Z",
     "shell.execute_reply": "2023-01-30T04:49:32.284458Z",
     "shell.execute_reply.started": "2023-01-30T04:48:01.157762Z"
    },
    "papermill": {
     "duration": 0.420284,
     "end_time": "2023-01-30T04:49:32.285724",
     "exception": false,
     "start_time": "2023-01-30T04:49:31.865440",
     "status": "completed"
    },
    "tags": []
   },
   "outputs": [
    {
     "name": "stdout",
     "output_type": "stream",
     "text": [
      "+---------+-------+----------+\n",
      "|Full_name|roll_no|total_fees|\n",
      "+---------+-------+----------+\n",
      "|{F, M, L}|      1|       100|\n",
      "|{F, M, L}|      2|        90|\n",
      "|{F, M, L}|      3|        70|\n",
      "+---------+-------+----------+\n",
      "\n"
     ]
    }
   ],
   "source": [
    "df5.show()"
   ]
  },
  {
   "cell_type": "code",
   "execution_count": null,
   "id": "subject-sunglasses",
   "metadata": {
    "papermill": {
     "duration": 0.134415,
     "end_time": "2023-01-30T04:49:32.566982",
     "exception": false,
     "start_time": "2023-01-30T04:49:32.432567",
     "status": "completed"
    },
    "tags": []
   },
   "outputs": [],
   "source": []
  }
 ],
 "metadata": {
  "kernelspec": {
   "display_name": "Python 3",
   "language": "python",
   "name": "python3"
  },
  "language_info": {
   "codemirror_mode": {
    "name": "ipython",
    "version": 3
   },
   "file_extension": ".py",
   "mimetype": "text/x-python",
   "name": "python",
   "nbconvert_exporter": "python",
   "pygments_lexer": "ipython3",
   "version": "3.7.10"
  },
  "papermill": {
   "default_parameters": {},
   "duration": 71.827018,
   "end_time": "2023-01-30T04:49:33.521365",
   "environment_variables": {},
   "exception": null,
   "input_path": "__notebook__.ipynb",
   "output_path": "__notebook__.ipynb",
   "parameters": {},
   "start_time": "2023-01-30T04:48:21.694347",
   "version": "2.3.3"
  }
 },
 "nbformat": 4,
 "nbformat_minor": 5
}
