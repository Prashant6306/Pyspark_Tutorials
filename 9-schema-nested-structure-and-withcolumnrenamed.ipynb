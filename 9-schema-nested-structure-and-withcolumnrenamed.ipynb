{
 "cells": [
  {
   "cell_type": "code",
   "execution_count": 1,
   "id": "ancient-squad",
   "metadata": {
    "execution": {
     "iopub.execute_input": "2023-01-30T04:46:16.047527Z",
     "iopub.status.busy": "2023-01-30T04:46:16.045878Z",
     "iopub.status.idle": "2023-01-30T04:47:07.713534Z",
     "shell.execute_reply": "2023-01-30T04:47:07.712818Z",
     "shell.execute_reply.started": "2023-01-30T04:44:50.155521Z"
    },
    "papermill": {
     "duration": 51.685729,
     "end_time": "2023-01-30T04:47:07.713761",
     "exception": false,
     "start_time": "2023-01-30T04:46:16.028032",
     "status": "completed"
    },
    "tags": []
   },
   "outputs": [
    {
     "name": "stdout",
     "output_type": "stream",
     "text": [
      "Collecting pyspark\r\n",
      "  Downloading pyspark-3.3.1.tar.gz (281.4 MB)\r\n",
      "\u001b[K     |████████████████████████████████| 281.4 MB 34 kB/s \r\n",
      "\u001b[?25hCollecting py4j==0.10.9.5\r\n",
      "  Downloading py4j-0.10.9.5-py2.py3-none-any.whl (199 kB)\r\n",
      "\u001b[K     |████████████████████████████████| 199 kB 34.9 MB/s \r\n",
      "\u001b[?25hBuilding wheels for collected packages: pyspark\r\n",
      "  Building wheel for pyspark (setup.py) ... \u001b[?25l-\b \b\\\b \b|\b \b/\b \b-\b \b\\\b \b|\b \b/\b \b-\b \b\\\b \b|\b \b/\b \b-\b \b\\\b \b|\b \b/\b \b-\b \b\\\b \b|\b \b/\b \b-\b \b\\\b \b|\b \b/\b \b-\b \b\\\b \b|\b \b/\b \b-\b \b\\\b \b|\b \b/\b \b-\b \b\\\b \b|\b \b/\b \b-\b \b\\\b \b|\b \b/\b \b-\b \b\\\b \b|\b \b/\b \b-\b \b\\\b \b|\b \b/\b \b-\b \b\\\b \b|\b \b/\b \b-\b \b\\\b \b|\b \b/\b \b-\b \b\\\b \b|\b \b/\b \b-\b \b\\\b \b|\b \b/\b \bdone\r\n",
      "\u001b[?25h  Created wheel for pyspark: filename=pyspark-3.3.1-py2.py3-none-any.whl size=281845515 sha256=e9a6a05137a4f2a9b9a516afe39a56f1062107da9703b68d4f3b10acddffa6d2\r\n",
      "  Stored in directory: /root/.cache/pip/wheels/42/59/f5/79a5bf931714dcd201b26025347785f087370a10a3329a899c\r\n",
      "Successfully built pyspark\r\n",
      "Installing collected packages: py4j, pyspark\r\n",
      "Successfully installed py4j-0.10.9.5 pyspark-3.3.1\r\n",
      "Note: you may need to restart the kernel to use updated packages.\n"
     ]
    }
   ],
   "source": [
    "pip install pyspark"
   ]
  },
  {
   "cell_type": "code",
   "execution_count": 2,
   "id": "hydraulic-gibraltar",
   "metadata": {
    "execution": {
     "iopub.execute_input": "2023-01-30T04:47:08.012148Z",
     "iopub.status.busy": "2023-01-30T04:47:08.011155Z",
     "iopub.status.idle": "2023-01-30T04:47:08.076941Z",
     "shell.execute_reply": "2023-01-30T04:47:08.075990Z",
     "shell.execute_reply.started": "2023-01-30T04:44:57.131417Z"
    },
    "papermill": {
     "duration": 0.217985,
     "end_time": "2023-01-30T04:47:08.077163",
     "exception": false,
     "start_time": "2023-01-30T04:47:07.859178",
     "status": "completed"
    },
    "tags": []
   },
   "outputs": [],
   "source": [
    "import pyspark"
   ]
  },
  {
   "cell_type": "code",
   "execution_count": 3,
   "id": "forty-joining",
   "metadata": {
    "execution": {
     "iopub.execute_input": "2023-01-30T04:47:08.367143Z",
     "iopub.status.busy": "2023-01-30T04:47:08.365259Z",
     "iopub.status.idle": "2023-01-30T04:47:08.369288Z",
     "shell.execute_reply": "2023-01-30T04:47:08.369858Z",
     "shell.execute_reply.started": "2023-01-30T04:44:57.137878Z"
    },
    "papermill": {
     "duration": 0.149769,
     "end_time": "2023-01-30T04:47:08.370056",
     "exception": false,
     "start_time": "2023-01-30T04:47:08.220287",
     "status": "completed"
    },
    "tags": []
   },
   "outputs": [],
   "source": [
    "from pyspark.sql import SparkSession"
   ]
  },
  {
   "cell_type": "code",
   "execution_count": 4,
   "id": "accurate-wheat",
   "metadata": {
    "execution": {
     "iopub.execute_input": "2023-01-30T04:47:08.667665Z",
     "iopub.status.busy": "2023-01-30T04:47:08.665115Z",
     "iopub.status.idle": "2023-01-30T04:47:15.048559Z",
     "shell.execute_reply": "2023-01-30T04:47:15.046891Z",
     "shell.execute_reply.started": "2023-01-30T04:44:57.150783Z"
    },
    "papermill": {
     "duration": 6.533019,
     "end_time": "2023-01-30T04:47:15.048863",
     "exception": false,
     "start_time": "2023-01-30T04:47:08.515844",
     "status": "completed"
    },
    "tags": []
   },
   "outputs": [],
   "source": [
    "spark =SparkSession.builder.appName('SparkByExamples.com').getOrCreate()"
   ]
  },
  {
   "cell_type": "code",
   "execution_count": 5,
   "id": "necessary-criticism",
   "metadata": {
    "execution": {
     "iopub.execute_input": "2023-01-30T04:47:15.349443Z",
     "iopub.status.busy": "2023-01-30T04:47:15.348282Z",
     "iopub.status.idle": "2023-01-30T04:47:15.351112Z",
     "shell.execute_reply": "2023-01-30T04:47:15.351661Z",
     "shell.execute_reply.started": "2023-01-30T04:44:57.168127Z"
    },
    "papermill": {
     "duration": 0.157439,
     "end_time": "2023-01-30T04:47:15.351859",
     "exception": false,
     "start_time": "2023-01-30T04:47:15.194420",
     "status": "completed"
    },
    "tags": []
   },
   "outputs": [],
   "source": [
    "data=[\n",
    "    ((\"F\",\"M\",\"L\"),1,100),\n",
    "    ((\"F\",\"M\",\"L\"),2,90),\n",
    "    ((\"F\",\"M\",\"L\"),3,70)\n",
    "]"
   ]
  },
  {
   "cell_type": "code",
   "execution_count": 6,
   "id": "unavailable-blogger",
   "metadata": {
    "execution": {
     "iopub.execute_input": "2023-01-30T04:47:15.641181Z",
     "iopub.status.busy": "2023-01-30T04:47:15.640474Z",
     "iopub.status.idle": "2023-01-30T04:47:15.645514Z",
     "shell.execute_reply": "2023-01-30T04:47:15.646111Z",
     "shell.execute_reply.started": "2023-01-30T04:44:57.179296Z"
    },
    "papermill": {
     "duration": 0.147078,
     "end_time": "2023-01-30T04:47:15.646309",
     "exception": false,
     "start_time": "2023-01-30T04:47:15.499231",
     "status": "completed"
    },
    "tags": []
   },
   "outputs": [],
   "source": [
    "from pyspark.sql.types import StructType,StringType,IntegerType,StructField"
   ]
  },
  {
   "cell_type": "markdown",
   "id": "binary-disorder",
   "metadata": {
    "papermill": {
     "duration": 0.141062,
     "end_time": "2023-01-30T04:47:15.928112",
     "exception": false,
     "start_time": "2023-01-30T04:47:15.787050",
     "status": "completed"
    },
    "tags": []
   },
   "source": [
    "# schema has a nested structure."
   ]
  },
  {
   "cell_type": "code",
   "execution_count": 7,
   "id": "worse-software",
   "metadata": {
    "execution": {
     "iopub.execute_input": "2023-01-30T04:47:16.216277Z",
     "iopub.status.busy": "2023-01-30T04:47:16.215551Z",
     "iopub.status.idle": "2023-01-30T04:47:16.218793Z",
     "shell.execute_reply": "2023-01-30T04:47:16.219321Z",
     "shell.execute_reply.started": "2023-01-30T04:44:57.191457Z"
    },
    "papermill": {
     "duration": 0.151871,
     "end_time": "2023-01-30T04:47:16.219642",
     "exception": false,
     "start_time": "2023-01-30T04:47:16.067771",
     "status": "completed"
    },
    "tags": []
   },
   "outputs": [],
   "source": [
    "schema=StructType([\n",
    "    StructField(\"name\",StructType([\n",
    "        StructField(\"First\",StringType(),True),\n",
    "        StructField(\"Middle\",StringType(),True),\n",
    "        StructField(\"last\",StringType(),True)\n",
    "    ])),\n",
    "    StructField(\"roll\",IntegerType(),True),\n",
    "    StructField(\"fees\",IntegerType(),True)\n",
    "])"
   ]
  },
  {
   "cell_type": "code",
   "execution_count": 8,
   "id": "green-mixture",
   "metadata": {
    "execution": {
     "iopub.execute_input": "2023-01-30T04:47:16.524772Z",
     "iopub.status.busy": "2023-01-30T04:47:16.522678Z",
     "iopub.status.idle": "2023-01-30T04:47:20.943377Z",
     "shell.execute_reply": "2023-01-30T04:47:20.942670Z",
     "shell.execute_reply.started": "2023-01-30T04:44:57.207083Z"
    },
    "papermill": {
     "duration": 4.57404,
     "end_time": "2023-01-30T04:47:20.943534",
     "exception": false,
     "start_time": "2023-01-30T04:47:16.369494",
     "status": "completed"
    },
    "tags": []
   },
   "outputs": [],
   "source": [
    "df5=spark.createDataFrame(data=data,schema=schema)"
   ]
  },
  {
   "cell_type": "code",
   "execution_count": 9,
   "id": "generous-building",
   "metadata": {
    "execution": {
     "iopub.execute_input": "2023-01-30T04:47:21.249077Z",
     "iopub.status.busy": "2023-01-30T04:47:21.247368Z",
     "iopub.status.idle": "2023-01-30T04:47:24.479426Z",
     "shell.execute_reply": "2023-01-30T04:47:24.478525Z",
     "shell.execute_reply.started": "2023-01-30T04:44:57.263936Z"
    },
    "papermill": {
     "duration": 3.373623,
     "end_time": "2023-01-30T04:47:24.479625",
     "exception": false,
     "start_time": "2023-01-30T04:47:21.106002",
     "status": "completed"
    },
    "tags": []
   },
   "outputs": [
    {
     "name": "stdout",
     "output_type": "stream",
     "text": [
      "+---------+----+----+\n",
      "|     name|roll|fees|\n",
      "+---------+----+----+\n",
      "|{F, M, L}|   1| 100|\n",
      "|{F, M, L}|   2|  90|\n",
      "|{F, M, L}|   3|  70|\n",
      "+---------+----+----+\n",
      "\n"
     ]
    }
   ],
   "source": [
    "df5.show()"
   ]
  },
  {
   "cell_type": "code",
   "execution_count": 10,
   "id": "continent-north",
   "metadata": {
    "execution": {
     "iopub.execute_input": "2023-01-30T04:47:24.766470Z",
     "iopub.status.busy": "2023-01-30T04:47:24.765788Z",
     "iopub.status.idle": "2023-01-30T04:47:24.785907Z",
     "shell.execute_reply": "2023-01-30T04:47:24.786848Z",
     "shell.execute_reply.started": "2023-01-30T04:44:57.562831Z"
    },
    "papermill": {
     "duration": 0.167826,
     "end_time": "2023-01-30T04:47:24.787118",
     "exception": false,
     "start_time": "2023-01-30T04:47:24.619292",
     "status": "completed"
    },
    "tags": []
   },
   "outputs": [
    {
     "name": "stdout",
     "output_type": "stream",
     "text": [
      "root\n",
      " |-- name: struct (nullable = true)\n",
      " |    |-- First: string (nullable = true)\n",
      " |    |-- Middle: string (nullable = true)\n",
      " |    |-- last: string (nullable = true)\n",
      " |-- roll: integer (nullable = true)\n",
      " |-- fees: integer (nullable = true)\n",
      "\n"
     ]
    }
   ],
   "source": [
    "df5.printSchema()"
   ]
  },
  {
   "cell_type": "markdown",
   "id": "dated-learning",
   "metadata": {
    "papermill": {
     "duration": 0.140954,
     "end_time": "2023-01-30T04:47:25.067301",
     "exception": false,
     "start_time": "2023-01-30T04:47:24.926347",
     "status": "completed"
    },
    "tags": []
   },
   "source": [
    "# PySpark withColumnRenamed() "
   ]
  },
  {
   "cell_type": "code",
   "execution_count": 11,
   "id": "manual-encounter",
   "metadata": {
    "execution": {
     "iopub.execute_input": "2023-01-30T04:47:25.364727Z",
     "iopub.status.busy": "2023-01-30T04:47:25.363776Z",
     "iopub.status.idle": "2023-01-30T04:47:25.383719Z",
     "shell.execute_reply": "2023-01-30T04:47:25.384305Z",
     "shell.execute_reply.started": "2023-01-30T04:45:22.418187Z"
    },
    "papermill": {
     "duration": 0.179639,
     "end_time": "2023-01-30T04:47:25.384530",
     "exception": false,
     "start_time": "2023-01-30T04:47:25.204891",
     "status": "completed"
    },
    "tags": []
   },
   "outputs": [],
   "source": [
    "df5=df5.withColumnRenamed(\"roll\",\"roll_no\")"
   ]
  },
  {
   "cell_type": "code",
   "execution_count": 12,
   "id": "drawn-physiology",
   "metadata": {
    "execution": {
     "iopub.execute_input": "2023-01-30T04:47:25.664537Z",
     "iopub.status.busy": "2023-01-30T04:47:25.663486Z",
     "iopub.status.idle": "2023-01-30T04:47:25.990224Z",
     "shell.execute_reply": "2023-01-30T04:47:25.989006Z",
     "shell.execute_reply.started": "2023-01-30T04:45:24.414516Z"
    },
    "papermill": {
     "duration": 0.468252,
     "end_time": "2023-01-30T04:47:25.990511",
     "exception": false,
     "start_time": "2023-01-30T04:47:25.522259",
     "status": "completed"
    },
    "tags": []
   },
   "outputs": [
    {
     "name": "stdout",
     "output_type": "stream",
     "text": [
      "+---------+-------+----+\n",
      "|     name|roll_no|fees|\n",
      "+---------+-------+----+\n",
      "|{F, M, L}|      1| 100|\n",
      "|{F, M, L}|      2|  90|\n",
      "|{F, M, L}|      3|  70|\n",
      "+---------+-------+----+\n",
      "\n"
     ]
    }
   ],
   "source": [
    "df5.show()"
   ]
  },
  {
   "cell_type": "code",
   "execution_count": 13,
   "id": "impossible-means",
   "metadata": {
    "execution": {
     "iopub.execute_input": "2023-01-30T04:47:26.317191Z",
     "iopub.status.busy": "2023-01-30T04:47:26.315770Z",
     "iopub.status.idle": "2023-01-30T04:47:26.322796Z",
     "shell.execute_reply": "2023-01-30T04:47:26.323775Z",
     "shell.execute_reply.started": "2023-01-30T04:45:34.095259Z"
    },
    "papermill": {
     "duration": 0.164719,
     "end_time": "2023-01-30T04:47:26.324114",
     "exception": false,
     "start_time": "2023-01-30T04:47:26.159395",
     "status": "completed"
    },
    "tags": []
   },
   "outputs": [
    {
     "name": "stdout",
     "output_type": "stream",
     "text": [
      "root\n",
      " |-- name: struct (nullable = true)\n",
      " |    |-- First: string (nullable = true)\n",
      " |    |-- Middle: string (nullable = true)\n",
      " |    |-- last: string (nullable = true)\n",
      " |-- roll_no: integer (nullable = true)\n",
      " |-- fees: integer (nullable = true)\n",
      "\n"
     ]
    }
   ],
   "source": [
    "df5.printSchema()"
   ]
  },
  {
   "cell_type": "code",
   "execution_count": null,
   "id": "exclusive-greensboro",
   "metadata": {
    "papermill": {
     "duration": 0.14149,
     "end_time": "2023-01-30T04:47:26.609050",
     "exception": false,
     "start_time": "2023-01-30T04:47:26.467560",
     "status": "completed"
    },
    "tags": []
   },
   "outputs": [],
   "source": []
  }
 ],
 "metadata": {
  "kernelspec": {
   "display_name": "Python 3",
   "language": "python",
   "name": "python3"
  },
  "language_info": {
   "codemirror_mode": {
    "name": "ipython",
    "version": 3
   },
   "file_extension": ".py",
   "mimetype": "text/x-python",
   "name": "python",
   "nbconvert_exporter": "python",
   "pygments_lexer": "ipython3",
   "version": "3.7.10"
  },
  "papermill": {
   "default_parameters": {},
   "duration": 82.014539,
   "end_time": "2023-01-30T04:47:28.259920",
   "environment_variables": {},
   "exception": null,
   "input_path": "__notebook__.ipynb",
   "output_path": "__notebook__.ipynb",
   "parameters": {},
   "start_time": "2023-01-30T04:46:06.245381",
   "version": "2.3.3"
  }
 },
 "nbformat": 4,
 "nbformat_minor": 5
}
