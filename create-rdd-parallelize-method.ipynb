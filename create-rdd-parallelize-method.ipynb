{
 "cells": [
  {
   "cell_type": "code",
   "execution_count": 1,
   "id": "according-guard",
   "metadata": {
    "execution": {
     "iopub.execute_input": "2023-01-29T06:20:49.515584Z",
     "iopub.status.busy": "2023-01-29T06:20:49.501335Z",
     "iopub.status.idle": "2023-01-29T06:21:39.028985Z",
     "shell.execute_reply": "2023-01-29T06:21:39.028216Z",
     "shell.execute_reply.started": "2023-01-29T06:15:35.732199Z"
    },
    "papermill": {
     "duration": 49.545018,
     "end_time": "2023-01-29T06:21:39.029185",
     "exception": false,
     "start_time": "2023-01-29T06:20:49.484167",
     "status": "completed"
    },
    "tags": []
   },
   "outputs": [
    {
     "name": "stdout",
     "output_type": "stream",
     "text": [
      "Collecting pyspark\r\n",
      "  Downloading pyspark-3.3.1.tar.gz (281.4 MB)\r\n",
      "\u001b[K     |████████████████████████████████| 281.4 MB 33 kB/s \r\n",
      "\u001b[?25hCollecting py4j==0.10.9.5\r\n",
      "  Downloading py4j-0.10.9.5-py2.py3-none-any.whl (199 kB)\r\n",
      "\u001b[K     |████████████████████████████████| 199 kB 37.1 MB/s \r\n",
      "\u001b[?25hBuilding wheels for collected packages: pyspark\r\n",
      "  Building wheel for pyspark (setup.py) ... \u001b[?25l-\b \b\\\b \b|\b \b/\b \b-\b \b\\\b \b|\b \b/\b \b-\b \b\\\b \b|\b \b/\b \b-\b \b\\\b \b|\b \b/\b \b-\b \b\\\b \b|\b \b/\b \b-\b \b\\\b \b|\b \b/\b \b-\b \b\\\b \b|\b \b/\b \b-\b \b\\\b \b|\b \b/\b \b-\b \b\\\b \b|\b \b/\b \b-\b \b\\\b \b|\b \b/\b \b-\b \b\\\b \b|\b \b/\b \b-\b \b\\\b \b|\b \b/\b \b-\b \b\\\b \b|\b \b/\b \b-\b \b\\\b \b|\b \b/\b \b-\b \b\\\b \b|\b \b/\b \b-\b \bdone\r\n",
      "\u001b[?25h  Created wheel for pyspark: filename=pyspark-3.3.1-py2.py3-none-any.whl size=281845515 sha256=2379096a9cafb50f81d79ad1eeec8b1efbe4e1a375fc0f0542d91e940bae402f\r\n",
      "  Stored in directory: /root/.cache/pip/wheels/42/59/f5/79a5bf931714dcd201b26025347785f087370a10a3329a899c\r\n",
      "Successfully built pyspark\r\n",
      "Installing collected packages: py4j, pyspark\r\n",
      "Successfully installed py4j-0.10.9.5 pyspark-3.3.1\r\n",
      "Note: you may need to restart the kernel to use updated packages.\n"
     ]
    }
   ],
   "source": [
    "pip install pyspark"
   ]
  },
  {
   "cell_type": "code",
   "execution_count": 2,
   "id": "mental-conference",
   "metadata": {
    "execution": {
     "iopub.execute_input": "2023-01-29T06:21:39.335616Z",
     "iopub.status.busy": "2023-01-29T06:21:39.334532Z",
     "iopub.status.idle": "2023-01-29T06:21:39.389914Z",
     "shell.execute_reply": "2023-01-29T06:21:39.389181Z",
     "shell.execute_reply.started": "2023-01-29T06:17:04.133598Z"
    },
    "papermill": {
     "duration": 0.212668,
     "end_time": "2023-01-29T06:21:39.390063",
     "exception": false,
     "start_time": "2023-01-29T06:21:39.177395",
     "status": "completed"
    },
    "tags": []
   },
   "outputs": [],
   "source": [
    "from pyspark.sql import SparkSession"
   ]
  },
  {
   "cell_type": "code",
   "execution_count": 3,
   "id": "popular-deficit",
   "metadata": {
    "execution": {
     "iopub.execute_input": "2023-01-29T06:21:39.684806Z",
     "iopub.status.busy": "2023-01-29T06:21:39.684120Z",
     "iopub.status.idle": "2023-01-29T06:21:45.308241Z",
     "shell.execute_reply": "2023-01-29T06:21:45.306263Z",
     "shell.execute_reply.started": "2023-01-29T06:17:42.868034Z"
    },
    "papermill": {
     "duration": 5.773979,
     "end_time": "2023-01-29T06:21:45.308515",
     "exception": false,
     "start_time": "2023-01-29T06:21:39.534536",
     "status": "completed"
    },
    "tags": []
   },
   "outputs": [],
   "source": [
    "spark=SparkSession.builder.master(\"local[1]\").appName(\"spark\").getOrCreate()"
   ]
  },
  {
   "cell_type": "code",
   "execution_count": 4,
   "id": "former-drilling",
   "metadata": {
    "execution": {
     "iopub.execute_input": "2023-01-29T06:21:45.607335Z",
     "iopub.status.busy": "2023-01-29T06:21:45.606582Z",
     "iopub.status.idle": "2023-01-29T06:21:45.610540Z",
     "shell.execute_reply": "2023-01-29T06:21:45.611086Z",
     "shell.execute_reply.started": "2023-01-29T06:18:06.277566Z"
    },
    "papermill": {
     "duration": 0.155151,
     "end_time": "2023-01-29T06:21:45.611259",
     "exception": false,
     "start_time": "2023-01-29T06:21:45.456108",
     "status": "completed"
    },
    "tags": []
   },
   "outputs": [],
   "source": [
    "data=[1,2,3,4,5]"
   ]
  },
  {
   "cell_type": "code",
   "execution_count": 5,
   "id": "protecting-indicator",
   "metadata": {
    "execution": {
     "iopub.execute_input": "2023-01-29T06:21:45.998969Z",
     "iopub.status.busy": "2023-01-29T06:21:45.998037Z",
     "iopub.status.idle": "2023-01-29T06:21:46.467459Z",
     "shell.execute_reply": "2023-01-29T06:21:46.466619Z",
     "shell.execute_reply.started": "2023-01-29T06:19:18.866568Z"
    },
    "papermill": {
     "duration": 0.687459,
     "end_time": "2023-01-29T06:21:46.467676",
     "exception": false,
     "start_time": "2023-01-29T06:21:45.780217",
     "status": "completed"
    },
    "tags": []
   },
   "outputs": [],
   "source": [
    "rdd=spark.sparkContext.parallelize(data)"
   ]
  },
  {
   "cell_type": "code",
   "execution_count": 6,
   "id": "accessory-affairs",
   "metadata": {
    "execution": {
     "iopub.execute_input": "2023-01-29T06:21:46.785392Z",
     "iopub.status.busy": "2023-01-29T06:21:46.784601Z",
     "iopub.status.idle": "2023-01-29T06:21:47.434218Z",
     "shell.execute_reply": "2023-01-29T06:21:47.434788Z",
     "shell.execute_reply.started": "2023-01-29T06:19:22.017678Z"
    },
    "papermill": {
     "duration": 0.805844,
     "end_time": "2023-01-29T06:21:47.435005",
     "exception": false,
     "start_time": "2023-01-29T06:21:46.629161",
     "status": "completed"
    },
    "tags": []
   },
   "outputs": [
    {
     "data": {
      "text/plain": [
       "[1, 2, 3, 4, 5]"
      ]
     },
     "execution_count": 6,
     "metadata": {},
     "output_type": "execute_result"
    }
   ],
   "source": [
    "rdd.collect()"
   ]
  },
  {
   "cell_type": "code",
   "execution_count": null,
   "id": "historical-peripheral",
   "metadata": {
    "papermill": {
     "duration": 0.146044,
     "end_time": "2023-01-29T06:21:47.729046",
     "exception": false,
     "start_time": "2023-01-29T06:21:47.583002",
     "status": "completed"
    },
    "tags": []
   },
   "outputs": [],
   "source": []
  }
 ],
 "metadata": {
  "kernelspec": {
   "display_name": "Python 3",
   "language": "python",
   "name": "python3"
  },
  "language_info": {
   "codemirror_mode": {
    "name": "ipython",
    "version": 3
   },
   "file_extension": ".py",
   "mimetype": "text/x-python",
   "name": "python",
   "nbconvert_exporter": "python",
   "pygments_lexer": "ipython3",
   "version": "3.7.10"
  },
  "papermill": {
   "default_parameters": {},
   "duration": 67.865027,
   "end_time": "2023-01-29T06:21:49.545757",
   "environment_variables": {},
   "exception": null,
   "input_path": "__notebook__.ipynb",
   "output_path": "__notebook__.ipynb",
   "parameters": {},
   "start_time": "2023-01-29T06:20:41.680730",
   "version": "2.3.3"
  }
 },
 "nbformat": 4,
 "nbformat_minor": 5
}
