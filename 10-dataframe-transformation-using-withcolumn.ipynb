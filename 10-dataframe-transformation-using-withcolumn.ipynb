{
 "cells": [
  {
   "cell_type": "code",
   "execution_count": 1,
   "id": "industrial-salem",
   "metadata": {
    "execution": {
     "iopub.execute_input": "2023-01-30T05:30:21.829002Z",
     "iopub.status.busy": "2023-01-30T05:30:21.827195Z",
     "iopub.status.idle": "2023-01-30T05:31:21.111943Z",
     "shell.execute_reply": "2023-01-30T05:31:21.112506Z",
     "shell.execute_reply.started": "2023-01-30T05:15:40.863791Z"
    },
    "papermill": {
     "duration": 59.314108,
     "end_time": "2023-01-30T05:31:21.112841",
     "exception": false,
     "start_time": "2023-01-30T05:30:21.798733",
     "status": "completed"
    },
    "tags": []
   },
   "outputs": [
    {
     "name": "stdout",
     "output_type": "stream",
     "text": [
      "Collecting pyspark\r\n",
      "  Downloading pyspark-3.3.1.tar.gz (281.4 MB)\r\n",
      "\u001b[K     |████████████████████████████████| 281.4 MB 34 kB/s \r\n",
      "\u001b[?25hCollecting py4j==0.10.9.5\r\n",
      "  Downloading py4j-0.10.9.5-py2.py3-none-any.whl (199 kB)\r\n",
      "\u001b[K     |████████████████████████████████| 199 kB 31.9 MB/s \r\n",
      "\u001b[?25hBuilding wheels for collected packages: pyspark\r\n",
      "  Building wheel for pyspark (setup.py) ... \u001b[?25l-\b \b\\\b \b|\b \b/\b \b-\b \b\\\b \b|\b \b/\b \b-\b \b\\\b \b|\b \b/\b \b-\b \b\\\b \b|\b \b/\b \b-\b \b\\\b \b|\b \b/\b \b-\b \b\\\b \b|\b \b/\b \b-\b \b\\\b \b|\b \b/\b \b-\b \b\\\b \b|\b \b/\b \b-\b \b\\\b \b|\b \b/\b \b-\b \b\\\b \b|\b \b/\b \b-\b \b\\\b \b|\b \b/\b \b-\b \b\\\b \b|\b \b/\b \b-\b \b\\\b \b|\b \b/\b \b-\b \b\\\b \b|\b \b/\b \b-\b \b\\\b \b|\b \b/\b \b-\b \bdone\r\n",
      "\u001b[?25h  Created wheel for pyspark: filename=pyspark-3.3.1-py2.py3-none-any.whl size=281845515 sha256=8cd1abc3a7a927ac1f22f2b43b4572096861c4b047cda4d90045faf10ec7e081\r\n",
      "  Stored in directory: /root/.cache/pip/wheels/42/59/f5/79a5bf931714dcd201b26025347785f087370a10a3329a899c\r\n",
      "Successfully built pyspark\r\n",
      "Installing collected packages: py4j, pyspark\r\n",
      "Successfully installed py4j-0.10.9.5 pyspark-3.3.1\r\n",
      "Note: you may need to restart the kernel to use updated packages.\n"
     ]
    }
   ],
   "source": [
    "pip install pyspark"
   ]
  },
  {
   "cell_type": "code",
   "execution_count": 2,
   "id": "major-hybrid",
   "metadata": {
    "execution": {
     "iopub.execute_input": "2023-01-30T05:31:21.539991Z",
     "iopub.status.busy": "2023-01-30T05:31:21.537977Z",
     "iopub.status.idle": "2023-01-30T05:31:21.594791Z",
     "shell.execute_reply": "2023-01-30T05:31:21.595380Z",
     "shell.execute_reply.started": "2023-01-30T05:15:47.739954Z"
    },
    "papermill": {
     "duration": 0.272092,
     "end_time": "2023-01-30T05:31:21.595579",
     "exception": false,
     "start_time": "2023-01-30T05:31:21.323487",
     "status": "completed"
    },
    "tags": []
   },
   "outputs": [],
   "source": [
    "import pyspark"
   ]
  },
  {
   "cell_type": "code",
   "execution_count": 3,
   "id": "whole-failing",
   "metadata": {
    "execution": {
     "iopub.execute_input": "2023-01-30T05:31:22.008568Z",
     "iopub.status.busy": "2023-01-30T05:31:22.007782Z",
     "iopub.status.idle": "2023-01-30T05:31:22.009863Z",
     "shell.execute_reply": "2023-01-30T05:31:22.010464Z",
     "shell.execute_reply.started": "2023-01-30T05:15:47.746928Z"
    },
    "papermill": {
     "duration": 0.21112,
     "end_time": "2023-01-30T05:31:22.010656",
     "exception": false,
     "start_time": "2023-01-30T05:31:21.799536",
     "status": "completed"
    },
    "tags": []
   },
   "outputs": [],
   "source": [
    "from pyspark.sql import SparkSession"
   ]
  },
  {
   "cell_type": "code",
   "execution_count": 4,
   "id": "absent-nursing",
   "metadata": {
    "execution": {
     "iopub.execute_input": "2023-01-30T05:31:22.437247Z",
     "iopub.status.busy": "2023-01-30T05:31:22.436522Z",
     "iopub.status.idle": "2023-01-30T05:31:28.277365Z",
     "shell.execute_reply": "2023-01-30T05:31:28.278785Z",
     "shell.execute_reply.started": "2023-01-30T05:15:47.761814Z"
    },
    "papermill": {
     "duration": 6.059183,
     "end_time": "2023-01-30T05:31:28.279056",
     "exception": false,
     "start_time": "2023-01-30T05:31:22.219873",
     "status": "completed"
    },
    "tags": []
   },
   "outputs": [],
   "source": [
    "spark =SparkSession.builder.appName('SparkByExamples.com').getOrCreate()\n"
   ]
  },
  {
   "cell_type": "code",
   "execution_count": 5,
   "id": "reverse-decade",
   "metadata": {
    "execution": {
     "iopub.execute_input": "2023-01-30T05:31:28.723908Z",
     "iopub.status.busy": "2023-01-30T05:31:28.723179Z",
     "iopub.status.idle": "2023-01-30T05:31:28.733430Z",
     "shell.execute_reply": "2023-01-30T05:31:28.734187Z",
     "shell.execute_reply.started": "2023-01-30T05:15:47.777633Z"
    },
    "papermill": {
     "duration": 0.2442,
     "end_time": "2023-01-30T05:31:28.734401",
     "exception": false,
     "start_time": "2023-01-30T05:31:28.490201",
     "status": "completed"
    },
    "tags": []
   },
   "outputs": [],
   "source": [
    "data =[('James','','Smith','1991-04-01','M',3000),\n",
    "('Michael','Rose','','2000-05-19','M',4000),\n",
    "('Robert','','Williams','1978-09-05','M',4000),\n",
    "('Maria','Anne','Jones','1967-12-01','F',4000)]"
   ]
  },
  {
   "cell_type": "code",
   "execution_count": 6,
   "id": "instrumental-animation",
   "metadata": {
    "execution": {
     "iopub.execute_input": "2023-01-30T05:31:29.265167Z",
     "iopub.status.busy": "2023-01-30T05:31:29.264410Z",
     "iopub.status.idle": "2023-01-30T05:31:29.271425Z",
     "shell.execute_reply": "2023-01-30T05:31:29.272011Z",
     "shell.execute_reply.started": "2023-01-30T05:15:47.790633Z"
    },
    "papermill": {
     "duration": 0.252268,
     "end_time": "2023-01-30T05:31:29.272232",
     "exception": false,
     "start_time": "2023-01-30T05:31:29.019964",
     "status": "completed"
    },
    "tags": []
   },
   "outputs": [],
   "source": [
    "columns =[\"firstname\",\"middlename\",\"lastname\",\"dob\",\"gender\",\"salary\"] "
   ]
  },
  {
   "cell_type": "code",
   "execution_count": 7,
   "id": "adult-involvement",
   "metadata": {
    "execution": {
     "iopub.execute_input": "2023-01-30T05:31:29.690527Z",
     "iopub.status.busy": "2023-01-30T05:31:29.689878Z",
     "iopub.status.idle": "2023-01-30T05:31:33.531152Z",
     "shell.execute_reply": "2023-01-30T05:31:33.530097Z",
     "shell.execute_reply.started": "2023-01-30T05:15:47.803420Z"
    },
    "papermill": {
     "duration": 4.04868,
     "end_time": "2023-01-30T05:31:33.531374",
     "exception": false,
     "start_time": "2023-01-30T05:31:29.482694",
     "status": "completed"
    },
    "tags": []
   },
   "outputs": [],
   "source": [
    "df=spark.createDataFrame(data,columns)"
   ]
  },
  {
   "cell_type": "code",
   "execution_count": 8,
   "id": "previous-marker",
   "metadata": {
    "execution": {
     "iopub.execute_input": "2023-01-30T05:31:33.951414Z",
     "iopub.status.busy": "2023-01-30T05:31:33.950436Z",
     "iopub.status.idle": "2023-01-30T05:31:36.758675Z",
     "shell.execute_reply": "2023-01-30T05:31:36.757076Z",
     "shell.execute_reply.started": "2023-01-30T05:15:47.855574Z"
    },
    "papermill": {
     "duration": 3.01742,
     "end_time": "2023-01-30T05:31:36.758977",
     "exception": false,
     "start_time": "2023-01-30T05:31:33.741557",
     "status": "completed"
    },
    "tags": []
   },
   "outputs": [
    {
     "name": "stdout",
     "output_type": "stream",
     "text": [
      "+---------+----------+--------+----------+------+------+\n",
      "|firstname|middlename|lastname|       dob|gender|salary|\n",
      "+---------+----------+--------+----------+------+------+\n",
      "|    James|          |   Smith|1991-04-01|     M|  3000|\n",
      "|  Michael|      Rose|        |2000-05-19|     M|  4000|\n",
      "|   Robert|          |Williams|1978-09-05|     M|  4000|\n",
      "|    Maria|      Anne|   Jones|1967-12-01|     F|  4000|\n",
      "+---------+----------+--------+----------+------+------+\n",
      "\n"
     ]
    }
   ],
   "source": [
    "df.show()"
   ]
  },
  {
   "cell_type": "code",
   "execution_count": 9,
   "id": "variable-queen",
   "metadata": {
    "execution": {
     "iopub.execute_input": "2023-01-30T05:31:37.227258Z",
     "iopub.status.busy": "2023-01-30T05:31:37.226259Z",
     "iopub.status.idle": "2023-01-30T05:31:37.243187Z",
     "shell.execute_reply": "2023-01-30T05:31:37.244113Z",
     "shell.execute_reply.started": "2023-01-30T05:15:48.054098Z"
    },
    "papermill": {
     "duration": 0.229548,
     "end_time": "2023-01-30T05:31:37.244411",
     "exception": false,
     "start_time": "2023-01-30T05:31:37.014863",
     "status": "completed"
    },
    "tags": []
   },
   "outputs": [
    {
     "name": "stdout",
     "output_type": "stream",
     "text": [
      "root\n",
      " |-- firstname: string (nullable = true)\n",
      " |-- middlename: string (nullable = true)\n",
      " |-- lastname: string (nullable = true)\n",
      " |-- dob: string (nullable = true)\n",
      " |-- gender: string (nullable = true)\n",
      " |-- salary: long (nullable = true)\n",
      "\n"
     ]
    }
   ],
   "source": [
    "df.printSchema()"
   ]
  },
  {
   "cell_type": "markdown",
   "id": "aware-february",
   "metadata": {
    "papermill": {
     "duration": 0.204218,
     "end_time": "2023-01-30T05:31:37.673075",
     "exception": false,
     "start_time": "2023-01-30T05:31:37.468857",
     "status": "completed"
    },
    "tags": []
   },
   "source": [
    "# 1.Change DataType using PySpark withColumn()"
   ]
  },
  {
   "cell_type": "code",
   "execution_count": 10,
   "id": "exclusive-tradition",
   "metadata": {
    "execution": {
     "iopub.execute_input": "2023-01-30T05:31:38.093084Z",
     "iopub.status.busy": "2023-01-30T05:31:38.092373Z",
     "iopub.status.idle": "2023-01-30T05:31:38.160074Z",
     "shell.execute_reply": "2023-01-30T05:31:38.160625Z",
     "shell.execute_reply.started": "2023-01-30T05:15:48.063101Z"
    },
    "papermill": {
     "duration": 0.278773,
     "end_time": "2023-01-30T05:31:38.160812",
     "exception": false,
     "start_time": "2023-01-30T05:31:37.882039",
     "status": "completed"
    },
    "tags": []
   },
   "outputs": [
    {
     "data": {
      "text/plain": [
       "DataFrame[firstname: string, middlename: string, lastname: string, dob: string, gender: string, salary: int]"
      ]
     },
     "execution_count": 10,
     "metadata": {},
     "output_type": "execute_result"
    }
   ],
   "source": [
    "df.withColumn(\"salary\",df[\"salary\"].cast(\"Integer\"))"
   ]
  },
  {
   "cell_type": "code",
   "execution_count": 11,
   "id": "geographic-producer",
   "metadata": {
    "execution": {
     "iopub.execute_input": "2023-01-30T05:31:38.585312Z",
     "iopub.status.busy": "2023-01-30T05:31:38.583998Z",
     "iopub.status.idle": "2023-01-30T05:31:38.591874Z",
     "shell.execute_reply": "2023-01-30T05:31:38.590824Z",
     "shell.execute_reply.started": "2023-01-30T05:15:48.084589Z"
    },
    "papermill": {
     "duration": 0.220729,
     "end_time": "2023-01-30T05:31:38.592170",
     "exception": false,
     "start_time": "2023-01-30T05:31:38.371441",
     "status": "completed"
    },
    "tags": []
   },
   "outputs": [
    {
     "name": "stdout",
     "output_type": "stream",
     "text": [
      "root\n",
      " |-- firstname: string (nullable = true)\n",
      " |-- middlename: string (nullable = true)\n",
      " |-- lastname: string (nullable = true)\n",
      " |-- dob: string (nullable = true)\n",
      " |-- gender: string (nullable = true)\n",
      " |-- salary: long (nullable = true)\n",
      "\n"
     ]
    }
   ],
   "source": [
    "df.printSchema()"
   ]
  },
  {
   "cell_type": "markdown",
   "id": "empirical-excuse",
   "metadata": {
    "papermill": {
     "duration": 0.204503,
     "end_time": "2023-01-30T05:31:39.002411",
     "exception": false,
     "start_time": "2023-01-30T05:31:38.797908",
     "status": "completed"
    },
    "tags": []
   },
   "source": [
    "# 2.\tUpdate The Value of an Existing Column"
   ]
  },
  {
   "cell_type": "code",
   "execution_count": 12,
   "id": "ruled-bridges",
   "metadata": {
    "execution": {
     "iopub.execute_input": "2023-01-30T05:31:39.418963Z",
     "iopub.status.busy": "2023-01-30T05:31:39.418234Z",
     "iopub.status.idle": "2023-01-30T05:31:39.805379Z",
     "shell.execute_reply": "2023-01-30T05:31:39.802756Z",
     "shell.execute_reply.started": "2023-01-30T05:15:48.091687Z"
    },
    "papermill": {
     "duration": 0.597171,
     "end_time": "2023-01-30T05:31:39.805637",
     "exception": false,
     "start_time": "2023-01-30T05:31:39.208466",
     "status": "completed"
    },
    "tags": []
   },
   "outputs": [
    {
     "name": "stdout",
     "output_type": "stream",
     "text": [
      "+---------+----------+--------+----------+------+------+\n",
      "|firstname|middlename|lastname|       dob|gender|salary|\n",
      "+---------+----------+--------+----------+------+------+\n",
      "|    James|          |   Smith|1991-04-01|     M|  3000|\n",
      "|  Michael|      Rose|        |2000-05-19|     M|  4000|\n",
      "|   Robert|          |Williams|1978-09-05|     M|  4000|\n",
      "|    Maria|      Anne|   Jones|1967-12-01|     F|  4000|\n",
      "+---------+----------+--------+----------+------+------+\n",
      "\n"
     ]
    }
   ],
   "source": [
    "df.show()"
   ]
  },
  {
   "cell_type": "code",
   "execution_count": 13,
   "id": "phantom-upset",
   "metadata": {
    "execution": {
     "iopub.execute_input": "2023-01-30T05:31:40.291041Z",
     "iopub.status.busy": "2023-01-30T05:31:40.290071Z",
     "iopub.status.idle": "2023-01-30T05:31:40.357998Z",
     "shell.execute_reply": "2023-01-30T05:31:40.357327Z",
     "shell.execute_reply.started": "2023-01-30T05:15:48.281623Z"
    },
    "papermill": {
     "duration": 0.284075,
     "end_time": "2023-01-30T05:31:40.358236",
     "exception": false,
     "start_time": "2023-01-30T05:31:40.074161",
     "status": "completed"
    },
    "tags": []
   },
   "outputs": [],
   "source": [
    "df1=df.withColumn(\"salary\",df[\"salary\"]*100)"
   ]
  },
  {
   "cell_type": "code",
   "execution_count": 14,
   "id": "czech-announcement",
   "metadata": {
    "execution": {
     "iopub.execute_input": "2023-01-30T05:31:40.777597Z",
     "iopub.status.busy": "2023-01-30T05:31:40.776462Z",
     "iopub.status.idle": "2023-01-30T05:31:41.165988Z",
     "shell.execute_reply": "2023-01-30T05:31:41.164863Z",
     "shell.execute_reply.started": "2023-01-30T05:15:48.299826Z"
    },
    "papermill": {
     "duration": 0.599957,
     "end_time": "2023-01-30T05:31:41.166256",
     "exception": false,
     "start_time": "2023-01-30T05:31:40.566299",
     "status": "completed"
    },
    "tags": []
   },
   "outputs": [
    {
     "name": "stdout",
     "output_type": "stream",
     "text": [
      "+---------+----------+--------+----------+------+------+\n",
      "|firstname|middlename|lastname|       dob|gender|salary|\n",
      "+---------+----------+--------+----------+------+------+\n",
      "|    James|          |   Smith|1991-04-01|     M|300000|\n",
      "|  Michael|      Rose|        |2000-05-19|     M|400000|\n",
      "|   Robert|          |Williams|1978-09-05|     M|400000|\n",
      "|    Maria|      Anne|   Jones|1967-12-01|     F|400000|\n",
      "+---------+----------+--------+----------+------+------+\n",
      "\n"
     ]
    }
   ],
   "source": [
    "df1.show()"
   ]
  },
  {
   "cell_type": "markdown",
   "id": "ongoing-nurse",
   "metadata": {
    "papermill": {
     "duration": 0.211706,
     "end_time": "2023-01-30T05:31:41.589623",
     "exception": false,
     "start_time": "2023-01-30T05:31:41.377917",
     "status": "completed"
    },
    "tags": []
   },
   "source": [
    "# 3.\tCreate a Column from an Existing"
   ]
  },
  {
   "cell_type": "code",
   "execution_count": 15,
   "id": "auburn-services",
   "metadata": {
    "execution": {
     "iopub.execute_input": "2023-01-30T05:31:42.016465Z",
     "iopub.status.busy": "2023-01-30T05:31:42.015506Z",
     "iopub.status.idle": "2023-01-30T05:31:42.034358Z",
     "shell.execute_reply": "2023-01-30T05:31:42.033756Z",
     "shell.execute_reply.started": "2023-01-30T05:15:48.491274Z"
    },
    "papermill": {
     "duration": 0.229586,
     "end_time": "2023-01-30T05:31:42.034505",
     "exception": false,
     "start_time": "2023-01-30T05:31:41.804919",
     "status": "completed"
    },
    "tags": []
   },
   "outputs": [],
   "source": [
    "df2=df1.withColumn(\"copiedcolumn\",df1[\"salary\"]*1)"
   ]
  },
  {
   "cell_type": "code",
   "execution_count": 16,
   "id": "signed-january",
   "metadata": {
    "execution": {
     "iopub.execute_input": "2023-01-30T05:31:42.456563Z",
     "iopub.status.busy": "2023-01-30T05:31:42.455529Z",
     "iopub.status.idle": "2023-01-30T05:31:42.831399Z",
     "shell.execute_reply": "2023-01-30T05:31:42.830782Z",
     "shell.execute_reply.started": "2023-01-30T05:15:48.507375Z"
    },
    "papermill": {
     "duration": 0.587876,
     "end_time": "2023-01-30T05:31:42.831546",
     "exception": false,
     "start_time": "2023-01-30T05:31:42.243670",
     "status": "completed"
    },
    "tags": []
   },
   "outputs": [
    {
     "name": "stdout",
     "output_type": "stream",
     "text": [
      "+---------+----------+--------+----------+------+------+------------+\n",
      "|firstname|middlename|lastname|       dob|gender|salary|copiedcolumn|\n",
      "+---------+----------+--------+----------+------+------+------------+\n",
      "|    James|          |   Smith|1991-04-01|     M|300000|      300000|\n",
      "|  Michael|      Rose|        |2000-05-19|     M|400000|      400000|\n",
      "|   Robert|          |Williams|1978-09-05|     M|400000|      400000|\n",
      "|    Maria|      Anne|   Jones|1967-12-01|     F|400000|      400000|\n",
      "+---------+----------+--------+----------+------+------+------------+\n",
      "\n"
     ]
    }
   ],
   "source": [
    "df2.show()"
   ]
  },
  {
   "cell_type": "markdown",
   "id": "equipped-attitude",
   "metadata": {
    "papermill": {
     "duration": 0.212265,
     "end_time": "2023-01-30T05:31:43.258211",
     "exception": false,
     "start_time": "2023-01-30T05:31:43.045946",
     "status": "completed"
    },
    "tags": []
   },
   "source": [
    "# 4. Add a New Column using withColumn() and lit() function"
   ]
  },
  {
   "cell_type": "code",
   "execution_count": 17,
   "id": "collaborative-junior",
   "metadata": {
    "execution": {
     "iopub.execute_input": "2023-01-30T05:31:43.697794Z",
     "iopub.status.busy": "2023-01-30T05:31:43.697090Z",
     "iopub.status.idle": "2023-01-30T05:31:43.698946Z",
     "shell.execute_reply": "2023-01-30T05:31:43.699572Z",
     "shell.execute_reply.started": "2023-01-30T05:15:48.720731Z"
    },
    "papermill": {
     "duration": 0.216006,
     "end_time": "2023-01-30T05:31:43.699753",
     "exception": false,
     "start_time": "2023-01-30T05:31:43.483747",
     "status": "completed"
    },
    "tags": []
   },
   "outputs": [],
   "source": [
    "from pyspark.sql.functions import lit"
   ]
  },
  {
   "cell_type": "code",
   "execution_count": 18,
   "id": "danish-details",
   "metadata": {
    "execution": {
     "iopub.execute_input": "2023-01-30T05:31:44.138795Z",
     "iopub.status.busy": "2023-01-30T05:31:44.138021Z",
     "iopub.status.idle": "2023-01-30T05:31:44.164629Z",
     "shell.execute_reply": "2023-01-30T05:31:44.165471Z",
     "shell.execute_reply.started": "2023-01-30T05:15:48.733754Z"
    },
    "papermill": {
     "duration": 0.258844,
     "end_time": "2023-01-30T05:31:44.165736",
     "exception": false,
     "start_time": "2023-01-30T05:31:43.906892",
     "status": "completed"
    },
    "tags": []
   },
   "outputs": [],
   "source": [
    "df3=df2.withColumn(\"country\",lit(\"India\"))"
   ]
  },
  {
   "cell_type": "code",
   "execution_count": 19,
   "id": "military-diversity",
   "metadata": {
    "execution": {
     "iopub.execute_input": "2023-01-30T05:31:44.593159Z",
     "iopub.status.busy": "2023-01-30T05:31:44.592466Z",
     "iopub.status.idle": "2023-01-30T05:31:44.963617Z",
     "shell.execute_reply": "2023-01-30T05:31:44.961967Z",
     "shell.execute_reply.started": "2023-01-30T05:15:48.751691Z"
    },
    "papermill": {
     "duration": 0.585977,
     "end_time": "2023-01-30T05:31:44.964351",
     "exception": false,
     "start_time": "2023-01-30T05:31:44.378374",
     "status": "completed"
    },
    "tags": []
   },
   "outputs": [
    {
     "name": "stdout",
     "output_type": "stream",
     "text": [
      "+---------+----------+--------+----------+------+------+------------+-------+\n",
      "|firstname|middlename|lastname|       dob|gender|salary|copiedcolumn|country|\n",
      "+---------+----------+--------+----------+------+------+------------+-------+\n",
      "|    James|          |   Smith|1991-04-01|     M|300000|      300000|  India|\n",
      "|  Michael|      Rose|        |2000-05-19|     M|400000|      400000|  India|\n",
      "|   Robert|          |Williams|1978-09-05|     M|400000|      400000|  India|\n",
      "|    Maria|      Anne|   Jones|1967-12-01|     F|400000|      400000|  India|\n",
      "+---------+----------+--------+----------+------+------+------------+-------+\n",
      "\n"
     ]
    }
   ],
   "source": [
    "df3.show()"
   ]
  },
  {
   "cell_type": "markdown",
   "id": "gothic-television",
   "metadata": {
    "papermill": {
     "duration": 0.206821,
     "end_time": "2023-01-30T05:31:45.379254",
     "exception": false,
     "start_time": "2023-01-30T05:31:45.172433",
     "status": "completed"
    },
    "tags": []
   },
   "source": [
    "# 5. Rename Column Name"
   ]
  },
  {
   "cell_type": "code",
   "execution_count": 20,
   "id": "appropriate-houston",
   "metadata": {
    "execution": {
     "iopub.execute_input": "2023-01-30T05:31:45.797806Z",
     "iopub.status.busy": "2023-01-30T05:31:45.797072Z",
     "iopub.status.idle": "2023-01-30T05:31:45.812714Z",
     "shell.execute_reply": "2023-01-30T05:31:45.812023Z",
     "shell.execute_reply.started": "2023-01-30T05:15:48.980249Z"
    },
    "papermill": {
     "duration": 0.226028,
     "end_time": "2023-01-30T05:31:45.812865",
     "exception": false,
     "start_time": "2023-01-30T05:31:45.586837",
     "status": "completed"
    },
    "tags": []
   },
   "outputs": [],
   "source": [
    "df3=df3.withColumnRenamed(\"dob\",\"data of birth\")"
   ]
  },
  {
   "cell_type": "code",
   "execution_count": 21,
   "id": "rapid-miniature",
   "metadata": {
    "execution": {
     "iopub.execute_input": "2023-01-30T05:31:46.233923Z",
     "iopub.status.busy": "2023-01-30T05:31:46.233096Z",
     "iopub.status.idle": "2023-01-30T05:31:46.562926Z",
     "shell.execute_reply": "2023-01-30T05:31:46.562000Z",
     "shell.execute_reply.started": "2023-01-30T05:18:19.766776Z"
    },
    "papermill": {
     "duration": 0.543931,
     "end_time": "2023-01-30T05:31:46.563120",
     "exception": false,
     "start_time": "2023-01-30T05:31:46.019189",
     "status": "completed"
    },
    "tags": []
   },
   "outputs": [
    {
     "name": "stdout",
     "output_type": "stream",
     "text": [
      "+---------+----------+--------+-------------+------+------+------------+-------+\n",
      "|firstname|middlename|lastname|data of birth|gender|salary|copiedcolumn|country|\n",
      "+---------+----------+--------+-------------+------+------+------------+-------+\n",
      "|    James|          |   Smith|   1991-04-01|     M|300000|      300000|  India|\n",
      "|  Michael|      Rose|        |   2000-05-19|     M|400000|      400000|  India|\n",
      "|   Robert|          |Williams|   1978-09-05|     M|400000|      400000|  India|\n",
      "|    Maria|      Anne|   Jones|   1967-12-01|     F|400000|      400000|  India|\n",
      "+---------+----------+--------+-------------+------+------+------------+-------+\n",
      "\n"
     ]
    }
   ],
   "source": [
    "df3.show(truncate=True)"
   ]
  },
  {
   "cell_type": "code",
   "execution_count": 22,
   "id": "trying-prospect",
   "metadata": {
    "execution": {
     "iopub.execute_input": "2023-01-30T05:31:47.087244Z",
     "iopub.status.busy": "2023-01-30T05:31:47.086207Z",
     "iopub.status.idle": "2023-01-30T05:31:47.437968Z",
     "shell.execute_reply": "2023-01-30T05:31:47.436698Z",
     "shell.execute_reply.started": "2023-01-30T05:18:52.812266Z"
    },
    "papermill": {
     "duration": 0.623763,
     "end_time": "2023-01-30T05:31:47.438265",
     "exception": false,
     "start_time": "2023-01-30T05:31:46.814502",
     "status": "completed"
    },
    "tags": []
   },
   "outputs": [
    {
     "name": "stdout",
     "output_type": "stream",
     "text": [
      "+---------+----------+--------+-------------+------+------+------------+-------+\n",
      "|firstname|middlename|lastname|data of birth|gender|salary|copiedcolumn|country|\n",
      "+---------+----------+--------+-------------+------+------+------------+-------+\n",
      "|James    |          |Smith   |1991-04-01   |M     |300000|300000      |India  |\n",
      "|Michael  |Rose      |        |2000-05-19   |M     |400000|400000      |India  |\n",
      "|Robert   |          |Williams|1978-09-05   |M     |400000|400000      |India  |\n",
      "|Maria    |Anne      |Jones   |1967-12-01   |F     |400000|400000      |India  |\n",
      "+---------+----------+--------+-------------+------+------+------------+-------+\n",
      "\n"
     ]
    }
   ],
   "source": [
    "df3.show(truncate=False)"
   ]
  },
  {
   "cell_type": "markdown",
   "id": "ordered-valentine",
   "metadata": {
    "papermill": {
     "duration": 0.244354,
     "end_time": "2023-01-30T05:31:48.002748",
     "exception": false,
     "start_time": "2023-01-30T05:31:47.758394",
     "status": "completed"
    },
    "tags": []
   },
   "source": [
    "# 6. Drop Column from PySpark Data Frame"
   ]
  },
  {
   "cell_type": "code",
   "execution_count": 23,
   "id": "hindu-length",
   "metadata": {
    "execution": {
     "iopub.execute_input": "2023-01-30T05:31:48.430419Z",
     "iopub.status.busy": "2023-01-30T05:31:48.429330Z",
     "iopub.status.idle": "2023-01-30T05:31:48.442048Z",
     "shell.execute_reply": "2023-01-30T05:31:48.441461Z",
     "shell.execute_reply.started": "2023-01-30T05:21:51.857156Z"
    },
    "papermill": {
     "duration": 0.228557,
     "end_time": "2023-01-30T05:31:48.442266",
     "exception": false,
     "start_time": "2023-01-30T05:31:48.213709",
     "status": "completed"
    },
    "tags": []
   },
   "outputs": [],
   "source": [
    "df4=df3.drop(\"copiedcolumn\")"
   ]
  },
  {
   "cell_type": "code",
   "execution_count": 24,
   "id": "black-production",
   "metadata": {
    "execution": {
     "iopub.execute_input": "2023-01-30T05:31:48.861645Z",
     "iopub.status.busy": "2023-01-30T05:31:48.860948Z",
     "iopub.status.idle": "2023-01-30T05:31:49.186955Z",
     "shell.execute_reply": "2023-01-30T05:31:49.185797Z",
     "shell.execute_reply.started": "2023-01-30T05:21:57.591893Z"
    },
    "papermill": {
     "duration": 0.537294,
     "end_time": "2023-01-30T05:31:49.187244",
     "exception": false,
     "start_time": "2023-01-30T05:31:48.649950",
     "status": "completed"
    },
    "tags": []
   },
   "outputs": [
    {
     "name": "stdout",
     "output_type": "stream",
     "text": [
      "+---------+----------+--------+-------------+------+------+-------+\n",
      "|firstname|middlename|lastname|data of birth|gender|salary|country|\n",
      "+---------+----------+--------+-------------+------+------+-------+\n",
      "|    James|          |   Smith|   1991-04-01|     M|300000|  India|\n",
      "|  Michael|      Rose|        |   2000-05-19|     M|400000|  India|\n",
      "|   Robert|          |Williams|   1978-09-05|     M|400000|  India|\n",
      "|    Maria|      Anne|   Jones|   1967-12-01|     F|400000|  India|\n",
      "+---------+----------+--------+-------------+------+------+-------+\n",
      "\n"
     ]
    }
   ],
   "source": [
    "df4.show()"
   ]
  },
  {
   "cell_type": "code",
   "execution_count": null,
   "id": "accessory-suggestion",
   "metadata": {
    "papermill": {
     "duration": 0.222649,
     "end_time": "2023-01-30T05:31:49.635634",
     "exception": false,
     "start_time": "2023-01-30T05:31:49.412985",
     "status": "completed"
    },
    "tags": []
   },
   "outputs": [],
   "source": []
  },
  {
   "cell_type": "code",
   "execution_count": null,
   "id": "emerging-patrol",
   "metadata": {
    "papermill": {
     "duration": 0.205935,
     "end_time": "2023-01-30T05:31:50.049242",
     "exception": false,
     "start_time": "2023-01-30T05:31:49.843307",
     "status": "completed"
    },
    "tags": []
   },
   "outputs": [],
   "source": []
  },
  {
   "cell_type": "code",
   "execution_count": null,
   "id": "frozen-supply",
   "metadata": {
    "papermill": {
     "duration": 0.208539,
     "end_time": "2023-01-30T05:31:50.466724",
     "exception": false,
     "start_time": "2023-01-30T05:31:50.258185",
     "status": "completed"
    },
    "tags": []
   },
   "outputs": [],
   "source": []
  }
 ],
 "metadata": {
  "kernelspec": {
   "display_name": "Python 3",
   "language": "python",
   "name": "python3"
  },
  "language_info": {
   "codemirror_mode": {
    "name": "ipython",
    "version": 3
   },
   "file_extension": ".py",
   "mimetype": "text/x-python",
   "name": "python",
   "nbconvert_exporter": "python",
   "pygments_lexer": "ipython3",
   "version": "3.7.10"
  },
  "papermill": {
   "default_parameters": {},
   "duration": 98.049705,
   "end_time": "2023-01-30T05:31:51.484984",
   "environment_variables": {},
   "exception": null,
   "input_path": "__notebook__.ipynb",
   "output_path": "__notebook__.ipynb",
   "parameters": {},
   "start_time": "2023-01-30T05:30:13.435279",
   "version": "2.3.3"
  }
 },
 "nbformat": 4,
 "nbformat_minor": 5
}
