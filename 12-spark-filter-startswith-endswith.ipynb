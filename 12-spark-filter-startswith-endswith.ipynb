{
 "cells": [
  {
   "cell_type": "code",
   "execution_count": 1,
   "id": "micro-sender",
   "metadata": {
    "execution": {
     "iopub.execute_input": "2023-01-30T14:06:39.982018Z",
     "iopub.status.busy": "2023-01-30T14:06:39.981207Z",
     "iopub.status.idle": "2023-01-30T14:07:27.969960Z",
     "shell.execute_reply": "2023-01-30T14:07:27.970475Z",
     "shell.execute_reply.started": "2023-01-30T13:49:20.627477Z"
    },
    "papermill": {
     "duration": 48.014047,
     "end_time": "2023-01-30T14:07:27.970822",
     "exception": false,
     "start_time": "2023-01-30T14:06:39.956775",
     "status": "completed"
    },
    "tags": []
   },
   "outputs": [
    {
     "name": "stdout",
     "output_type": "stream",
     "text": [
      "Collecting pyspark\r\n",
      "  Downloading pyspark-3.3.1.tar.gz (281.4 MB)\r\n",
      "\u001b[K     |████████████████████████████████| 281.4 MB 34 kB/s \r\n",
      "\u001b[?25hCollecting py4j==0.10.9.5\r\n",
      "  Downloading py4j-0.10.9.5-py2.py3-none-any.whl (199 kB)\r\n",
      "\u001b[K     |████████████████████████████████| 199 kB 49.5 MB/s \r\n",
      "\u001b[?25hBuilding wheels for collected packages: pyspark\r\n",
      "  Building wheel for pyspark (setup.py) ... \u001b[?25l-\b \b\\\b \b|\b \b/\b \b-\b \b\\\b \b|\b \b/\b \b-\b \b\\\b \b|\b \b/\b \b-\b \b\\\b \b|\b \b/\b \b-\b \b\\\b \b|\b \b/\b \b-\b \b\\\b \b|\b \b/\b \b-\b \b\\\b \b|\b \b/\b \b-\b \b\\\b \b|\b \b/\b \b-\b \b\\\b \b|\b \b/\b \b-\b \b\\\b \b|\b \b/\b \b-\b \b\\\b \b|\b \b/\b \b-\b \b\\\b \b|\b \b/\b \b-\b \b\\\b \b|\b \b/\b \b-\b \b\\\b \b|\b \b/\b \b-\b \b\\\b \b|\b \b/\b \b-\b \b\\\b \b|\b \b/\b \bdone\r\n",
      "\u001b[?25h  Created wheel for pyspark: filename=pyspark-3.3.1-py2.py3-none-any.whl size=281845515 sha256=198397049c05bdd476dae78f9c194739736e1a790f58a187f8a11fe91ab3397a\r\n",
      "  Stored in directory: /root/.cache/pip/wheels/42/59/f5/79a5bf931714dcd201b26025347785f087370a10a3329a899c\r\n",
      "Successfully built pyspark\r\n",
      "Installing collected packages: py4j, pyspark\r\n",
      "Successfully installed py4j-0.10.9.5 pyspark-3.3.1\r\n",
      "Note: you may need to restart the kernel to use updated packages.\n"
     ]
    }
   ],
   "source": [
    "pip install pyspark"
   ]
  },
  {
   "cell_type": "markdown",
   "id": "olive-volunteer",
   "metadata": {
    "papermill": {
     "duration": 0.149103,
     "end_time": "2023-01-30T14:07:28.264573",
     "exception": false,
     "start_time": "2023-01-30T14:07:28.115470",
     "status": "completed"
    },
    "tags": []
   },
   "source": [
    "# Spark Filter – startsWith(), endsWith() Examples Spark filter startsWith() and endsWith() are used to search DataFrame rows by checking column value starts with and ends with a string, "
   ]
  },
  {
   "cell_type": "code",
   "execution_count": 2,
   "id": "fancy-liberal",
   "metadata": {
    "execution": {
     "iopub.execute_input": "2023-01-30T14:07:28.558963Z",
     "iopub.status.busy": "2023-01-30T14:07:28.558011Z",
     "iopub.status.idle": "2023-01-30T14:07:28.616589Z",
     "shell.execute_reply": "2023-01-30T14:07:28.615788Z",
     "shell.execute_reply.started": "2023-01-30T13:50:08.095522Z"
    },
    "papermill": {
     "duration": 0.208287,
     "end_time": "2023-01-30T14:07:28.616770",
     "exception": false,
     "start_time": "2023-01-30T14:07:28.408483",
     "status": "completed"
    },
    "tags": []
   },
   "outputs": [],
   "source": [
    "import pyspark"
   ]
  },
  {
   "cell_type": "code",
   "execution_count": 3,
   "id": "magnetic-developer",
   "metadata": {
    "execution": {
     "iopub.execute_input": "2023-01-30T14:07:28.909997Z",
     "iopub.status.busy": "2023-01-30T14:07:28.909334Z",
     "iopub.status.idle": "2023-01-30T14:07:28.912890Z",
     "shell.execute_reply": "2023-01-30T14:07:28.912131Z",
     "shell.execute_reply.started": "2023-01-30T13:50:08.184014Z"
    },
    "papermill": {
     "duration": 0.152957,
     "end_time": "2023-01-30T14:07:28.913045",
     "exception": false,
     "start_time": "2023-01-30T14:07:28.760088",
     "status": "completed"
    },
    "tags": []
   },
   "outputs": [],
   "source": [
    "from pyspark.sql import SparkSession"
   ]
  },
  {
   "cell_type": "code",
   "execution_count": 4,
   "id": "positive-penguin",
   "metadata": {
    "execution": {
     "iopub.execute_input": "2023-01-30T14:07:29.206974Z",
     "iopub.status.busy": "2023-01-30T14:07:29.206265Z",
     "iopub.status.idle": "2023-01-30T14:07:35.246957Z",
     "shell.execute_reply": "2023-01-30T14:07:35.245858Z",
     "shell.execute_reply.started": "2023-01-30T13:50:08.191292Z"
    },
    "papermill": {
     "duration": 6.191639,
     "end_time": "2023-01-30T14:07:35.247173",
     "exception": false,
     "start_time": "2023-01-30T14:07:29.055534",
     "status": "completed"
    },
    "tags": []
   },
   "outputs": [],
   "source": [
    "spark =SparkSession.builder.appName('SparkByExamples.com').getOrCreate()\n"
   ]
  },
  {
   "cell_type": "code",
   "execution_count": 5,
   "id": "experienced-appraisal",
   "metadata": {
    "execution": {
     "iopub.execute_input": "2023-01-30T14:07:35.570511Z",
     "iopub.status.busy": "2023-01-30T14:07:35.569534Z",
     "iopub.status.idle": "2023-01-30T14:07:42.292407Z",
     "shell.execute_reply": "2023-01-30T14:07:42.291173Z",
     "shell.execute_reply.started": "2023-01-30T13:50:58.424619Z"
    },
    "papermill": {
     "duration": 6.873661,
     "end_time": "2023-01-30T14:07:42.292641",
     "exception": false,
     "start_time": "2023-01-30T14:07:35.418980",
     "status": "completed"
    },
    "tags": []
   },
   "outputs": [],
   "source": [
    "df=spark.read.csv(\"/kaggle/input/quicker-car/quikr_car.csv\")"
   ]
  },
  {
   "cell_type": "code",
   "execution_count": 6,
   "id": "powerful-growing",
   "metadata": {
    "execution": {
     "iopub.execute_input": "2023-01-30T14:07:42.591717Z",
     "iopub.status.busy": "2023-01-30T14:07:42.591017Z",
     "iopub.status.idle": "2023-01-30T14:07:42.917964Z",
     "shell.execute_reply": "2023-01-30T14:07:42.916905Z",
     "shell.execute_reply.started": "2023-01-30T13:51:08.032708Z"
    },
    "papermill": {
     "duration": 0.477493,
     "end_time": "2023-01-30T14:07:42.918184",
     "exception": false,
     "start_time": "2023-01-30T14:07:42.440691",
     "status": "completed"
    },
    "tags": []
   },
   "outputs": [
    {
     "name": "stdout",
     "output_type": "stream",
     "text": [
      "+--------------------+--------+----+-------------+----------+---------+\n",
      "|                 _c0|     _c1| _c2|          _c3|       _c4|      _c5|\n",
      "+--------------------+--------+----+-------------+----------+---------+\n",
      "|                name| company|year|        Price|kms_driven|fuel_type|\n",
      "|Hyundai Santro Xi...| Hyundai|2007|       80,000|45,000 kms|   Petrol|\n",
      "|Mahindra Jeep CL5...|Mahindra|2006|     4,25,000|    40 kms|   Diesel|\n",
      "|Maruti Suzuki Alt...|  Maruti|2018|Ask For Price|22,000 kms|   Petrol|\n",
      "|Hyundai Grand i10...| Hyundai|2014|     3,25,000|28,000 kms|   Petrol|\n",
      "|Ford EcoSport Tit...|    Ford|2014|     5,75,000|36,000 kms|   Diesel|\n",
      "|Ford EcoSport Tit...|    Ford|2015|Ask For Price|59,000 kms|   Diesel|\n",
      "|           Ford Figo|    Ford|2012|     1,75,000|41,000 kms|   Diesel|\n",
      "|         Hyundai Eon| Hyundai|2013|     1,90,000|25,000 kms|   Petrol|\n",
      "|Ford EcoSport Amb...|    Ford|2016|     8,30,000|24,530 kms|   Diesel|\n",
      "|Maruti Suzuki Alt...|  Maruti|2015|     2,50,000|60,000 kms|   Petrol|\n",
      "|Skoda Fabia Class...|   Skoda|2010|     1,82,000|60,000 kms|   Petrol|\n",
      "|Maruti Suzuki Sti...|  Maruti|2015|     3,15,000|30,000 kms|   Petrol|\n",
      "|Hyundai Elite i20...| Hyundai|2014|     4,15,000|32,000 kms|   Petrol|\n",
      "|Mahindra Scorpio ...|Mahindra|2015|     3,20,000|48,660 kms|   Diesel|\n",
      "|Hyundai Santro Xi...| Hyundai|2007|       80,000|45,000 kms|   Petrol|\n",
      "|Mahindra Jeep CL5...|Mahindra|2006|     4,25,000|    40 kms|   Diesel|\n",
      "|             Audi A8|    Audi|2017|    10,00,000| 4,000 kms|   Petrol|\n",
      "|             Audi Q7|    Audi|2014|     5,00,000|16,934 kms|   Diesel|\n",
      "|Mahindra Scorpio S10|Mahindra|2016|     3,50,000|43,000 kms|   Diesel|\n",
      "+--------------------+--------+----+-------------+----------+---------+\n",
      "only showing top 20 rows\n",
      "\n"
     ]
    }
   ],
   "source": [
    "df.show()"
   ]
  },
  {
   "cell_type": "code",
   "execution_count": 7,
   "id": "going-antigua",
   "metadata": {
    "execution": {
     "iopub.execute_input": "2023-01-30T14:07:43.220471Z",
     "iopub.status.busy": "2023-01-30T14:07:43.219748Z",
     "iopub.status.idle": "2023-01-30T14:07:43.222110Z",
     "shell.execute_reply": "2023-01-30T14:07:43.221534Z",
     "shell.execute_reply.started": "2023-01-30T13:53:07.592652Z"
    },
    "papermill": {
     "duration": 0.150355,
     "end_time": "2023-01-30T14:07:43.222273",
     "exception": false,
     "start_time": "2023-01-30T14:07:43.071918",
     "status": "completed"
    },
    "tags": []
   },
   "outputs": [],
   "source": [
    "import pyspark.sql.functions"
   ]
  },
  {
   "cell_type": "code",
   "execution_count": 8,
   "id": "verbal-transparency",
   "metadata": {
    "execution": {
     "iopub.execute_input": "2023-01-30T14:07:43.510022Z",
     "iopub.status.busy": "2023-01-30T14:07:43.509324Z",
     "iopub.status.idle": "2023-01-30T14:07:43.513265Z",
     "shell.execute_reply": "2023-01-30T14:07:43.513824Z",
     "shell.execute_reply.started": "2023-01-30T13:53:44.806637Z"
    },
    "papermill": {
     "duration": 0.150403,
     "end_time": "2023-01-30T14:07:43.513999",
     "exception": false,
     "start_time": "2023-01-30T14:07:43.363596",
     "status": "completed"
    },
    "tags": []
   },
   "outputs": [],
   "source": [
    "from pyspark.sql.functions import col"
   ]
  },
  {
   "cell_type": "markdown",
   "id": "nominated-quick",
   "metadata": {
    "papermill": {
     "duration": 0.143025,
     "end_time": "2023-01-30T14:07:43.799963",
     "exception": false,
     "start_time": "2023-01-30T14:07:43.656938",
     "status": "completed"
    },
    "tags": []
   },
   "source": [
    "# Spark Filter startsWith()"
   ]
  },
  {
   "cell_type": "code",
   "execution_count": 9,
   "id": "lyric-immigration",
   "metadata": {
    "execution": {
     "iopub.execute_input": "2023-01-30T14:07:44.098850Z",
     "iopub.status.busy": "2023-01-30T14:07:44.097739Z",
     "iopub.status.idle": "2023-01-30T14:07:44.445841Z",
     "shell.execute_reply": "2023-01-30T14:07:44.444639Z",
     "shell.execute_reply.started": "2023-01-30T14:01:19.964274Z"
    },
    "papermill": {
     "duration": 0.495555,
     "end_time": "2023-01-30T14:07:44.446137",
     "exception": false,
     "start_time": "2023-01-30T14:07:43.950582",
     "status": "completed"
    },
    "tags": []
   },
   "outputs": [
    {
     "name": "stdout",
     "output_type": "stream",
     "text": [
      "+--------------------+-------+----+--------+----------+------+\n",
      "|                 _c0|    _c1| _c2|     _c3|       _c4|   _c5|\n",
      "+--------------------+-------+----+--------+----------+------+\n",
      "|Hyundai Santro Xi...|Hyundai|2007|  80,000|45,000 kms|Petrol|\n",
      "|Hyundai Grand i10...|Hyundai|2014|3,25,000|28,000 kms|Petrol|\n",
      "|         Hyundai Eon|Hyundai|2013|1,90,000|25,000 kms|Petrol|\n",
      "|Hyundai Elite i20...|Hyundai|2014|4,15,000|32,000 kms|Petrol|\n",
      "|Hyundai Santro Xi...|Hyundai|2007|  80,000|45,000 kms|Petrol|\n",
      "|Hyundai i20 Sport...|Hyundai|2012|1,00,000|55,000 kms|Petrol|\n",
      "|Hyundai i20 Sport...|Hyundai|2012|1,00,000|55,000 kms|Petrol|\n",
      "|Hyundai i20 Sport...|Hyundai|2012|1,00,000|55,000 kms|Petrol|\n",
      "| Honda City 1.5 S MT|  Honda|2011|2,80,000|33,000 kms|Petrol|\n",
      "|         Honda Amaze|  Honda|2013|2,84,999|46,000 kms|Diesel|\n",
      "|Honda Amaze 1.5 S...|  Honda|2015|3,45,000|36,000 kms|Diesel|\n",
      "|          Honda City|  Honda|2015|4,99,999|55,000 kms|Petrol|\n",
      "|   Honda City ZX CVT|  Honda|2017|1,70,000|15,000 kms|Diesel|\n",
      "|         Hyundai Eon|Hyundai|2013|1,90,000|25,000 kms|Petrol|\n",
      "|          Honda City|  Honda|2015|4,48,999|54,000 kms|Petrol|\n",
      "|         Honda Amaze|  Honda|2015|3,44,999|22,000 kms|Petrol|\n",
      "|         Honda Amaze|  Honda|2015|3,44,999|22,000 kms|Petrol|\n",
      "|          Honda Brio|  Honda|2012|2,24,999|30,000 kms|Petrol|\n",
      "|   Hyundai i20 Magna|Hyundai|2009|1,95,000|32,000 kms|Petrol|\n",
      "|Hyundai Verna Tra...|Hyundai|2008|1,60,000|45,000 kms|Petrol|\n",
      "+--------------------+-------+----+--------+----------+------+\n",
      "only showing top 20 rows\n",
      "\n"
     ]
    }
   ],
   "source": [
    "df.filter(col(\"_c0\").startswith(\"H\")).show()"
   ]
  },
  {
   "cell_type": "markdown",
   "id": "imposed-rocket",
   "metadata": {
    "papermill": {
     "duration": 0.142603,
     "end_time": "2023-01-30T14:07:44.799021",
     "exception": false,
     "start_time": "2023-01-30T14:07:44.656418",
     "status": "completed"
    },
    "tags": []
   },
   "source": [
    "# Spark Filter endsWith()"
   ]
  },
  {
   "cell_type": "code",
   "execution_count": 10,
   "id": "breathing-petroleum",
   "metadata": {
    "execution": {
     "iopub.execute_input": "2023-01-30T14:07:45.090871Z",
     "iopub.status.busy": "2023-01-30T14:07:45.089928Z",
     "iopub.status.idle": "2023-01-30T14:07:45.385958Z",
     "shell.execute_reply": "2023-01-30T14:07:45.387010Z",
     "shell.execute_reply.started": "2023-01-30T14:01:05.681927Z"
    },
    "papermill": {
     "duration": 0.442433,
     "end_time": "2023-01-30T14:07:45.387346",
     "exception": false,
     "start_time": "2023-01-30T14:07:44.944913",
     "status": "completed"
    },
    "tags": []
   },
   "outputs": [
    {
     "name": "stdout",
     "output_type": "stream",
     "text": [
      "+--------------------+--------+----+--------+----------+------+\n",
      "|                 _c0|     _c1| _c2|     _c3|       _c4|   _c5|\n",
      "+--------------------+--------+----+--------+----------+------+\n",
      "|Mahindra Scorpio S10|Mahindra|2016|3,50,000|43,000 kms|Diesel|\n",
      "|Mahindra Scorpio S10|Mahindra|2016|3,50,000|43,000 kms|Diesel|\n",
      "|Mahindra Scorpio S10|Mahindra|2016|3,10,000|39,522 kms|Diesel|\n",
      "|Mahindra Scorpio S10|Mahindra|2015|3,95,000|35,000 kms|Diesel|\n",
      "|Mahindra Scorpio S10|Mahindra|2015|9,00,000|97,200 kms|Diesel|\n",
      "|Mahindra Scorpio S10|Mahindra|2015|9,00,000|97,200 kms|Diesel|\n",
      "|Mahindra Scorpio S10|Mahindra|2015|9,00,000|97,200 kms|Diesel|\n",
      "|Mahindra Scorpio S10|Mahindra|2015|9,00,000|97,200 kms|Diesel|\n",
      "|Mahindra Scorpio S10|Mahindra|2015|9,00,000|97,200 kms|Diesel|\n",
      "+--------------------+--------+----+--------+----------+------+\n",
      "\n"
     ]
    }
   ],
   "source": [
    "df.filter(col(\"_c0\").endswith(\"S10\")).show()"
   ]
  },
  {
   "cell_type": "markdown",
   "id": "mysterious-ottawa",
   "metadata": {
    "papermill": {
     "duration": 0.145622,
     "end_time": "2023-01-30T14:07:45.674550",
     "exception": false,
     "start_time": "2023-01-30T14:07:45.528928",
     "status": "completed"
    },
    "tags": []
   },
   "source": [
    "# Using Spark SQL Expression"
   ]
  },
  {
   "cell_type": "code",
   "execution_count": 11,
   "id": "pressing-lodging",
   "metadata": {
    "execution": {
     "iopub.execute_input": "2023-01-30T14:07:45.968601Z",
     "iopub.status.busy": "2023-01-30T14:07:45.967921Z",
     "iopub.status.idle": "2023-01-30T14:07:46.061633Z",
     "shell.execute_reply": "2023-01-30T14:07:46.060865Z",
     "shell.execute_reply.started": "2023-01-30T14:03:37.466381Z"
    },
    "papermill": {
     "duration": 0.243973,
     "end_time": "2023-01-30T14:07:46.061854",
     "exception": false,
     "start_time": "2023-01-30T14:07:45.817881",
     "status": "completed"
    },
    "tags": []
   },
   "outputs": [],
   "source": [
    "df.createOrReplaceTempView(\"Data\")"
   ]
  },
  {
   "cell_type": "code",
   "execution_count": 12,
   "id": "spare-brave",
   "metadata": {
    "execution": {
     "iopub.execute_input": "2023-01-30T14:07:46.492816Z",
     "iopub.status.busy": "2023-01-30T14:07:46.492101Z",
     "iopub.status.idle": "2023-01-30T14:07:46.840131Z",
     "shell.execute_reply": "2023-01-30T14:07:46.839351Z",
     "shell.execute_reply.started": "2023-01-30T14:05:31.741664Z"
    },
    "papermill": {
     "duration": 0.555131,
     "end_time": "2023-01-30T14:07:46.840310",
     "exception": false,
     "start_time": "2023-01-30T14:07:46.285179",
     "status": "completed"
    },
    "tags": []
   },
   "outputs": [
    {
     "name": "stdout",
     "output_type": "stream",
     "text": [
      "+--------------------+-------+----+-------------+----------+------+\n",
      "|                 _c0|    _c1| _c2|          _c3|       _c4|   _c5|\n",
      "+--------------------+-------+----+-------------+----------+------+\n",
      "|Hyundai Santro Xi...|Hyundai|2007|       80,000|45,000 kms|Petrol|\n",
      "|Maruti Suzuki Alt...| Maruti|2018|Ask For Price|22,000 kms|Petrol|\n",
      "|Hyundai Grand i10...|Hyundai|2014|     3,25,000|28,000 kms|Petrol|\n",
      "|         Hyundai Eon|Hyundai|2013|     1,90,000|25,000 kms|Petrol|\n",
      "|Maruti Suzuki Alt...| Maruti|2015|     2,50,000|60,000 kms|Petrol|\n",
      "|Skoda Fabia Class...|  Skoda|2010|     1,82,000|60,000 kms|Petrol|\n",
      "|Maruti Suzuki Sti...| Maruti|2015|     3,15,000|30,000 kms|Petrol|\n",
      "|Hyundai Elite i20...|Hyundai|2014|     4,15,000|32,000 kms|Petrol|\n",
      "|Hyundai Santro Xi...|Hyundai|2007|       80,000|45,000 kms|Petrol|\n",
      "|             Audi A8|   Audi|2017|    10,00,000| 4,000 kms|Petrol|\n",
      "|Maruti Suzuki Alt...| Maruti|2014|     1,60,000|35,550 kms|Petrol|\n",
      "|Maruti Suzuki Alt...| Maruti|2015|       75,000|39,000 kms|Petrol|\n",
      "|Hyundai i20 Sport...|Hyundai|2012|     1,00,000|55,000 kms|Petrol|\n",
      "|Hyundai i20 Sport...|Hyundai|2012|     1,00,000|55,000 kms|Petrol|\n",
      "|Hyundai i20 Sport...|Hyundai|2012|     1,00,000|55,000 kms|Petrol|\n",
      "|Maruti Suzuki Alt...| Maruti|2017|     1,90,000|72,000 kms|Petrol|\n",
      "|Maruti Suzuki Alt...| Maruti|2008|       95,000|70,000 kms|Petrol|\n",
      "|Maruti Suzuki Swi...| Maruti|2017|     1,80,000|15,487 kms|Petrol|\n",
      "|Maruti Suzuki Wag...| Maruti|2013|     1,05,000|39,000 kms|Petrol|\n",
      "|Maruti Suzuki Wag...| Maruti|2013|     1,05,000|39,000 kms|Petrol|\n",
      "+--------------------+-------+----+-------------+----------+------+\n",
      "only showing top 20 rows\n",
      "\n"
     ]
    }
   ],
   "source": [
    "spark.sql(\"select * from data where _c5 like 'Pet%' \").show()"
   ]
  },
  {
   "cell_type": "code",
   "execution_count": 13,
   "id": "medieval-circuit",
   "metadata": {
    "execution": {
     "iopub.execute_input": "2023-01-30T14:07:47.139324Z",
     "iopub.status.busy": "2023-01-30T14:07:47.138520Z",
     "iopub.status.idle": "2023-01-30T14:07:47.409393Z",
     "shell.execute_reply": "2023-01-30T14:07:47.408609Z",
     "shell.execute_reply.started": "2023-01-30T14:05:51.478055Z"
    },
    "papermill": {
     "duration": 0.421896,
     "end_time": "2023-01-30T14:07:47.409596",
     "exception": false,
     "start_time": "2023-01-30T14:07:46.987700",
     "status": "completed"
    },
    "tags": []
   },
   "outputs": [
    {
     "name": "stdout",
     "output_type": "stream",
     "text": [
      "+--------------------+--------+----+-------------+----------+---------+\n",
      "|                 _c0|     _c1| _c2|          _c3|       _c4|      _c5|\n",
      "+--------------------+--------+----+-------------+----------+---------+\n",
      "|                name| company|year|        Price|kms_driven|fuel_type|\n",
      "|Mahindra Jeep CL5...|Mahindra|2006|     4,25,000|    40 kms|   Diesel|\n",
      "|Ford EcoSport Tit...|    Ford|2014|     5,75,000|36,000 kms|   Diesel|\n",
      "|Ford EcoSport Tit...|    Ford|2015|Ask For Price|59,000 kms|   Diesel|\n",
      "|           Ford Figo|    Ford|2012|     1,75,000|41,000 kms|   Diesel|\n",
      "|Ford EcoSport Amb...|    Ford|2016|     8,30,000|24,530 kms|   Diesel|\n",
      "|Mahindra Scorpio ...|Mahindra|2015|     3,20,000|48,660 kms|   Diesel|\n",
      "|Mahindra Jeep CL5...|Mahindra|2006|     4,25,000|    40 kms|   Diesel|\n",
      "|             Audi Q7|    Audi|2014|     5,00,000|16,934 kms|   Diesel|\n",
      "|Mahindra Scorpio S10|Mahindra|2016|     3,50,000|43,000 kms|   Diesel|\n",
      "|Mahindra Scorpio S10|Mahindra|2016|     3,50,000|43,000 kms|   Diesel|\n",
      "|Mahindra Scorpio S10|Mahindra|2016|     3,10,000|39,522 kms|   Diesel|\n",
      "|Maruti Suzuki Vit...|  Maruti|2016|     2,90,000|15,975 kms|   Diesel|\n",
      "|  Mahindra Bolero DI|Mahindra|2017|     1,80,000|23,452 kms|   Diesel|\n",
      "|Maruti Suzuki Swi...|  Maruti|2014|     3,85,000|35,522 kms|   Diesel|\n",
      "|Mahindra Scorpio ...|Mahindra|2015|     2,50,000|48,508 kms|   Diesel|\n",
      "|Toyota Innova 2.0...|  Toyota|2012|     6,50,000|82,000 kms|   Diesel|\n",
      "|Renault Lodgy 85 ...| Renault|2018|     6,89,999|20,000 kms|   Diesel|\n",
      "|Skoda Yeti Ambiti...|   Skoda|2012|     4,48,000|68,000 kms|   Diesel|\n",
      "|Maruti Suzuki Bal...|  Maruti|2017|     5,49,000|32,000 kms|   Diesel|\n",
      "+--------------------+--------+----+-------------+----------+---------+\n",
      "only showing top 20 rows\n",
      "\n"
     ]
    }
   ],
   "source": [
    "spark.sql(\"select * from data where _c5 not like 'Pet%' \").show()"
   ]
  },
  {
   "cell_type": "code",
   "execution_count": null,
   "id": "important-tanzania",
   "metadata": {
    "papermill": {
     "duration": 0.223978,
     "end_time": "2023-01-30T14:07:47.858806",
     "exception": false,
     "start_time": "2023-01-30T14:07:47.634828",
     "status": "completed"
    },
    "tags": []
   },
   "outputs": [],
   "source": []
  }
 ],
 "metadata": {
  "kernelspec": {
   "display_name": "Python 3",
   "language": "python",
   "name": "python3"
  },
  "language_info": {
   "codemirror_mode": {
    "name": "ipython",
    "version": 3
   },
   "file_extension": ".py",
   "mimetype": "text/x-python",
   "name": "python",
   "nbconvert_exporter": "python",
   "pygments_lexer": "ipython3",
   "version": "3.7.10"
  },
  "papermill": {
   "default_parameters": {},
   "duration": 77.90324,
   "end_time": "2023-01-30T14:07:49.608583",
   "environment_variables": {},
   "exception": null,
   "input_path": "__notebook__.ipynb",
   "output_path": "__notebook__.ipynb",
   "parameters": {},
   "start_time": "2023-01-30T14:06:31.705343",
   "version": "2.3.3"
  }
 },
 "nbformat": 4,
 "nbformat_minor": 5
}
