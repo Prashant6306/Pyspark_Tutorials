{
 "cells": [
  {
   "cell_type": "code",
   "execution_count": 1,
   "id": "bearing-smith",
   "metadata": {
    "execution": {
     "iopub.execute_input": "2023-01-29T12:39:43.022641Z",
     "iopub.status.busy": "2023-01-29T12:39:43.020804Z",
     "iopub.status.idle": "2023-01-29T12:40:42.917412Z",
     "shell.execute_reply": "2023-01-29T12:40:42.916617Z",
     "shell.execute_reply.started": "2023-01-29T12:28:21.448474Z"
    },
    "papermill": {
     "duration": 59.915343,
     "end_time": "2023-01-29T12:40:42.917669",
     "exception": false,
     "start_time": "2023-01-29T12:39:43.002326",
     "status": "completed"
    },
    "tags": []
   },
   "outputs": [
    {
     "name": "stdout",
     "output_type": "stream",
     "text": [
      "Collecting pyspark\r\n",
      "  Downloading pyspark-3.3.1.tar.gz (281.4 MB)\r\n",
      "\u001b[K     |████████████████████████████████| 281.4 MB 37 kB/s \r\n",
      "\u001b[?25hCollecting py4j==0.10.9.5\r\n",
      "  Downloading py4j-0.10.9.5-py2.py3-none-any.whl (199 kB)\r\n",
      "\u001b[K     |████████████████████████████████| 199 kB 25.6 MB/s \r\n",
      "\u001b[?25hBuilding wheels for collected packages: pyspark\r\n",
      "  Building wheel for pyspark (setup.py) ... \u001b[?25l-\b \b\\\b \b|\b \b/\b \b-\b \b\\\b \b|\b \b/\b \b-\b \b\\\b \b|\b \b/\b \b-\b \b\\\b \b|\b \b/\b \b-\b \b\\\b \b|\b \b/\b \b-\b \b\\\b \b|\b \b/\b \b-\b \b\\\b \b|\b \b/\b \b-\b \b\\\b \b|\b \b/\b \b-\b \b\\\b \b|\b \b/\b \b-\b \b\\\b \b|\b \b/\b \b-\b \b\\\b \b|\b \b/\b \b-\b \b\\\b \b|\b \b/\b \b-\b \b\\\b \b|\b \b/\b \b-\b \b\\\b \b|\b \b/\b \b-\b \b\\\b \b|\b \b/\b \b-\b \b\\\b \bdone\r\n",
      "\u001b[?25h  Created wheel for pyspark: filename=pyspark-3.3.1-py2.py3-none-any.whl size=281845515 sha256=48d93d3f6979535a9d58c506337c58a9c2fdec4653c6c97350a8d84dd7e1dcf9\r\n",
      "  Stored in directory: /root/.cache/pip/wheels/42/59/f5/79a5bf931714dcd201b26025347785f087370a10a3329a899c\r\n",
      "Successfully built pyspark\r\n",
      "Installing collected packages: py4j, pyspark\r\n",
      "Successfully installed py4j-0.10.9.5 pyspark-3.3.1\r\n",
      "Note: you may need to restart the kernel to use updated packages.\n"
     ]
    }
   ],
   "source": [
    "pip install pyspark"
   ]
  },
  {
   "cell_type": "code",
   "execution_count": 2,
   "id": "finite-chapel",
   "metadata": {
    "execution": {
     "iopub.execute_input": "2023-01-29T12:40:43.336619Z",
     "iopub.status.busy": "2023-01-29T12:40:43.335520Z",
     "iopub.status.idle": "2023-01-29T12:40:43.395946Z",
     "shell.execute_reply": "2023-01-29T12:40:43.395142Z",
     "shell.execute_reply.started": "2023-01-29T12:29:20.896826Z"
    },
    "papermill": {
     "duration": 0.270804,
     "end_time": "2023-01-29T12:40:43.396124",
     "exception": false,
     "start_time": "2023-01-29T12:40:43.125320",
     "status": "completed"
    },
    "tags": []
   },
   "outputs": [],
   "source": [
    "import pyspark"
   ]
  },
  {
   "cell_type": "code",
   "execution_count": 3,
   "id": "perceived-richardson",
   "metadata": {
    "execution": {
     "iopub.execute_input": "2023-01-29T12:40:43.801944Z",
     "iopub.status.busy": "2023-01-29T12:40:43.800841Z",
     "iopub.status.idle": "2023-01-29T12:40:43.803847Z",
     "shell.execute_reply": "2023-01-29T12:40:43.803314Z",
     "shell.execute_reply.started": "2023-01-29T12:29:20.970545Z"
    },
    "papermill": {
     "duration": 0.20873,
     "end_time": "2023-01-29T12:40:43.803998",
     "exception": false,
     "start_time": "2023-01-29T12:40:43.595268",
     "status": "completed"
    },
    "tags": []
   },
   "outputs": [],
   "source": [
    "from pyspark.sql import SparkSession"
   ]
  },
  {
   "cell_type": "code",
   "execution_count": 4,
   "id": "detected-tiffany",
   "metadata": {
    "execution": {
     "iopub.execute_input": "2023-01-29T12:40:44.212455Z",
     "iopub.status.busy": "2023-01-29T12:40:44.211396Z",
     "iopub.status.idle": "2023-01-29T12:40:49.985338Z",
     "shell.execute_reply": "2023-01-29T12:40:49.984452Z",
     "shell.execute_reply.started": "2023-01-29T12:29:20.976455Z"
    },
    "papermill": {
     "duration": 5.978541,
     "end_time": "2023-01-29T12:40:49.985571",
     "exception": false,
     "start_time": "2023-01-29T12:40:44.007030",
     "status": "completed"
    },
    "tags": []
   },
   "outputs": [],
   "source": [
    "spark =SparkSession.builder.appName('SparkByExamples.com').getOrCreate()\n"
   ]
  },
  {
   "cell_type": "code",
   "execution_count": 5,
   "id": "phantom-billy",
   "metadata": {
    "execution": {
     "iopub.execute_input": "2023-01-29T12:40:50.391208Z",
     "iopub.status.busy": "2023-01-29T12:40:50.390416Z",
     "iopub.status.idle": "2023-01-29T12:40:50.394881Z",
     "shell.execute_reply": "2023-01-29T12:40:50.395466Z",
     "shell.execute_reply.started": "2023-01-29T12:32:25.387333Z"
    },
    "papermill": {
     "duration": 0.205984,
     "end_time": "2023-01-29T12:40:50.395709",
     "exception": false,
     "start_time": "2023-01-29T12:40:50.189725",
     "status": "completed"
    },
    "tags": []
   },
   "outputs": [],
   "source": [
    "data=[(\"mahesh\",1),(\"ganesh\",2)]"
   ]
  },
  {
   "cell_type": "code",
   "execution_count": 6,
   "id": "increased-tiffany",
   "metadata": {
    "execution": {
     "iopub.execute_input": "2023-01-29T12:40:50.825377Z",
     "iopub.status.busy": "2023-01-29T12:40:50.823872Z",
     "iopub.status.idle": "2023-01-29T12:40:54.601026Z",
     "shell.execute_reply": "2023-01-29T12:40:54.600015Z",
     "shell.execute_reply.started": "2023-01-29T12:32:26.285709Z"
    },
    "papermill": {
     "duration": 4.006068,
     "end_time": "2023-01-29T12:40:54.601258",
     "exception": false,
     "start_time": "2023-01-29T12:40:50.595190",
     "status": "completed"
    },
    "tags": []
   },
   "outputs": [],
   "source": [
    "dfFromData2=spark.createDataFrame(data).toDF(\"name\",\"roll_no\")"
   ]
  },
  {
   "cell_type": "code",
   "execution_count": 7,
   "id": "divine-praise",
   "metadata": {
    "execution": {
     "iopub.execute_input": "2023-01-29T12:40:55.059503Z",
     "iopub.status.busy": "2023-01-29T12:40:55.058765Z",
     "iopub.status.idle": "2023-01-29T12:40:57.830084Z",
     "shell.execute_reply": "2023-01-29T12:40:57.829521Z",
     "shell.execute_reply.started": "2023-01-29T12:32:32.158710Z"
    },
    "papermill": {
     "duration": 2.975461,
     "end_time": "2023-01-29T12:40:57.830261",
     "exception": false,
     "start_time": "2023-01-29T12:40:54.854800",
     "status": "completed"
    },
    "tags": []
   },
   "outputs": [
    {
     "name": "stdout",
     "output_type": "stream",
     "text": [
      "+------+-------+\n",
      "|  name|roll_no|\n",
      "+------+-------+\n",
      "|mahesh|      1|\n",
      "|ganesh|      2|\n",
      "+------+-------+\n",
      "\n"
     ]
    }
   ],
   "source": [
    "dfFromData2.show()"
   ]
  },
  {
   "cell_type": "code",
   "execution_count": 8,
   "id": "intense-inside",
   "metadata": {
    "execution": {
     "iopub.execute_input": "2023-01-29T12:40:58.233309Z",
     "iopub.status.busy": "2023-01-29T12:40:58.232278Z",
     "iopub.status.idle": "2023-01-29T12:40:58.253491Z",
     "shell.execute_reply": "2023-01-29T12:40:58.252436Z",
     "shell.execute_reply.started": "2023-01-29T12:32:51.377430Z"
    },
    "papermill": {
     "duration": 0.224204,
     "end_time": "2023-01-29T12:40:58.253747",
     "exception": false,
     "start_time": "2023-01-29T12:40:58.029543",
     "status": "completed"
    },
    "tags": []
   },
   "outputs": [
    {
     "name": "stdout",
     "output_type": "stream",
     "text": [
      "root\n",
      " |-- name: string (nullable = true)\n",
      " |-- roll_no: long (nullable = true)\n",
      "\n"
     ]
    }
   ],
   "source": [
    "dfFromData2.printSchema()"
   ]
  },
  {
   "cell_type": "code",
   "execution_count": null,
   "id": "strong-proposal",
   "metadata": {
    "papermill": {
     "duration": 0.202226,
     "end_time": "2023-01-29T12:40:58.672679",
     "exception": false,
     "start_time": "2023-01-29T12:40:58.470453",
     "status": "completed"
    },
    "tags": []
   },
   "outputs": [],
   "source": []
  },
  {
   "cell_type": "code",
   "execution_count": null,
   "id": "earned-photography",
   "metadata": {
    "papermill": {
     "duration": 0.200289,
     "end_time": "2023-01-29T12:40:59.078078",
     "exception": false,
     "start_time": "2023-01-29T12:40:58.877789",
     "status": "completed"
    },
    "tags": []
   },
   "outputs": [],
   "source": []
  },
  {
   "cell_type": "code",
   "execution_count": null,
   "id": "external-basis",
   "metadata": {
    "papermill": {
     "duration": 0.209625,
     "end_time": "2023-01-29T12:40:59.487704",
     "exception": false,
     "start_time": "2023-01-29T12:40:59.278079",
     "status": "completed"
    },
    "tags": []
   },
   "outputs": [],
   "source": []
  },
  {
   "cell_type": "code",
   "execution_count": null,
   "id": "excellent-variety",
   "metadata": {
    "papermill": {
     "duration": 0.214136,
     "end_time": "2023-01-29T12:40:59.905816",
     "exception": false,
     "start_time": "2023-01-29T12:40:59.691680",
     "status": "completed"
    },
    "tags": []
   },
   "outputs": [],
   "source": []
  },
  {
   "cell_type": "code",
   "execution_count": null,
   "id": "secondary-threshold",
   "metadata": {
    "papermill": {
     "duration": 0.203967,
     "end_time": "2023-01-29T12:41:00.317554",
     "exception": false,
     "start_time": "2023-01-29T12:41:00.113587",
     "status": "completed"
    },
    "tags": []
   },
   "outputs": [],
   "source": []
  },
  {
   "cell_type": "code",
   "execution_count": null,
   "id": "suspected-wisconsin",
   "metadata": {
    "papermill": {
     "duration": 0.202359,
     "end_time": "2023-01-29T12:41:00.718750",
     "exception": false,
     "start_time": "2023-01-29T12:41:00.516391",
     "status": "completed"
    },
    "tags": []
   },
   "outputs": [],
   "source": []
  },
  {
   "cell_type": "code",
   "execution_count": null,
   "id": "imported-speed",
   "metadata": {
    "papermill": {
     "duration": 0.201089,
     "end_time": "2023-01-29T12:41:01.121573",
     "exception": false,
     "start_time": "2023-01-29T12:41:00.920484",
     "status": "completed"
    },
    "tags": []
   },
   "outputs": [],
   "source": []
  }
 ],
 "metadata": {
  "kernelspec": {
   "display_name": "Python 3",
   "language": "python",
   "name": "python3"
  },
  "language_info": {
   "codemirror_mode": {
    "name": "ipython",
    "version": 3
   },
   "file_extension": ".py",
   "mimetype": "text/x-python",
   "name": "python",
   "nbconvert_exporter": "python",
   "pygments_lexer": "ipython3",
   "version": "3.7.10"
  },
  "papermill": {
   "default_parameters": {},
   "duration": 87.921966,
   "end_time": "2023-01-29T12:41:02.732422",
   "environment_variables": {},
   "exception": null,
   "input_path": "__notebook__.ipynb",
   "output_path": "__notebook__.ipynb",
   "parameters": {},
   "start_time": "2023-01-29T12:39:34.810456",
   "version": "2.3.3"
  }
 },
 "nbformat": 4,
 "nbformat_minor": 5
}
