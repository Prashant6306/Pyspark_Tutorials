{
 "cells": [
  {
   "cell_type": "code",
   "execution_count": 1,
   "id": "loose-hanging",
   "metadata": {
    "execution": {
     "iopub.execute_input": "2023-01-29T07:04:25.873896Z",
     "iopub.status.busy": "2023-01-29T07:04:25.861224Z",
     "iopub.status.idle": "2023-01-29T07:05:13.478180Z",
     "shell.execute_reply": "2023-01-29T07:05:13.478776Z",
     "shell.execute_reply.started": "2023-01-29T06:51:31.286274Z"
    },
    "papermill": {
     "duration": 47.637986,
     "end_time": "2023-01-29T07:05:13.479081",
     "exception": false,
     "start_time": "2023-01-29T07:04:25.841095",
     "status": "completed"
    },
    "tags": []
   },
   "outputs": [
    {
     "name": "stdout",
     "output_type": "stream",
     "text": [
      "Collecting pyspark\r\n",
      "  Downloading pyspark-3.3.1.tar.gz (281.4 MB)\r\n",
      "\u001b[K     |████████████████████████████████| 281.4 MB 34 kB/s \r\n",
      "\u001b[?25hCollecting py4j==0.10.9.5\r\n",
      "  Downloading py4j-0.10.9.5-py2.py3-none-any.whl (199 kB)\r\n",
      "\u001b[K     |████████████████████████████████| 199 kB 62.6 MB/s \r\n",
      "\u001b[?25hBuilding wheels for collected packages: pyspark\r\n",
      "  Building wheel for pyspark (setup.py) ... \u001b[?25l-\b \b\\\b \b|\b \b/\b \b-\b \b\\\b \b|\b \b/\b \b-\b \b\\\b \b|\b \b/\b \b-\b \b\\\b \b|\b \b/\b \b-\b \b\\\b \b|\b \b/\b \b-\b \b\\\b \b|\b \b/\b \b-\b \b\\\b \b|\b \b/\b \b-\b \b\\\b \b|\b \b/\b \b-\b \b\\\b \b|\b \b/\b \b-\b \b\\\b \b|\b \b/\b \b-\b \b\\\b \b|\b \b/\b \b-\b \b\\\b \b|\b \b/\b \b-\b \b\\\b \b|\b \b/\b \b-\b \b\\\b \b|\b \b/\b \b-\b \b\\\b \b|\b \b/\b \b-\b \b\\\b \bdone\r\n",
      "\u001b[?25h  Created wheel for pyspark: filename=pyspark-3.3.1-py2.py3-none-any.whl size=281845515 sha256=6c17a35510089913c69920e81760ffb778e7e7ba5fa261e5b1de14d79d278212\r\n",
      "  Stored in directory: /root/.cache/pip/wheels/42/59/f5/79a5bf931714dcd201b26025347785f087370a10a3329a899c\r\n",
      "Successfully built pyspark\r\n",
      "Installing collected packages: py4j, pyspark\r\n",
      "Successfully installed py4j-0.10.9.5 pyspark-3.3.1\r\n",
      "Note: you may need to restart the kernel to use updated packages.\n"
     ]
    }
   ],
   "source": [
    "pip install pyspark"
   ]
  },
  {
   "cell_type": "markdown",
   "id": "different-suspension",
   "metadata": {
    "papermill": {
     "duration": 0.142047,
     "end_time": "2023-01-29T07:05:13.760260",
     "exception": false,
     "start_time": "2023-01-29T07:05:13.618213",
     "status": "completed"
    },
    "tags": []
   },
   "source": [
    "# Simplest way to create an DataFrame is from a Python list of data. DataFrame can also be created from an RDD and by reading a files from several sources."
   ]
  },
  {
   "cell_type": "code",
   "execution_count": 2,
   "id": "indoor-eight",
   "metadata": {
    "execution": {
     "iopub.execute_input": "2023-01-29T07:05:14.039124Z",
     "iopub.status.busy": "2023-01-29T07:05:14.038065Z",
     "iopub.status.idle": "2023-01-29T07:05:14.094117Z",
     "shell.execute_reply": "2023-01-29T07:05:14.093539Z",
     "shell.execute_reply.started": "2023-01-29T07:00:00.486132Z"
    },
    "papermill": {
     "duration": 0.196356,
     "end_time": "2023-01-29T07:05:14.094322",
     "exception": false,
     "start_time": "2023-01-29T07:05:13.897966",
     "status": "completed"
    },
    "tags": []
   },
   "outputs": [],
   "source": [
    "import pyspark"
   ]
  },
  {
   "cell_type": "code",
   "execution_count": 3,
   "id": "demographic-hearing",
   "metadata": {
    "execution": {
     "iopub.execute_input": "2023-01-29T07:05:14.369762Z",
     "iopub.status.busy": "2023-01-29T07:05:14.369107Z",
     "iopub.status.idle": "2023-01-29T07:05:14.371912Z",
     "shell.execute_reply": "2023-01-29T07:05:14.371291Z",
     "shell.execute_reply.started": "2023-01-29T07:00:00.695922Z"
    },
    "papermill": {
     "duration": 0.140105,
     "end_time": "2023-01-29T07:05:14.372055",
     "exception": false,
     "start_time": "2023-01-29T07:05:14.231950",
     "status": "completed"
    },
    "tags": []
   },
   "outputs": [],
   "source": [
    "from pyspark.sql import SparkSession"
   ]
  },
  {
   "cell_type": "code",
   "execution_count": 4,
   "id": "controversial-election",
   "metadata": {
    "execution": {
     "iopub.execute_input": "2023-01-29T07:05:14.648867Z",
     "iopub.status.busy": "2023-01-29T07:05:14.648099Z",
     "iopub.status.idle": "2023-01-29T07:05:20.239129Z",
     "shell.execute_reply": "2023-01-29T07:05:20.239673Z",
     "shell.execute_reply.started": "2023-01-29T07:00:00.890976Z"
    },
    "papermill": {
     "duration": 5.734193,
     "end_time": "2023-01-29T07:05:20.239870",
     "exception": false,
     "start_time": "2023-01-29T07:05:14.505677",
     "status": "completed"
    },
    "tags": []
   },
   "outputs": [],
   "source": [
    "spark =SparkSession.builder.appName('SparkByExamples.com').getOrCreate()\n"
   ]
  },
  {
   "cell_type": "code",
   "execution_count": 5,
   "id": "fleet-addiction",
   "metadata": {
    "execution": {
     "iopub.execute_input": "2023-01-29T07:05:20.515284Z",
     "iopub.status.busy": "2023-01-29T07:05:20.514224Z",
     "iopub.status.idle": "2023-01-29T07:05:27.036564Z",
     "shell.execute_reply": "2023-01-29T07:05:27.035982Z",
     "shell.execute_reply.started": "2023-01-29T07:00:18.093814Z"
    },
    "papermill": {
     "duration": 6.6625,
     "end_time": "2023-01-29T07:05:27.036728",
     "exception": false,
     "start_time": "2023-01-29T07:05:20.374228",
     "status": "completed"
    },
    "tags": []
   },
   "outputs": [
    {
     "name": "stdout",
     "output_type": "stream",
     "text": [
      "+---------+----------+--------+----------+------+------+\n",
      "|firstname|middlename|lastname|       dob|gender|salary|\n",
      "+---------+----------+--------+----------+------+------+\n",
      "|    James|          |   Smith|1991-04-01|     M|  3000|\n",
      "|  Michael|      Rose|        |2000-05-19|     M|  4000|\n",
      "|   Robert|          |Williams|1978-09-05|     M|  4000|\n",
      "|    Maria|      Anne|   Jones|1967-12-01|     F|  4000|\n",
      "|      Jen|      Mary|   Brown|1980-02-17|     F|    -1|\n",
      "+---------+----------+--------+----------+------+------+\n",
      "\n"
     ]
    }
   ],
   "source": [
    "data =[('James','','Smith','1991-04-01','M',3000),\n",
    "('Michael','Rose','','2000-05-19','M',4000),\n",
    "('Robert','','Williams','1978-09-05','M',4000),\n",
    "('Maria','Anne','Jones','1967-12-01','F',4000),\n",
    "('Jen','Mary','Brown','1980-02-17','F',-1)]\n",
    "\n",
    "columns =[\"firstname\",\"middlename\",\"lastname\",\"dob\",\"gender\",\"salary\"]\n",
    "df = spark.createDataFrame(data=data, schema = columns)\n",
    "df.show()"
   ]
  },
  {
   "cell_type": "code",
   "execution_count": 6,
   "id": "continuous-congress",
   "metadata": {
    "execution": {
     "iopub.execute_input": "2023-01-29T07:05:27.313958Z",
     "iopub.status.busy": "2023-01-29T07:05:27.313262Z",
     "iopub.status.idle": "2023-01-29T07:05:27.315424Z",
     "shell.execute_reply": "2023-01-29T07:05:27.316054Z",
     "shell.execute_reply.started": "2023-01-29T07:01:42.890414Z"
    },
    "papermill": {
     "duration": 0.147321,
     "end_time": "2023-01-29T07:05:27.316253",
     "exception": false,
     "start_time": "2023-01-29T07:05:27.168932",
     "status": "completed"
    },
    "tags": []
   },
   "outputs": [],
   "source": [
    "data=[(1,\"Mahesh\",70),\n",
    "     (2,\"Prashant\",40),\n",
    "     (3,\"akansha\",90)]"
   ]
  },
  {
   "cell_type": "code",
   "execution_count": 7,
   "id": "qualified-remains",
   "metadata": {
    "execution": {
     "iopub.execute_input": "2023-01-29T07:05:27.586979Z",
     "iopub.status.busy": "2023-01-29T07:05:27.586349Z",
     "iopub.status.idle": "2023-01-29T07:05:27.590301Z",
     "shell.execute_reply": "2023-01-29T07:05:27.590846Z",
     "shell.execute_reply.started": "2023-01-29T07:02:06.443330Z"
    },
    "papermill": {
     "duration": 0.141208,
     "end_time": "2023-01-29T07:05:27.591019",
     "exception": false,
     "start_time": "2023-01-29T07:05:27.449811",
     "status": "completed"
    },
    "tags": []
   },
   "outputs": [],
   "source": [
    "columns=[\"roll\",\"name\",\"marks\"]"
   ]
  },
  {
   "cell_type": "code",
   "execution_count": 8,
   "id": "historic-steps",
   "metadata": {
    "execution": {
     "iopub.execute_input": "2023-01-29T07:05:27.865553Z",
     "iopub.status.busy": "2023-01-29T07:05:27.864843Z",
     "iopub.status.idle": "2023-01-29T07:05:27.914370Z",
     "shell.execute_reply": "2023-01-29T07:05:27.914902Z",
     "shell.execute_reply.started": "2023-01-29T07:03:19.968055Z"
    },
    "papermill": {
     "duration": 0.189805,
     "end_time": "2023-01-29T07:05:27.915081",
     "exception": false,
     "start_time": "2023-01-29T07:05:27.725276",
     "status": "completed"
    },
    "tags": []
   },
   "outputs": [],
   "source": [
    "df=spark.createDataFrame(data=data,schema=columns)"
   ]
  },
  {
   "cell_type": "code",
   "execution_count": 9,
   "id": "interracial-representative",
   "metadata": {
    "execution": {
     "iopub.execute_input": "2023-01-29T07:05:28.201458Z",
     "iopub.status.busy": "2023-01-29T07:05:28.200760Z",
     "iopub.status.idle": "2023-01-29T07:05:28.564410Z",
     "shell.execute_reply": "2023-01-29T07:05:28.563414Z",
     "shell.execute_reply.started": "2023-01-29T07:03:29.895806Z"
    },
    "papermill": {
     "duration": 0.501572,
     "end_time": "2023-01-29T07:05:28.564696",
     "exception": false,
     "start_time": "2023-01-29T07:05:28.063124",
     "status": "completed"
    },
    "tags": []
   },
   "outputs": [
    {
     "name": "stdout",
     "output_type": "stream",
     "text": [
      "+----+--------+-----+\n",
      "|roll|    name|marks|\n",
      "+----+--------+-----+\n",
      "|   1|  Mahesh|   70|\n",
      "|   2|Prashant|   40|\n",
      "|   3| akansha|   90|\n",
      "+----+--------+-----+\n",
      "\n"
     ]
    }
   ],
   "source": [
    "df.show()"
   ]
  },
  {
   "cell_type": "code",
   "execution_count": null,
   "id": "binary-profile",
   "metadata": {
    "papermill": {
     "duration": 0.135774,
     "end_time": "2023-01-29T07:05:28.863043",
     "exception": false,
     "start_time": "2023-01-29T07:05:28.727269",
     "status": "completed"
    },
    "tags": []
   },
   "outputs": [],
   "source": []
  }
 ],
 "metadata": {
  "kernelspec": {
   "display_name": "Python 3",
   "language": "python",
   "name": "python3"
  },
  "language_info": {
   "codemirror_mode": {
    "name": "ipython",
    "version": 3
   },
   "file_extension": ".py",
   "mimetype": "text/x-python",
   "name": "python",
   "nbconvert_exporter": "python",
   "pygments_lexer": "ipython3",
   "version": "3.7.10"
  },
  "papermill": {
   "default_parameters": {},
   "duration": 71.847418,
   "end_time": "2023-01-29T07:05:29.706947",
   "environment_variables": {},
   "exception": null,
   "input_path": "__notebook__.ipynb",
   "output_path": "__notebook__.ipynb",
   "parameters": {},
   "start_time": "2023-01-29T07:04:17.859529",
   "version": "2.3.3"
  }
 },
 "nbformat": 4,
 "nbformat_minor": 5
}
