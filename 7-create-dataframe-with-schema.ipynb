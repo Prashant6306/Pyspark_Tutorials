{
 "cells": [
  {
   "cell_type": "code",
   "execution_count": 1,
   "id": "standard-prototype",
   "metadata": {
    "execution": {
     "iopub.execute_input": "2023-01-29T13:43:15.905349Z",
     "iopub.status.busy": "2023-01-29T13:43:15.903775Z",
     "iopub.status.idle": "2023-01-29T13:44:00.841283Z",
     "shell.execute_reply": "2023-01-29T13:44:00.839814Z",
     "shell.execute_reply.started": "2023-01-29T13:36:16.203563Z"
    },
    "papermill": {
     "duration": 44.953508,
     "end_time": "2023-01-29T13:44:00.841604",
     "exception": false,
     "start_time": "2023-01-29T13:43:15.888096",
     "status": "completed"
    },
    "tags": []
   },
   "outputs": [
    {
     "name": "stdout",
     "output_type": "stream",
     "text": [
      "Collecting pyspark\r\n",
      "  Downloading pyspark-3.3.1.tar.gz (281.4 MB)\r\n",
      "\u001b[K     |████████████████████████████████| 281.4 MB 33 kB/s \r\n",
      "\u001b[?25hCollecting py4j==0.10.9.5\r\n",
      "  Downloading py4j-0.10.9.5-py2.py3-none-any.whl (199 kB)\r\n",
      "\u001b[K     |████████████████████████████████| 199 kB 59.3 MB/s \r\n",
      "\u001b[?25hBuilding wheels for collected packages: pyspark\r\n",
      "  Building wheel for pyspark (setup.py) ... \u001b[?25l-\b \b\\\b \b|\b \b/\b \b-\b \b\\\b \b|\b \b/\b \b-\b \b\\\b \b|\b \b/\b \b-\b \b\\\b \b|\b \b/\b \b-\b \b\\\b \b|\b \b/\b \b-\b \b\\\b \b|\b \b/\b \b-\b \b\\\b \b|\b \b/\b \b-\b \b\\\b \b|\b \b/\b \b-\b \b\\\b \b|\b \b/\b \b-\b \b\\\b \b|\b \b/\b \b-\b \b\\\b \b|\b \b/\b \b-\b \b\\\b \b|\b \b/\b \b-\b \b\\\b \b|\b \b/\b \b-\b \b\\\b \b|\b \b/\b \b-\b \b\\\b \b|\b \b/\b \b-\b \b\\\b \b|\b \bdone\r\n",
      "\u001b[?25h  Created wheel for pyspark: filename=pyspark-3.3.1-py2.py3-none-any.whl size=281845515 sha256=8348031d3e668506f29ef692bfda8e3b21fc576ebb8bf72dd8c9e993fb50bc12\r\n",
      "  Stored in directory: /root/.cache/pip/wheels/42/59/f5/79a5bf931714dcd201b26025347785f087370a10a3329a899c\r\n",
      "Successfully built pyspark\r\n",
      "Installing collected packages: py4j, pyspark\r\n",
      "Successfully installed py4j-0.10.9.5 pyspark-3.3.1\r\n",
      "Note: you may need to restart the kernel to use updated packages.\n"
     ]
    }
   ],
   "source": [
    "pip install pyspark"
   ]
  },
  {
   "cell_type": "markdown",
   "id": "impaired-spencer",
   "metadata": {
    "papermill": {
     "duration": 0.128476,
     "end_time": "2023-01-29T13:44:01.099594",
     "exception": false,
     "start_time": "2023-01-29T13:44:00.971118",
     "status": "completed"
    },
    "tags": []
   },
   "source": [
    "# If you wanted to specify the column names along with their data types, you should create the StructType schema first and then assign this while creating a DataFrame."
   ]
  },
  {
   "cell_type": "code",
   "execution_count": 2,
   "id": "lucky-provider",
   "metadata": {
    "execution": {
     "iopub.execute_input": "2023-01-29T13:44:01.385549Z",
     "iopub.status.busy": "2023-01-29T13:44:01.384836Z",
     "iopub.status.idle": "2023-01-29T13:44:01.440271Z",
     "shell.execute_reply": "2023-01-29T13:44:01.439748Z",
     "shell.execute_reply.started": "2023-01-29T13:37:16.171466Z"
    },
    "papermill": {
     "duration": 0.216245,
     "end_time": "2023-01-29T13:44:01.440419",
     "exception": false,
     "start_time": "2023-01-29T13:44:01.224174",
     "status": "completed"
    },
    "tags": []
   },
   "outputs": [],
   "source": [
    "import pyspark"
   ]
  },
  {
   "cell_type": "code",
   "execution_count": 3,
   "id": "german-allen",
   "metadata": {
    "execution": {
     "iopub.execute_input": "2023-01-29T13:44:01.697948Z",
     "iopub.status.busy": "2023-01-29T13:44:01.696964Z",
     "iopub.status.idle": "2023-01-29T13:44:01.699740Z",
     "shell.execute_reply": "2023-01-29T13:44:01.699137Z",
     "shell.execute_reply.started": "2023-01-29T13:37:16.246892Z"
    },
    "papermill": {
     "duration": 0.13232,
     "end_time": "2023-01-29T13:44:01.699888",
     "exception": false,
     "start_time": "2023-01-29T13:44:01.567568",
     "status": "completed"
    },
    "tags": []
   },
   "outputs": [],
   "source": [
    "from pyspark.sql import SparkSession"
   ]
  },
  {
   "cell_type": "code",
   "execution_count": 4,
   "id": "downtown-refrigerator",
   "metadata": {
    "execution": {
     "iopub.execute_input": "2023-01-29T13:44:01.960419Z",
     "iopub.status.busy": "2023-01-29T13:44:01.959727Z",
     "iopub.status.idle": "2023-01-29T13:44:07.474397Z",
     "shell.execute_reply": "2023-01-29T13:44:07.474987Z",
     "shell.execute_reply.started": "2023-01-29T13:37:16.253886Z"
    },
    "papermill": {
     "duration": 5.64967,
     "end_time": "2023-01-29T13:44:07.475175",
     "exception": false,
     "start_time": "2023-01-29T13:44:01.825505",
     "status": "completed"
    },
    "tags": []
   },
   "outputs": [],
   "source": [
    "spark =SparkSession.builder.appName('SparkByExamples.com').getOrCreate()\n"
   ]
  },
  {
   "cell_type": "code",
   "execution_count": 5,
   "id": "earned-cisco",
   "metadata": {
    "execution": {
     "iopub.execute_input": "2023-01-29T13:44:07.728414Z",
     "iopub.status.busy": "2023-01-29T13:44:07.727419Z",
     "iopub.status.idle": "2023-01-29T13:44:07.732070Z",
     "shell.execute_reply": "2023-01-29T13:44:07.732640Z",
     "shell.execute_reply.started": "2023-01-29T13:37:21.770583Z"
    },
    "papermill": {
     "duration": 0.13357,
     "end_time": "2023-01-29T13:44:07.732818",
     "exception": false,
     "start_time": "2023-01-29T13:44:07.599248",
     "status": "completed"
    },
    "tags": []
   },
   "outputs": [],
   "source": [
    "from pyspark.sql.types import StructType,StringType,IntegerType,StructField"
   ]
  },
  {
   "cell_type": "code",
   "execution_count": 6,
   "id": "regular-simon",
   "metadata": {
    "execution": {
     "iopub.execute_input": "2023-01-29T13:44:07.983765Z",
     "iopub.status.busy": "2023-01-29T13:44:07.983063Z",
     "iopub.status.idle": "2023-01-29T13:44:07.987486Z",
     "shell.execute_reply": "2023-01-29T13:44:07.988001Z",
     "shell.execute_reply.started": "2023-01-29T13:37:21.779429Z"
    },
    "papermill": {
     "duration": 0.132619,
     "end_time": "2023-01-29T13:44:07.988179",
     "exception": false,
     "start_time": "2023-01-29T13:44:07.855560",
     "status": "completed"
    },
    "tags": []
   },
   "outputs": [],
   "source": [
    "data2=[\n",
    "    (\"mahesh\",1,90),\n",
    "    (\"ganesh\",2,90),\n",
    "    (\"janesh\",3,90)\n",
    "]"
   ]
  },
  {
   "cell_type": "code",
   "execution_count": 7,
   "id": "intermediate-latitude",
   "metadata": {
    "execution": {
     "iopub.execute_input": "2023-01-29T13:44:08.239249Z",
     "iopub.status.busy": "2023-01-29T13:44:08.238633Z",
     "iopub.status.idle": "2023-01-29T13:44:08.243993Z",
     "shell.execute_reply": "2023-01-29T13:44:08.243357Z",
     "shell.execute_reply.started": "2023-01-29T13:41:36.217075Z"
    },
    "papermill": {
     "duration": 0.131924,
     "end_time": "2023-01-29T13:44:08.244130",
     "exception": false,
     "start_time": "2023-01-29T13:44:08.112206",
     "status": "completed"
    },
    "tags": []
   },
   "outputs": [],
   "source": [
    "schema=StructType(\n",
    "[\n",
    "    StructField(\"Name\",StringType(),True),\n",
    "    StructField(\"roll\",IntegerType(),True),\n",
    "    StructField(\"Salary\",IntegerType(),True)\n",
    "]\n",
    ")"
   ]
  },
  {
   "cell_type": "code",
   "execution_count": 8,
   "id": "right-frontier",
   "metadata": {
    "execution": {
     "iopub.execute_input": "2023-01-29T13:44:08.494201Z",
     "iopub.status.busy": "2023-01-29T13:44:08.493486Z",
     "iopub.status.idle": "2023-01-29T13:44:12.349319Z",
     "shell.execute_reply": "2023-01-29T13:44:12.348282Z",
     "shell.execute_reply.started": "2023-01-29T13:42:10.354855Z"
    },
    "papermill": {
     "duration": 3.983486,
     "end_time": "2023-01-29T13:44:12.349579",
     "exception": false,
     "start_time": "2023-01-29T13:44:08.366093",
     "status": "completed"
    },
    "tags": []
   },
   "outputs": [],
   "source": [
    "df=spark.createDataFrame(data=data2,schema=schema)"
   ]
  },
  {
   "cell_type": "code",
   "execution_count": 9,
   "id": "friendly-shelter",
   "metadata": {
    "execution": {
     "iopub.execute_input": "2023-01-29T13:44:12.620523Z",
     "iopub.status.busy": "2023-01-29T13:44:12.618730Z",
     "iopub.status.idle": "2023-01-29T13:44:12.659182Z",
     "shell.execute_reply": "2023-01-29T13:44:12.660265Z",
     "shell.execute_reply.started": "2023-01-29T13:42:23.137488Z"
    },
    "papermill": {
     "duration": 0.175385,
     "end_time": "2023-01-29T13:44:12.660505",
     "exception": false,
     "start_time": "2023-01-29T13:44:12.485120",
     "status": "completed"
    },
    "tags": []
   },
   "outputs": [
    {
     "name": "stdout",
     "output_type": "stream",
     "text": [
      "root\n",
      " |-- Name: string (nullable = true)\n",
      " |-- roll: integer (nullable = true)\n",
      " |-- Salary: integer (nullable = true)\n",
      "\n"
     ]
    }
   ],
   "source": [
    "df.printSchema()"
   ]
  },
  {
   "cell_type": "code",
   "execution_count": 10,
   "id": "stuck-drink",
   "metadata": {
    "execution": {
     "iopub.execute_input": "2023-01-29T13:44:12.916908Z",
     "iopub.status.busy": "2023-01-29T13:44:12.915891Z",
     "iopub.status.idle": "2023-01-29T13:44:15.736448Z",
     "shell.execute_reply": "2023-01-29T13:44:15.735609Z",
     "shell.execute_reply.started": "2023-01-29T13:42:36.605520Z"
    },
    "papermill": {
     "duration": 2.950632,
     "end_time": "2023-01-29T13:44:15.736649",
     "exception": false,
     "start_time": "2023-01-29T13:44:12.786017",
     "status": "completed"
    },
    "tags": []
   },
   "outputs": [
    {
     "name": "stdout",
     "output_type": "stream",
     "text": [
      "+------+----+------+\n",
      "|  Name|roll|Salary|\n",
      "+------+----+------+\n",
      "|mahesh|   1|    90|\n",
      "|ganesh|   2|    90|\n",
      "+------+----+------+\n",
      "only showing top 2 rows\n",
      "\n"
     ]
    }
   ],
   "source": [
    "df.show(2)"
   ]
  },
  {
   "cell_type": "code",
   "execution_count": null,
   "id": "legal-patrick",
   "metadata": {
    "papermill": {
     "duration": 0.127468,
     "end_time": "2023-01-29T13:44:16.006972",
     "exception": false,
     "start_time": "2023-01-29T13:44:15.879504",
     "status": "completed"
    },
    "tags": []
   },
   "outputs": [],
   "source": []
  },
  {
   "cell_type": "code",
   "execution_count": null,
   "id": "violent-racing",
   "metadata": {
    "papermill": {
     "duration": 0.127415,
     "end_time": "2023-01-29T13:44:16.261243",
     "exception": false,
     "start_time": "2023-01-29T13:44:16.133828",
     "status": "completed"
    },
    "tags": []
   },
   "outputs": [],
   "source": []
  },
  {
   "cell_type": "code",
   "execution_count": null,
   "id": "noble-verification",
   "metadata": {
    "papermill": {
     "duration": 0.140539,
     "end_time": "2023-01-29T13:44:16.529119",
     "exception": false,
     "start_time": "2023-01-29T13:44:16.388580",
     "status": "completed"
    },
    "tags": []
   },
   "outputs": [],
   "source": []
  }
 ],
 "metadata": {
  "kernelspec": {
   "display_name": "Python 3",
   "language": "python",
   "name": "python3"
  },
  "language_info": {
   "codemirror_mode": {
    "name": "ipython",
    "version": 3
   },
   "file_extension": ".py",
   "mimetype": "text/x-python",
   "name": "python",
   "nbconvert_exporter": "python",
   "pygments_lexer": "ipython3",
   "version": "3.7.10"
  },
  "papermill": {
   "default_parameters": {},
   "duration": 69.822675,
   "end_time": "2023-01-29T13:44:17.956020",
   "environment_variables": {},
   "exception": null,
   "input_path": "__notebook__.ipynb",
   "output_path": "__notebook__.ipynb",
   "parameters": {},
   "start_time": "2023-01-29T13:43:08.133345",
   "version": "2.3.3"
  }
 },
 "nbformat": 4,
 "nbformat_minor": 5
}
