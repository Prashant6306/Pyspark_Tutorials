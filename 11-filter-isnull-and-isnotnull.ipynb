{
 "cells": [
  {
   "cell_type": "code",
   "execution_count": 1,
   "id": "monthly-transcription",
   "metadata": {
    "execution": {
     "iopub.execute_input": "2023-01-30T06:03:01.503473Z",
     "iopub.status.busy": "2023-01-30T06:03:01.488152Z",
     "iopub.status.idle": "2023-01-30T06:03:49.568932Z",
     "shell.execute_reply": "2023-01-30T06:03:49.569430Z",
     "shell.execute_reply.started": "2023-01-30T05:33:29.993090Z"
    },
    "papermill": {
     "duration": 48.108965,
     "end_time": "2023-01-30T06:03:49.569718",
     "exception": false,
     "start_time": "2023-01-30T06:03:01.460753",
     "status": "completed"
    },
    "tags": []
   },
   "outputs": [
    {
     "name": "stdout",
     "output_type": "stream",
     "text": [
      "Collecting pyspark\r\n",
      "  Downloading pyspark-3.3.1.tar.gz (281.4 MB)\r\n",
      "\u001b[K     |████████████████████████████████| 281.4 MB 29 kB/s \r\n",
      "\u001b[?25hCollecting py4j==0.10.9.5\r\n",
      "  Downloading py4j-0.10.9.5-py2.py3-none-any.whl (199 kB)\r\n",
      "\u001b[K     |████████████████████████████████| 199 kB 73.4 MB/s \r\n",
      "\u001b[?25hBuilding wheels for collected packages: pyspark\r\n",
      "  Building wheel for pyspark (setup.py) ... \u001b[?25l-\b \b\\\b \b|\b \b/\b \b-\b \b\\\b \b|\b \b/\b \b-\b \b\\\b \b|\b \b/\b \b-\b \b\\\b \b|\b \b/\b \b-\b \b\\\b \b|\b \b/\b \b-\b \b\\\b \b|\b \b/\b \b-\b \b\\\b \b|\b \b/\b \b-\b \b\\\b \b|\b \b/\b \b-\b \b\\\b \b|\b \b/\b \b-\b \b\\\b \b|\b \b/\b \b-\b \b\\\b \b|\b \b/\b \b-\b \b\\\b \b|\b \b/\b \b-\b \b\\\b \b|\b \b/\b \b-\b \b\\\b \b|\b \b/\b \b-\b \b\\\b \bdone\r\n",
      "\u001b[?25h  Created wheel for pyspark: filename=pyspark-3.3.1-py2.py3-none-any.whl size=281845515 sha256=9ed7a4be9ac8837f6865dd97caadb93fe0523c03cc0abc88f444995fc53accee\r\n",
      "  Stored in directory: /root/.cache/pip/wheels/42/59/f5/79a5bf931714dcd201b26025347785f087370a10a3329a899c\r\n",
      "Successfully built pyspark\r\n",
      "Installing collected packages: py4j, pyspark\r\n",
      "Successfully installed py4j-0.10.9.5 pyspark-3.3.1\r\n",
      "Note: you may need to restart the kernel to use updated packages.\n"
     ]
    }
   ],
   "source": [
    "pip install pyspark"
   ]
  },
  {
   "cell_type": "code",
   "execution_count": 2,
   "id": "banner-admission",
   "metadata": {
    "execution": {
     "iopub.execute_input": "2023-01-30T06:03:49.859150Z",
     "iopub.status.busy": "2023-01-30T06:03:49.858637Z",
     "iopub.status.idle": "2023-01-30T06:03:49.907976Z",
     "shell.execute_reply": "2023-01-30T06:03:49.908410Z",
     "shell.execute_reply.started": "2023-01-30T05:34:20.211009Z"
    },
    "papermill": {
     "duration": 0.195382,
     "end_time": "2023-01-30T06:03:49.908563",
     "exception": false,
     "start_time": "2023-01-30T06:03:49.713181",
     "status": "completed"
    },
    "tags": []
   },
   "outputs": [],
   "source": [
    "import pyspark"
   ]
  },
  {
   "cell_type": "code",
   "execution_count": 3,
   "id": "virgin-meditation",
   "metadata": {
    "execution": {
     "iopub.execute_input": "2023-01-30T06:03:50.199337Z",
     "iopub.status.busy": "2023-01-30T06:03:50.198755Z",
     "iopub.status.idle": "2023-01-30T06:03:50.200616Z",
     "shell.execute_reply": "2023-01-30T06:03:50.201154Z",
     "shell.execute_reply.started": "2023-01-30T05:34:20.278213Z"
    },
    "papermill": {
     "duration": 0.151443,
     "end_time": "2023-01-30T06:03:50.201322",
     "exception": false,
     "start_time": "2023-01-30T06:03:50.049879",
     "status": "completed"
    },
    "tags": []
   },
   "outputs": [],
   "source": [
    "from pyspark.sql import SparkSession"
   ]
  },
  {
   "cell_type": "code",
   "execution_count": 4,
   "id": "standard-graphic",
   "metadata": {
    "execution": {
     "iopub.execute_input": "2023-01-30T06:03:50.495756Z",
     "iopub.status.busy": "2023-01-30T06:03:50.495219Z",
     "iopub.status.idle": "2023-01-30T06:03:55.992297Z",
     "shell.execute_reply": "2023-01-30T06:03:55.991756Z",
     "shell.execute_reply.started": "2023-01-30T05:34:20.311517Z"
    },
    "papermill": {
     "duration": 5.645526,
     "end_time": "2023-01-30T06:03:55.992450",
     "exception": false,
     "start_time": "2023-01-30T06:03:50.346924",
     "status": "completed"
    },
    "tags": []
   },
   "outputs": [],
   "source": [
    "spark =SparkSession.builder.appName('SparkByExamples.com').getOrCreate()\n"
   ]
  },
  {
   "cell_type": "markdown",
   "id": "smaller-organizer",
   "metadata": {
    "papermill": {
     "duration": 0.140741,
     "end_time": "2023-01-30T06:03:56.275034",
     "exception": false,
     "start_time": "2023-01-30T06:03:56.134293",
     "status": "completed"
    },
    "tags": []
   },
   "source": [
    "# PySpark – How to Filter data from DataFramebased on the given condition or SQL expression, you can also\tuse background, both these functions operate exactly the same."
   ]
  },
  {
   "cell_type": "code",
   "execution_count": 5,
   "id": "occupied-puzzle",
   "metadata": {
    "execution": {
     "iopub.execute_input": "2023-01-30T06:03:56.559370Z",
     "iopub.status.busy": "2023-01-30T06:03:56.558810Z",
     "iopub.status.idle": "2023-01-30T06:04:02.723329Z",
     "shell.execute_reply": "2023-01-30T06:04:02.723953Z",
     "shell.execute_reply.started": "2023-01-30T05:44:14.291792Z"
    },
    "papermill": {
     "duration": 6.308794,
     "end_time": "2023-01-30T06:04:02.724195",
     "exception": false,
     "start_time": "2023-01-30T06:03:56.415401",
     "status": "completed"
    },
    "tags": []
   },
   "outputs": [
    {
     "name": "stdout",
     "output_type": "stream",
     "text": [
      "+-----+-----+------+\n",
      "| name|state|gender|\n",
      "+-----+-----+------+\n",
      "|James| null|     M|\n",
      "| Anna|   NY|     F|\n",
      "|Julia| null|  null|\n",
      "+-----+-----+------+\n",
      "\n"
     ]
    }
   ],
   "source": [
    "from pyspark.sql import SparkSession \n",
    "spark =SparkSession.builder.master(\"local[1]\").appName(\"SparkByExamples.com\").getOrCreate()\n",
    "\n",
    "data =[\n",
    "(\"James\",None,\"M\"),\n",
    "(\"Anna\",\"NY\",\"F\"),\n",
    "(\"Julia\",None,None)\n",
    "]\n",
    "\n",
    "columns =[\"name\",\"state\",\"gender\"]\n",
    "df = spark.createDataFrame(data,columns)\n",
    "df.show()"
   ]
  },
  {
   "cell_type": "markdown",
   "id": "painted-webmaster",
   "metadata": {
    "papermill": {
     "duration": 0.144718,
     "end_time": "2023-01-30T06:04:03.021386",
     "exception": false,
     "start_time": "2023-01-30T06:04:02.876668",
     "status": "completed"
    },
    "tags": []
   },
   "source": [
    "# Now, let’s see how to filter rows with null values on DataFrame."
   ]
  },
  {
   "cell_type": "markdown",
   "id": "vertical-brisbane",
   "metadata": {
    "papermill": {
     "duration": 0.143305,
     "end_time": "2023-01-30T06:04:03.307355",
     "exception": false,
     "start_time": "2023-01-30T06:04:03.164050",
     "status": "completed"
    },
    "tags": []
   },
   "source": [
    "# 1. Filter Rows with NULL Values in DataFrame"
   ]
  },
  {
   "cell_type": "code",
   "execution_count": 6,
   "id": "suspended-lodging",
   "metadata": {
    "execution": {
     "iopub.execute_input": "2023-01-30T06:04:03.596918Z",
     "iopub.status.busy": "2023-01-30T06:04:03.596071Z",
     "iopub.status.idle": "2023-01-30T06:04:04.036466Z",
     "shell.execute_reply": "2023-01-30T06:04:04.035841Z",
     "shell.execute_reply.started": "2023-01-30T05:47:04.400478Z"
    },
    "papermill": {
     "duration": 0.585677,
     "end_time": "2023-01-30T06:04:04.036611",
     "exception": false,
     "start_time": "2023-01-30T06:04:03.450934",
     "status": "completed"
    },
    "tags": []
   },
   "outputs": [
    {
     "name": "stdout",
     "output_type": "stream",
     "text": [
      "+-----+-----+------+\n",
      "| name|state|gender|\n",
      "+-----+-----+------+\n",
      "|James| null|     M|\n",
      "|Julia| null|  null|\n",
      "+-----+-----+------+\n",
      "\n"
     ]
    }
   ],
   "source": [
    "df.filter(\"state is null\").show()"
   ]
  },
  {
   "cell_type": "code",
   "execution_count": 7,
   "id": "controlled-entrepreneur",
   "metadata": {
    "execution": {
     "iopub.execute_input": "2023-01-30T06:04:04.336581Z",
     "iopub.status.busy": "2023-01-30T06:04:04.335142Z",
     "iopub.status.idle": "2023-01-30T06:04:04.716544Z",
     "shell.execute_reply": "2023-01-30T06:04:04.715823Z",
     "shell.execute_reply.started": "2023-01-30T05:50:15.061786Z"
    },
    "papermill": {
     "duration": 0.534651,
     "end_time": "2023-01-30T06:04:04.716728",
     "exception": false,
     "start_time": "2023-01-30T06:04:04.182077",
     "status": "completed"
    },
    "tags": []
   },
   "outputs": [
    {
     "name": "stdout",
     "output_type": "stream",
     "text": [
      "+-----+-----+------+\n",
      "| name|state|gender|\n",
      "+-----+-----+------+\n",
      "|James| null|     M|\n",
      "|Julia| null|  null|\n",
      "+-----+-----+------+\n",
      "\n"
     ]
    }
   ],
   "source": [
    "df.filter(df.state.isNull()).show()"
   ]
  },
  {
   "cell_type": "code",
   "execution_count": 8,
   "id": "built-belle",
   "metadata": {
    "execution": {
     "iopub.execute_input": "2023-01-30T06:04:05.057728Z",
     "iopub.status.busy": "2023-01-30T06:04:05.057096Z",
     "iopub.status.idle": "2023-01-30T06:04:05.352963Z",
     "shell.execute_reply": "2023-01-30T06:04:05.352183Z",
     "shell.execute_reply.started": "2023-01-30T05:50:45.276080Z"
    },
    "papermill": {
     "duration": 0.460451,
     "end_time": "2023-01-30T06:04:05.353172",
     "exception": false,
     "start_time": "2023-01-30T06:04:04.892721",
     "status": "completed"
    },
    "tags": []
   },
   "outputs": [
    {
     "name": "stdout",
     "output_type": "stream",
     "text": [
      "+-----+-----+------+\n",
      "| name|state|gender|\n",
      "+-----+-----+------+\n",
      "|James| null|     M|\n",
      "|Julia| null|  null|\n",
      "+-----+-----+------+\n",
      "\n"
     ]
    }
   ],
   "source": [
    "df.filter(df[\"state\"].isNull()).show()"
   ]
  },
  {
   "cell_type": "markdown",
   "id": "embedded-cruise",
   "metadata": {
    "papermill": {
     "duration": 0.141806,
     "end_time": "2023-01-30T06:04:05.651284",
     "exception": false,
     "start_time": "2023-01-30T06:04:05.509478",
     "status": "completed"
    },
    "tags": []
   },
   "source": [
    "# 2. Filter Rows with NULL on Multiple Columns"
   ]
  },
  {
   "cell_type": "code",
   "execution_count": 9,
   "id": "assured-wallet",
   "metadata": {
    "execution": {
     "iopub.execute_input": "2023-01-30T06:04:05.943368Z",
     "iopub.status.busy": "2023-01-30T06:04:05.942699Z",
     "iopub.status.idle": "2023-01-30T06:04:06.306243Z",
     "shell.execute_reply": "2023-01-30T06:04:06.307262Z",
     "shell.execute_reply.started": "2023-01-30T05:55:08.508947Z"
    },
    "papermill": {
     "duration": 0.514045,
     "end_time": "2023-01-30T06:04:06.307444",
     "exception": false,
     "start_time": "2023-01-30T06:04:05.793399",
     "status": "completed"
    },
    "tags": []
   },
   "outputs": [
    {
     "name": "stdout",
     "output_type": "stream",
     "text": [
      "+-----+-----+------+\n",
      "| name|state|gender|\n",
      "+-----+-----+------+\n",
      "|Julia| null|  null|\n",
      "+-----+-----+------+\n",
      "\n"
     ]
    }
   ],
   "source": [
    "df.filter(df[\"state\"].isNull() & df[\"gender\"].isNull()).show()"
   ]
  },
  {
   "cell_type": "markdown",
   "id": "sustainable-green",
   "metadata": {
    "papermill": {
     "duration": 0.14624,
     "end_time": "2023-01-30T06:04:06.604351",
     "exception": false,
     "start_time": "2023-01-30T06:04:06.458111",
     "status": "completed"
    },
    "tags": []
   },
   "source": [
    "\n",
    "# 3. Filter Rows with IS NOT NULL or isNotNull "
   ]
  },
  {
   "cell_type": "code",
   "execution_count": 10,
   "id": "emotional-robertson",
   "metadata": {
    "execution": {
     "iopub.execute_input": "2023-01-30T06:04:06.909624Z",
     "iopub.status.busy": "2023-01-30T06:04:06.908896Z",
     "iopub.status.idle": "2023-01-30T06:04:07.205176Z",
     "shell.execute_reply": "2023-01-30T06:04:07.204218Z",
     "shell.execute_reply.started": "2023-01-30T05:55:50.503253Z"
    },
    "papermill": {
     "duration": 0.453952,
     "end_time": "2023-01-30T06:04:07.205437",
     "exception": false,
     "start_time": "2023-01-30T06:04:06.751485",
     "status": "completed"
    },
    "tags": []
   },
   "outputs": [
    {
     "name": "stdout",
     "output_type": "stream",
     "text": [
      "+----+-----+------+\n",
      "|name|state|gender|\n",
      "+----+-----+------+\n",
      "|Anna|   NY|     F|\n",
      "+----+-----+------+\n",
      "\n"
     ]
    }
   ],
   "source": [
    "df.filter(df[\"state\"].isNotNull() & df[\"gender\"].isNotNull()).show()"
   ]
  },
  {
   "cell_type": "code",
   "execution_count": 11,
   "id": "listed-diesel",
   "metadata": {
    "execution": {
     "iopub.execute_input": "2023-01-30T06:04:07.501722Z",
     "iopub.status.busy": "2023-01-30T06:04:07.501182Z",
     "iopub.status.idle": "2023-01-30T06:04:07.505122Z",
     "shell.execute_reply": "2023-01-30T06:04:07.504490Z",
     "shell.execute_reply.started": "2023-01-30T05:56:45.553619Z"
    },
    "papermill": {
     "duration": 0.149269,
     "end_time": "2023-01-30T06:04:07.505258",
     "exception": false,
     "start_time": "2023-01-30T06:04:07.355989",
     "status": "completed"
    },
    "tags": []
   },
   "outputs": [],
   "source": [
    "from pyspark.sql.functions import col "
   ]
  },
  {
   "cell_type": "markdown",
   "id": "upper-christmas",
   "metadata": {
    "papermill": {
     "duration": 0.141478,
     "end_time": "2023-01-30T06:04:07.787174",
     "exception": false,
     "start_time": "2023-01-30T06:04:07.645696",
     "status": "completed"
    },
    "tags": []
   },
   "source": [
    "# using col()"
   ]
  },
  {
   "cell_type": "code",
   "execution_count": 12,
   "id": "close-wellington",
   "metadata": {
    "execution": {
     "iopub.execute_input": "2023-01-30T06:04:08.076322Z",
     "iopub.status.busy": "2023-01-30T06:04:08.075737Z",
     "iopub.status.idle": "2023-01-30T06:04:08.367639Z",
     "shell.execute_reply": "2023-01-30T06:04:08.366839Z",
     "shell.execute_reply.started": "2023-01-30T05:57:07.116910Z"
    },
    "papermill": {
     "duration": 0.438926,
     "end_time": "2023-01-30T06:04:08.367841",
     "exception": false,
     "start_time": "2023-01-30T06:04:07.928915",
     "status": "completed"
    },
    "tags": []
   },
   "outputs": [
    {
     "name": "stdout",
     "output_type": "stream",
     "text": [
      "+----+-----+------+\n",
      "|name|state|gender|\n",
      "+----+-----+------+\n",
      "|Anna|   NY|     F|\n",
      "+----+-----+------+\n",
      "\n"
     ]
    }
   ],
   "source": [
    "df.filter(col(\"state\").isNotNull()).show()"
   ]
  },
  {
   "cell_type": "markdown",
   "id": "lined-fountain",
   "metadata": {
    "papermill": {
     "duration": 0.142977,
     "end_time": "2023-01-30T06:04:08.655601",
     "exception": false,
     "start_time": "2023-01-30T06:04:08.512624",
     "status": "completed"
    },
    "tags": []
   },
   "source": [
    "# 4. PySpark SQL Filter Rows with NULL Values"
   ]
  },
  {
   "cell_type": "code",
   "execution_count": 13,
   "id": "unnecessary-boston",
   "metadata": {
    "execution": {
     "iopub.execute_input": "2023-01-30T06:04:08.953277Z",
     "iopub.status.busy": "2023-01-30T06:04:08.952698Z",
     "iopub.status.idle": "2023-01-30T06:04:09.171231Z",
     "shell.execute_reply": "2023-01-30T06:04:09.169945Z",
     "shell.execute_reply.started": "2023-01-30T06:00:12.742137Z"
    },
    "papermill": {
     "duration": 0.36901,
     "end_time": "2023-01-30T06:04:09.171584",
     "exception": false,
     "start_time": "2023-01-30T06:04:08.802574",
     "status": "completed"
    },
    "tags": []
   },
   "outputs": [
    {
     "name": "stdout",
     "output_type": "stream",
     "text": [
      "+-----+-----+------+\n",
      "| name|state|gender|\n",
      "+-----+-----+------+\n",
      "|James| null|     M|\n",
      "| Anna|   NY|     F|\n",
      "|Julia| null|  null|\n",
      "+-----+-----+------+\n",
      "\n"
     ]
    }
   ],
   "source": [
    "df.show()"
   ]
  },
  {
   "cell_type": "code",
   "execution_count": 14,
   "id": "intense-supplement",
   "metadata": {
    "execution": {
     "iopub.execute_input": "2023-01-30T06:04:09.558571Z",
     "iopub.status.busy": "2023-01-30T06:04:09.557839Z",
     "iopub.status.idle": "2023-01-30T06:04:10.032161Z",
     "shell.execute_reply": "2023-01-30T06:04:10.031506Z",
     "shell.execute_reply.started": "2023-01-30T06:01:20.068748Z"
    },
    "papermill": {
     "duration": 0.685494,
     "end_time": "2023-01-30T06:04:10.032369",
     "exception": false,
     "start_time": "2023-01-30T06:04:09.346875",
     "status": "completed"
    },
    "tags": []
   },
   "outputs": [
    {
     "name": "stdout",
     "output_type": "stream",
     "text": [
      "+-----+-----+------+\n",
      "| name|state|gender|\n",
      "+-----+-----+------+\n",
      "|James| null|     M|\n",
      "|Julia| null|  null|\n",
      "+-----+-----+------+\n",
      "\n"
     ]
    }
   ],
   "source": [
    "df.createOrReplaceTempView(\"data\")\n",
    "spark.sql(\"select * from data where state is null\").show()"
   ]
  },
  {
   "cell_type": "code",
   "execution_count": null,
   "id": "surprised-reference",
   "metadata": {
    "papermill": {
     "duration": 0.145065,
     "end_time": "2023-01-30T06:04:10.516598",
     "exception": false,
     "start_time": "2023-01-30T06:04:10.371533",
     "status": "completed"
    },
    "tags": []
   },
   "outputs": [],
   "source": []
  },
  {
   "cell_type": "code",
   "execution_count": null,
   "id": "north-comfort",
   "metadata": {
    "papermill": {
     "duration": 0.142942,
     "end_time": "2023-01-30T06:04:10.804170",
     "exception": false,
     "start_time": "2023-01-30T06:04:10.661228",
     "status": "completed"
    },
    "tags": []
   },
   "outputs": [],
   "source": []
  },
  {
   "cell_type": "code",
   "execution_count": null,
   "id": "expensive-criterion",
   "metadata": {
    "papermill": {
     "duration": 0.140223,
     "end_time": "2023-01-30T06:04:11.083792",
     "exception": false,
     "start_time": "2023-01-30T06:04:10.943569",
     "status": "completed"
    },
    "tags": []
   },
   "outputs": [],
   "source": []
  },
  {
   "cell_type": "code",
   "execution_count": null,
   "id": "arabic-patch",
   "metadata": {
    "papermill": {
     "duration": 0.1457,
     "end_time": "2023-01-30T06:04:11.370845",
     "exception": false,
     "start_time": "2023-01-30T06:04:11.225145",
     "status": "completed"
    },
    "tags": []
   },
   "outputs": [],
   "source": []
  },
  {
   "cell_type": "code",
   "execution_count": null,
   "id": "vietnamese-waterproof",
   "metadata": {
    "papermill": {
     "duration": 0.142698,
     "end_time": "2023-01-30T06:04:11.671072",
     "exception": false,
     "start_time": "2023-01-30T06:04:11.528374",
     "status": "completed"
    },
    "tags": []
   },
   "outputs": [],
   "source": []
  }
 ],
 "metadata": {
  "kernelspec": {
   "display_name": "Python 3",
   "language": "python",
   "name": "python3"
  },
  "language_info": {
   "codemirror_mode": {
    "name": "ipython",
    "version": 3
   },
   "file_extension": ".py",
   "mimetype": "text/x-python",
   "name": "python",
   "nbconvert_exporter": "python",
   "pygments_lexer": "ipython3",
   "version": "3.7.10"
  },
  "papermill": {
   "default_parameters": {},
   "duration": 79.905454,
   "end_time": "2023-01-30T06:04:13.665178",
   "environment_variables": {},
   "exception": null,
   "input_path": "__notebook__.ipynb",
   "output_path": "__notebook__.ipynb",
   "parameters": {},
   "start_time": "2023-01-30T06:02:53.759724",
   "version": "2.3.3"
  }
 },
 "nbformat": 4,
 "nbformat_minor": 5
}
