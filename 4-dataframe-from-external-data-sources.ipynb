{
 "cells": [
  {
   "cell_type": "code",
   "execution_count": 1,
   "id": "whole-validation",
   "metadata": {
    "execution": {
     "iopub.execute_input": "2023-01-29T07:17:23.487038Z",
     "iopub.status.busy": "2023-01-29T07:17:23.486203Z",
     "iopub.status.idle": "2023-01-29T07:18:09.437722Z",
     "shell.execute_reply": "2023-01-29T07:18:09.437036Z",
     "shell.execute_reply.started": "2023-01-29T07:10:53.229735Z"
    },
    "papermill": {
     "duration": 45.965533,
     "end_time": "2023-01-29T07:18:09.437877",
     "exception": false,
     "start_time": "2023-01-29T07:17:23.472344",
     "status": "completed"
    },
    "tags": []
   },
   "outputs": [
    {
     "name": "stdout",
     "output_type": "stream",
     "text": [
      "Collecting pyspark\r\n",
      "  Downloading pyspark-3.3.1.tar.gz (281.4 MB)\r\n",
      "\u001b[K     |████████████████████████████████| 281.4 MB 31 kB/s \r\n",
      "\u001b[?25hCollecting py4j==0.10.9.5\r\n",
      "  Downloading py4j-0.10.9.5-py2.py3-none-any.whl (199 kB)\r\n",
      "\u001b[K     |████████████████████████████████| 199 kB 67.3 MB/s \r\n",
      "\u001b[?25hBuilding wheels for collected packages: pyspark\r\n",
      "  Building wheel for pyspark (setup.py) ... \u001b[?25l-\b \b\\\b \b|\b \b/\b \b-\b \b\\\b \b|\b \b/\b \b-\b \b\\\b \b|\b \b/\b \b-\b \b\\\b \b|\b \b/\b \b-\b \b\\\b \b|\b \b/\b \b-\b \b\\\b \b|\b \b/\b \b-\b \b\\\b \b|\b \b/\b \b-\b \b\\\b \b|\b \b/\b \b-\b \b\\\b \b|\b \b/\b \b-\b \b\\\b \b|\b \b/\b \b-\b \b\\\b \b|\b \b/\b \b-\b \b\\\b \b|\b \b/\b \b-\b \b\\\b \b|\b \b/\b \b-\b \b\\\b \bdone\r\n",
      "\u001b[?25h  Created wheel for pyspark: filename=pyspark-3.3.1-py2.py3-none-any.whl size=281845515 sha256=83990a6eee4884c4b4a6116f964416eb7a29b007ecf2c840bddb216a5005a2f2\r\n",
      "  Stored in directory: /root/.cache/pip/wheels/42/59/f5/79a5bf931714dcd201b26025347785f087370a10a3329a899c\r\n",
      "Successfully built pyspark\r\n",
      "Installing collected packages: py4j, pyspark\r\n",
      "Successfully installed py4j-0.10.9.5 pyspark-3.3.1\r\n",
      "Note: you may need to restart the kernel to use updated packages.\n"
     ]
    }
   ],
   "source": [
    "pip install pyspark"
   ]
  },
  {
   "cell_type": "markdown",
   "id": "elementary-equilibrium",
   "metadata": {
    "papermill": {
     "duration": 0.12864,
     "end_time": "2023-01-29T07:18:09.695555",
     "exception": false,
     "start_time": "2023-01-29T07:18:09.566915",
     "status": "completed"
    },
    "tags": []
   },
   "source": [
    "# Simplest way to create an DataFrame is from a Python list of data. DataFrame can also be created from an RDD and by reading a files from several sources."
   ]
  },
  {
   "cell_type": "code",
   "execution_count": 2,
   "id": "naughty-cannon",
   "metadata": {
    "execution": {
     "iopub.execute_input": "2023-01-29T07:18:09.951983Z",
     "iopub.status.busy": "2023-01-29T07:18:09.951063Z",
     "iopub.status.idle": "2023-01-29T07:18:09.990920Z",
     "shell.execute_reply": "2023-01-29T07:18:09.990393Z",
     "shell.execute_reply.started": "2023-01-29T07:12:43.417569Z"
    },
    "papermill": {
     "duration": 0.169608,
     "end_time": "2023-01-29T07:18:09.991038",
     "exception": false,
     "start_time": "2023-01-29T07:18:09.821430",
     "status": "completed"
    },
    "tags": []
   },
   "outputs": [],
   "source": [
    "import pyspark"
   ]
  },
  {
   "cell_type": "code",
   "execution_count": 3,
   "id": "packed-metadata",
   "metadata": {
    "execution": {
     "iopub.execute_input": "2023-01-29T07:18:10.243455Z",
     "iopub.status.busy": "2023-01-29T07:18:10.242916Z",
     "iopub.status.idle": "2023-01-29T07:18:10.247159Z",
     "shell.execute_reply": "2023-01-29T07:18:10.246662Z",
     "shell.execute_reply.started": "2023-01-29T07:12:43.781707Z"
    },
    "papermill": {
     "duration": 0.13243,
     "end_time": "2023-01-29T07:18:10.247274",
     "exception": false,
     "start_time": "2023-01-29T07:18:10.114844",
     "status": "completed"
    },
    "tags": []
   },
   "outputs": [],
   "source": [
    "from pyspark.sql import SparkSession"
   ]
  },
  {
   "cell_type": "code",
   "execution_count": 4,
   "id": "designing-lecture",
   "metadata": {
    "execution": {
     "iopub.execute_input": "2023-01-29T07:18:10.521356Z",
     "iopub.status.busy": "2023-01-29T07:18:10.518605Z",
     "iopub.status.idle": "2023-01-29T07:18:15.394013Z",
     "shell.execute_reply": "2023-01-29T07:18:15.392884Z",
     "shell.execute_reply.started": "2023-01-29T07:12:44.042803Z"
    },
    "papermill": {
     "duration": 5.021215,
     "end_time": "2023-01-29T07:18:15.394197",
     "exception": false,
     "start_time": "2023-01-29T07:18:10.372982",
     "status": "completed"
    },
    "tags": []
   },
   "outputs": [],
   "source": [
    "spark =SparkSession.builder.appName('SparkByExamples.com').getOrCreate()\n"
   ]
  },
  {
   "cell_type": "code",
   "execution_count": 5,
   "id": "final-privacy",
   "metadata": {
    "execution": {
     "iopub.execute_input": "2023-01-29T07:18:15.648840Z",
     "iopub.status.busy": "2023-01-29T07:18:15.648172Z",
     "iopub.status.idle": "2023-01-29T07:18:20.794492Z",
     "shell.execute_reply": "2023-01-29T07:18:20.793744Z",
     "shell.execute_reply.started": "2023-01-29T07:15:08.082474Z"
    },
    "papermill": {
     "duration": 5.27492,
     "end_time": "2023-01-29T07:18:20.794622",
     "exception": false,
     "start_time": "2023-01-29T07:18:15.519702",
     "status": "completed"
    },
    "tags": []
   },
   "outputs": [],
   "source": [
    "df=spark.read.csv(\"/kaggle/input/quicker-car\")"
   ]
  },
  {
   "cell_type": "code",
   "execution_count": 6,
   "id": "legitimate-scheme",
   "metadata": {
    "execution": {
     "iopub.execute_input": "2023-01-29T07:18:21.052005Z",
     "iopub.status.busy": "2023-01-29T07:18:21.051305Z",
     "iopub.status.idle": "2023-01-29T07:18:21.328255Z",
     "shell.execute_reply": "2023-01-29T07:18:21.327471Z",
     "shell.execute_reply.started": "2023-01-29T07:16:35.545886Z"
    },
    "papermill": {
     "duration": 0.409085,
     "end_time": "2023-01-29T07:18:21.328371",
     "exception": false,
     "start_time": "2023-01-29T07:18:20.919286",
     "status": "completed"
    },
    "tags": []
   },
   "outputs": [
    {
     "name": "stdout",
     "output_type": "stream",
     "text": [
      "+--------------------+--------+----+-------------+----------+---------+\n",
      "|                 _c0|     _c1| _c2|          _c3|       _c4|      _c5|\n",
      "+--------------------+--------+----+-------------+----------+---------+\n",
      "|                name| company|year|        Price|kms_driven|fuel_type|\n",
      "|Hyundai Santro Xi...| Hyundai|2007|       80,000|45,000 kms|   Petrol|\n",
      "|Mahindra Jeep CL5...|Mahindra|2006|     4,25,000|    40 kms|   Diesel|\n",
      "|Maruti Suzuki Alt...|  Maruti|2018|Ask For Price|22,000 kms|   Petrol|\n",
      "|Hyundai Grand i10...| Hyundai|2014|     3,25,000|28,000 kms|   Petrol|\n",
      "+--------------------+--------+----+-------------+----------+---------+\n",
      "only showing top 5 rows\n",
      "\n"
     ]
    }
   ],
   "source": [
    "df.show(5)"
   ]
  },
  {
   "cell_type": "code",
   "execution_count": 7,
   "id": "optimum-furniture",
   "metadata": {
    "execution": {
     "iopub.execute_input": "2023-01-29T07:18:21.604015Z",
     "iopub.status.busy": "2023-01-29T07:18:21.603502Z",
     "iopub.status.idle": "2023-01-29T07:18:21.613486Z",
     "shell.execute_reply": "2023-01-29T07:18:21.612802Z",
     "shell.execute_reply.started": "2023-01-29T07:16:37.137021Z"
    },
    "papermill": {
     "duration": 0.151143,
     "end_time": "2023-01-29T07:18:21.613646",
     "exception": false,
     "start_time": "2023-01-29T07:18:21.462503",
     "status": "completed"
    },
    "tags": []
   },
   "outputs": [
    {
     "name": "stdout",
     "output_type": "stream",
     "text": [
      "root\n",
      " |-- _c0: string (nullable = true)\n",
      " |-- _c1: string (nullable = true)\n",
      " |-- _c2: string (nullable = true)\n",
      " |-- _c3: string (nullable = true)\n",
      " |-- _c4: string (nullable = true)\n",
      " |-- _c5: string (nullable = true)\n",
      "\n"
     ]
    }
   ],
   "source": [
    "df.printSchema()"
   ]
  },
  {
   "cell_type": "code",
   "execution_count": null,
   "id": "selected-regression",
   "metadata": {
    "papermill": {
     "duration": 0.122653,
     "end_time": "2023-01-29T07:18:21.864255",
     "exception": false,
     "start_time": "2023-01-29T07:18:21.741602",
     "status": "completed"
    },
    "tags": []
   },
   "outputs": [],
   "source": []
  },
  {
   "cell_type": "code",
   "execution_count": null,
   "id": "secure-threshold",
   "metadata": {
    "papermill": {
     "duration": 0.124595,
     "end_time": "2023-01-29T07:18:22.113879",
     "exception": false,
     "start_time": "2023-01-29T07:18:21.989284",
     "status": "completed"
    },
    "tags": []
   },
   "outputs": [],
   "source": []
  },
  {
   "cell_type": "code",
   "execution_count": null,
   "id": "solid-boundary",
   "metadata": {
    "papermill": {
     "duration": 0.124738,
     "end_time": "2023-01-29T07:18:22.364626",
     "exception": false,
     "start_time": "2023-01-29T07:18:22.239888",
     "status": "completed"
    },
    "tags": []
   },
   "outputs": [],
   "source": []
  },
  {
   "cell_type": "code",
   "execution_count": null,
   "id": "fuzzy-madonna",
   "metadata": {
    "papermill": {
     "duration": 0.122101,
     "end_time": "2023-01-29T07:18:22.609962",
     "exception": false,
     "start_time": "2023-01-29T07:18:22.487861",
     "status": "completed"
    },
    "tags": []
   },
   "outputs": [],
   "source": []
  },
  {
   "cell_type": "code",
   "execution_count": null,
   "id": "indian-insert",
   "metadata": {
    "papermill": {
     "duration": 0.125557,
     "end_time": "2023-01-29T07:18:22.859620",
     "exception": false,
     "start_time": "2023-01-29T07:18:22.734063",
     "status": "completed"
    },
    "tags": []
   },
   "outputs": [],
   "source": []
  },
  {
   "cell_type": "code",
   "execution_count": null,
   "id": "communist-birthday",
   "metadata": {
    "papermill": {
     "duration": 0.121734,
     "end_time": "2023-01-29T07:18:23.105984",
     "exception": false,
     "start_time": "2023-01-29T07:18:22.984250",
     "status": "completed"
    },
    "tags": []
   },
   "outputs": [],
   "source": []
  },
  {
   "cell_type": "code",
   "execution_count": null,
   "id": "cardiovascular-football",
   "metadata": {
    "papermill": {
     "duration": 0.123166,
     "end_time": "2023-01-29T07:18:23.351605",
     "exception": false,
     "start_time": "2023-01-29T07:18:23.228439",
     "status": "completed"
    },
    "tags": []
   },
   "outputs": [],
   "source": []
  },
  {
   "cell_type": "code",
   "execution_count": null,
   "id": "inside-abraham",
   "metadata": {
    "papermill": {
     "duration": 0.126072,
     "end_time": "2023-01-29T07:18:23.602948",
     "exception": false,
     "start_time": "2023-01-29T07:18:23.476876",
     "status": "completed"
    },
    "tags": []
   },
   "outputs": [],
   "source": []
  },
  {
   "cell_type": "code",
   "execution_count": null,
   "id": "retained-making",
   "metadata": {
    "papermill": {
     "duration": 0.125147,
     "end_time": "2023-01-29T07:18:23.851963",
     "exception": false,
     "start_time": "2023-01-29T07:18:23.726816",
     "status": "completed"
    },
    "tags": []
   },
   "outputs": [],
   "source": []
  }
 ],
 "metadata": {
  "kernelspec": {
   "display_name": "Python 3",
   "language": "python",
   "name": "python3"
  },
  "language_info": {
   "codemirror_mode": {
    "name": "ipython",
    "version": 3
   },
   "file_extension": ".py",
   "mimetype": "text/x-python",
   "name": "python",
   "nbconvert_exporter": "python",
   "pygments_lexer": "ipython3",
   "version": "3.7.10"
  },
  "papermill": {
   "default_parameters": {},
   "duration": 68.807685,
   "end_time": "2023-01-29T07:18:25.300405",
   "environment_variables": {},
   "exception": null,
   "input_path": "__notebook__.ipynb",
   "output_path": "__notebook__.ipynb",
   "parameters": {},
   "start_time": "2023-01-29T07:17:16.492720",
   "version": "2.3.3"
  }
 },
 "nbformat": 4,
 "nbformat_minor": 5
}
