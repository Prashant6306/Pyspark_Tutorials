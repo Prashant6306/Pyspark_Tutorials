{
 "cells": [
  {
   "cell_type": "code",
   "execution_count": 1,
   "id": "neither-advancement",
   "metadata": {
    "execution": {
     "iopub.execute_input": "2023-01-29T12:16:40.944687Z",
     "iopub.status.busy": "2023-01-29T12:16:40.942914Z",
     "iopub.status.idle": "2023-01-29T12:17:28.424033Z",
     "shell.execute_reply": "2023-01-29T12:17:28.423187Z",
     "shell.execute_reply.started": "2023-01-29T12:10:56.844412Z"
    },
    "papermill": {
     "duration": 47.504713,
     "end_time": "2023-01-29T12:17:28.424221",
     "exception": false,
     "start_time": "2023-01-29T12:16:40.919508",
     "status": "completed"
    },
    "tags": []
   },
   "outputs": [
    {
     "name": "stdout",
     "output_type": "stream",
     "text": [
      "Collecting pyspark\r\n",
      "  Downloading pyspark-3.3.1.tar.gz (281.4 MB)\r\n",
      "\u001b[K     |████████████████████████████████| 281.4 MB 33 kB/s \r\n",
      "\u001b[?25hCollecting py4j==0.10.9.5\r\n",
      "  Downloading py4j-0.10.9.5-py2.py3-none-any.whl (199 kB)\r\n",
      "\u001b[K     |████████████████████████████████| 199 kB 35.0 MB/s \r\n",
      "\u001b[?25hBuilding wheels for collected packages: pyspark\r\n",
      "  Building wheel for pyspark (setup.py) ... \u001b[?25l-\b \b\\\b \b|\b \b/\b \b-\b \b\\\b \b|\b \b/\b \b-\b \b\\\b \b|\b \b/\b \b-\b \b\\\b \b|\b \b/\b \b-\b \b\\\b \b|\b \b/\b \b-\b \b\\\b \b|\b \b/\b \b-\b \b\\\b \b|\b \b/\b \b-\b \b\\\b \b|\b \b/\b \b-\b \b\\\b \b|\b \b/\b \b-\b \b\\\b \b|\b \b/\b \b-\b \b\\\b \b|\b \b/\b \b-\b \b\\\b \b|\b \b/\b \b-\b \b\\\b \b|\b \b/\b \b-\b \b\\\b \b|\b \b/\b \b-\b \b\\\b \b|\b \b/\b \b-\b \b\\\b \b|\b \bdone\r\n",
      "\u001b[?25h  Created wheel for pyspark: filename=pyspark-3.3.1-py2.py3-none-any.whl size=281845515 sha256=03857753b6a2b508675f7862df32c7891874e68183cfdde4ae2c61833b646071\r\n",
      "  Stored in directory: /root/.cache/pip/wheels/42/59/f5/79a5bf931714dcd201b26025347785f087370a10a3329a899c\r\n",
      "Successfully built pyspark\r\n",
      "Installing collected packages: py4j, pyspark\r\n",
      "Successfully installed py4j-0.10.9.5 pyspark-3.3.1\r\n",
      "Note: you may need to restart the kernel to use updated packages.\n"
     ]
    }
   ],
   "source": [
    "pip install pyspark"
   ]
  },
  {
   "cell_type": "markdown",
   "id": "adequate-livestock",
   "metadata": {
    "papermill": {
     "duration": 0.131989,
     "end_time": "2023-01-29T12:17:28.690398",
     "exception": false,
     "start_time": "2023-01-29T12:17:28.558409",
     "status": "completed"
    },
    "tags": []
   },
   "source": [
    "# Simplest way to create an DataFrame is from a Python list of data. DataFrame can also be created from an RDD and by reading a files from several sources."
   ]
  },
  {
   "cell_type": "code",
   "execution_count": 2,
   "id": "diagnostic-nature",
   "metadata": {
    "execution": {
     "iopub.execute_input": "2023-01-29T12:17:28.958060Z",
     "iopub.status.busy": "2023-01-29T12:17:28.957301Z",
     "iopub.status.idle": "2023-01-29T12:17:29.014600Z",
     "shell.execute_reply": "2023-01-29T12:17:29.013981Z",
     "shell.execute_reply.started": "2023-01-29T12:11:43.964112Z"
    },
    "papermill": {
     "duration": 0.195188,
     "end_time": "2023-01-29T12:17:29.014770",
     "exception": false,
     "start_time": "2023-01-29T12:17:28.819582",
     "status": "completed"
    },
    "tags": []
   },
   "outputs": [],
   "source": [
    "import pyspark"
   ]
  },
  {
   "cell_type": "code",
   "execution_count": 3,
   "id": "engaged-batch",
   "metadata": {
    "execution": {
     "iopub.execute_input": "2023-01-29T12:17:29.281063Z",
     "iopub.status.busy": "2023-01-29T12:17:29.280097Z",
     "iopub.status.idle": "2023-01-29T12:17:29.283288Z",
     "shell.execute_reply": "2023-01-29T12:17:29.282668Z",
     "shell.execute_reply.started": "2023-01-29T12:11:44.045483Z"
    },
    "papermill": {
     "duration": 0.137949,
     "end_time": "2023-01-29T12:17:29.283430",
     "exception": false,
     "start_time": "2023-01-29T12:17:29.145481",
     "status": "completed"
    },
    "tags": []
   },
   "outputs": [],
   "source": [
    "from pyspark.sql import SparkSession"
   ]
  },
  {
   "cell_type": "code",
   "execution_count": 4,
   "id": "infectious-discrimination",
   "metadata": {
    "execution": {
     "iopub.execute_input": "2023-01-29T12:17:29.557917Z",
     "iopub.status.busy": "2023-01-29T12:17:29.557091Z",
     "iopub.status.idle": "2023-01-29T12:17:35.016901Z",
     "shell.execute_reply": "2023-01-29T12:17:35.015992Z",
     "shell.execute_reply.started": "2023-01-29T12:11:44.052534Z"
    },
    "papermill": {
     "duration": 5.598773,
     "end_time": "2023-01-29T12:17:35.017100",
     "exception": false,
     "start_time": "2023-01-29T12:17:29.418327",
     "status": "completed"
    },
    "tags": []
   },
   "outputs": [],
   "source": [
    "spark =SparkSession.builder.appName('SparkByExamples.com').getOrCreate()\n"
   ]
  },
  {
   "cell_type": "code",
   "execution_count": 5,
   "id": "preliminary-craft",
   "metadata": {
    "execution": {
     "iopub.execute_input": "2023-01-29T12:17:35.291144Z",
     "iopub.status.busy": "2023-01-29T12:17:35.290403Z",
     "iopub.status.idle": "2023-01-29T12:17:41.224179Z",
     "shell.execute_reply": "2023-01-29T12:17:41.222933Z",
     "shell.execute_reply.started": "2023-01-29T12:11:49.876255Z"
    },
    "papermill": {
     "duration": 6.070199,
     "end_time": "2023-01-29T12:17:41.224389",
     "exception": false,
     "start_time": "2023-01-29T12:17:35.154190",
     "status": "completed"
    },
    "tags": []
   },
   "outputs": [],
   "source": [
    "df=spark.read.csv(\"/kaggle/input/quicker-car\")"
   ]
  },
  {
   "cell_type": "code",
   "execution_count": 6,
   "id": "becoming-sentence",
   "metadata": {
    "execution": {
     "iopub.execute_input": "2023-01-29T12:17:41.559473Z",
     "iopub.status.busy": "2023-01-29T12:17:41.558787Z",
     "iopub.status.idle": "2023-01-29T12:17:41.952830Z",
     "shell.execute_reply": "2023-01-29T12:17:41.954247Z",
     "shell.execute_reply.started": "2023-01-29T12:11:56.186160Z"
    },
    "papermill": {
     "duration": 0.531659,
     "end_time": "2023-01-29T12:17:41.954619",
     "exception": false,
     "start_time": "2023-01-29T12:17:41.422960",
     "status": "completed"
    },
    "tags": []
   },
   "outputs": [
    {
     "name": "stdout",
     "output_type": "stream",
     "text": [
      "+--------------------+--------+----+-------------+----------+---------+\n",
      "|                 _c0|     _c1| _c2|          _c3|       _c4|      _c5|\n",
      "+--------------------+--------+----+-------------+----------+---------+\n",
      "|                name| company|year|        Price|kms_driven|fuel_type|\n",
      "|Hyundai Santro Xi...| Hyundai|2007|       80,000|45,000 kms|   Petrol|\n",
      "|Mahindra Jeep CL5...|Mahindra|2006|     4,25,000|    40 kms|   Diesel|\n",
      "|Maruti Suzuki Alt...|  Maruti|2018|Ask For Price|22,000 kms|   Petrol|\n",
      "|Hyundai Grand i10...| Hyundai|2014|     3,25,000|28,000 kms|   Petrol|\n",
      "+--------------------+--------+----+-------------+----------+---------+\n",
      "only showing top 5 rows\n",
      "\n"
     ]
    }
   ],
   "source": [
    "df.show(5)"
   ]
  },
  {
   "cell_type": "code",
   "execution_count": 7,
   "id": "simple-luther",
   "metadata": {
    "execution": {
     "iopub.execute_input": "2023-01-29T12:17:42.251752Z",
     "iopub.status.busy": "2023-01-29T12:17:42.250823Z",
     "iopub.status.idle": "2023-01-29T12:17:42.261548Z",
     "shell.execute_reply": "2023-01-29T12:17:42.262283Z",
     "shell.execute_reply.started": "2023-01-29T12:11:56.507876Z"
    },
    "papermill": {
     "duration": 0.154094,
     "end_time": "2023-01-29T12:17:42.262527",
     "exception": false,
     "start_time": "2023-01-29T12:17:42.108433",
     "status": "completed"
    },
    "tags": []
   },
   "outputs": [
    {
     "name": "stdout",
     "output_type": "stream",
     "text": [
      "root\n",
      " |-- _c0: string (nullable = true)\n",
      " |-- _c1: string (nullable = true)\n",
      " |-- _c2: string (nullable = true)\n",
      " |-- _c3: string (nullable = true)\n",
      " |-- _c4: string (nullable = true)\n",
      " |-- _c5: string (nullable = true)\n",
      "\n"
     ]
    }
   ],
   "source": [
    "df.printSchema()"
   ]
  },
  {
   "cell_type": "code",
   "execution_count": 8,
   "id": "elegant-portuguese",
   "metadata": {
    "execution": {
     "iopub.execute_input": "2023-01-29T12:17:42.554865Z",
     "iopub.status.busy": "2023-01-29T12:17:42.553893Z",
     "iopub.status.idle": "2023-01-29T12:17:42.609680Z",
     "shell.execute_reply": "2023-01-29T12:17:42.610530Z",
     "shell.execute_reply.started": "2023-01-29T12:11:56.530359Z"
    },
    "papermill": {
     "duration": 0.205464,
     "end_time": "2023-01-29T12:17:42.610807",
     "exception": false,
     "start_time": "2023-01-29T12:17:42.405343",
     "status": "completed"
    },
    "tags": []
   },
   "outputs": [],
   "source": [
    "df.createOrReplaceTempView(\"PERSON_DATA\")"
   ]
  },
  {
   "cell_type": "code",
   "execution_count": 9,
   "id": "opposed-forestry",
   "metadata": {
    "execution": {
     "iopub.execute_input": "2023-01-29T12:17:42.875941Z",
     "iopub.status.busy": "2023-01-29T12:17:42.875232Z",
     "iopub.status.idle": "2023-01-29T12:17:42.963513Z",
     "shell.execute_reply": "2023-01-29T12:17:42.962564Z",
     "shell.execute_reply.started": "2023-01-29T12:11:56.616537Z"
    },
    "papermill": {
     "duration": 0.222414,
     "end_time": "2023-01-29T12:17:42.963754",
     "exception": false,
     "start_time": "2023-01-29T12:17:42.741340",
     "status": "completed"
    },
    "tags": []
   },
   "outputs": [],
   "source": [
    "df2=spark.sql(\"select _c0,_c2 from PERSON_DATA\")"
   ]
  },
  {
   "cell_type": "code",
   "execution_count": 10,
   "id": "violent-tucson",
   "metadata": {
    "execution": {
     "iopub.execute_input": "2023-01-29T12:17:43.357627Z",
     "iopub.status.busy": "2023-01-29T12:17:43.356611Z",
     "iopub.status.idle": "2023-01-29T12:17:43.543661Z",
     "shell.execute_reply": "2023-01-29T12:17:43.542084Z",
     "shell.execute_reply.started": "2023-01-29T12:11:56.699378Z"
    },
    "papermill": {
     "duration": 0.373065,
     "end_time": "2023-01-29T12:17:43.543996",
     "exception": false,
     "start_time": "2023-01-29T12:17:43.170931",
     "status": "completed"
    },
    "tags": []
   },
   "outputs": [
    {
     "name": "stdout",
     "output_type": "stream",
     "text": [
      "+--------------------+----+\n",
      "|                 _c0| _c2|\n",
      "+--------------------+----+\n",
      "|                name|year|\n",
      "|Hyundai Santro Xi...|2007|\n",
      "+--------------------+----+\n",
      "only showing top 2 rows\n",
      "\n"
     ]
    }
   ],
   "source": [
    "df2.show(2)"
   ]
  },
  {
   "cell_type": "code",
   "execution_count": 11,
   "id": "nonprofit-layout",
   "metadata": {
    "execution": {
     "iopub.execute_input": "2023-01-29T12:17:43.816378Z",
     "iopub.status.busy": "2023-01-29T12:17:43.814196Z",
     "iopub.status.idle": "2023-01-29T12:17:43.958722Z",
     "shell.execute_reply": "2023-01-29T12:17:43.957050Z",
     "shell.execute_reply.started": "2023-01-29T12:11:56.909350Z"
    },
    "papermill": {
     "duration": 0.278457,
     "end_time": "2023-01-29T12:17:43.958979",
     "exception": false,
     "start_time": "2023-01-29T12:17:43.680522",
     "status": "completed"
    },
    "tags": []
   },
   "outputs": [
    {
     "name": "stdout",
     "output_type": "stream",
     "text": [
      "+--------------------+----+\n",
      "|                 _c0| _c2|\n",
      "+--------------------+----+\n",
      "|                name|year|\n",
      "|Hyundai Santro Xi...|2007|\n",
      "|Mahindra Jeep CL5...|2006|\n",
      "|Maruti Suzuki Alt...|2018|\n",
      "|Hyundai Grand i10...|2014|\n",
      "+--------------------+----+\n",
      "only showing top 5 rows\n",
      "\n"
     ]
    }
   ],
   "source": [
    "df2.show(n=5)"
   ]
  },
  {
   "cell_type": "code",
   "execution_count": 12,
   "id": "aging-implementation",
   "metadata": {
    "execution": {
     "iopub.execute_input": "2023-01-29T12:17:44.232342Z",
     "iopub.status.busy": "2023-01-29T12:17:44.231299Z",
     "iopub.status.idle": "2023-01-29T12:17:44.386864Z",
     "shell.execute_reply": "2023-01-29T12:17:44.384894Z",
     "shell.execute_reply.started": "2023-01-29T12:11:57.079776Z"
    },
    "papermill": {
     "duration": 0.294977,
     "end_time": "2023-01-29T12:17:44.387068",
     "exception": false,
     "start_time": "2023-01-29T12:17:44.092091",
     "status": "completed"
    },
    "tags": []
   },
   "outputs": [
    {
     "name": "stdout",
     "output_type": "stream",
     "text": [
      "+--------------------------------------+----+\n",
      "|_c0                                   |_c2 |\n",
      "+--------------------------------------+----+\n",
      "|name                                  |year|\n",
      "|Hyundai Santro Xing XO eRLX Euro III  |2007|\n",
      "|Mahindra Jeep CL550 MDI               |2006|\n",
      "|Maruti Suzuki Alto 800 Vxi            |2018|\n",
      "|Hyundai Grand i10 Magna 1.2 Kappa VTVT|2014|\n",
      "|Ford EcoSport Titanium 1.5L TDCi      |2014|\n",
      "|Ford EcoSport Titanium 1.5L TDCi      |2015|\n",
      "|Ford Figo                             |2012|\n",
      "|Hyundai Eon                           |2013|\n",
      "|Ford EcoSport Ambiente 1.5L TDCi      |2016|\n",
      "|Maruti Suzuki Alto K10 VXi AMT        |2015|\n",
      "|Skoda Fabia Classic 1.2 MPI           |2010|\n",
      "|Maruti Suzuki Stingray VXi            |2015|\n",
      "|Hyundai Elite i20 Magna 1.2           |2014|\n",
      "|Mahindra Scorpio SLE BS IV            |2015|\n",
      "|Hyundai Santro Xing XO eRLX Euro III  |2007|\n",
      "|Mahindra Jeep CL550 MDI               |2006|\n",
      "|Audi A8                               |2017|\n",
      "|Audi Q7                               |2014|\n",
      "|Mahindra Scorpio S10                  |2016|\n",
      "|Maruti Suzuki Alto 800                |2014|\n",
      "|Mahindra Scorpio S10                  |2016|\n",
      "|Mahindra Scorpio S10                  |2016|\n",
      "|Maruti Suzuki Alto 800 Vxi            |2015|\n",
      "|Hyundai i20 Sportz 1.2                |2012|\n",
      "|Hyundai i20 Sportz 1.2                |2012|\n",
      "|Hyundai i20 Sportz 1.2                |2012|\n",
      "|Maruti Suzuki Alto 800 Lx             |2017|\n",
      "|Maruti Suzuki Vitara Brezza ZDi       |2016|\n",
      "|Maruti Suzuki Alto LX                 |2008|\n",
      "|Mahindra Bolero DI                    |2017|\n",
      "|Maruti Suzuki Swift Dzire ZDi         |2014|\n",
      "|Mahindra Scorpio S10 4WD              |2015|\n",
      "|Maruti Suzuki Swift Vdi BSIII         |2017|\n",
      "|Maruti Suzuki Wagon R VXi BS III      |2013|\n",
      "|Maruti Suzuki Wagon R VXi Minor       |2013|\n",
      "|Toyota Innova 2.0 G 8 STR BS IV       |2012|\n",
      "|Renault Lodgy 85 PS RXL               |2018|\n",
      "|Skoda Yeti Ambition 2.0 TDI CR 4x2    |2012|\n",
      "|Maruti Suzuki Baleno Delta 1.2        |2017|\n",
      "|Renault Duster 110 PS RxZ Diesel Plus |2012|\n",
      "|Renault Duster 85 PS RxE Diesel       |2013|\n",
      "|Honda City 1.5 S MT                   |2011|\n",
      "|Maruti Suzuki Alto K10 VXi AMT        |2015|\n",
      "|Maruti Suzuki Dzire                   |2013|\n",
      "|Honda Amaze                           |2013|\n",
      "|Honda Amaze 1.5 SX i DTEC             |2015|\n",
      "|Honda City                            |2015|\n",
      "|Datsun Redi GO S                      |2017|\n",
      "|Maruti Suzuki SX4 ZXI MT              |2010|\n",
      "+--------------------------------------+----+\n",
      "only showing top 50 rows\n",
      "\n"
     ]
    }
   ],
   "source": [
    "df2.show(50,truncate=False)"
   ]
  },
  {
   "cell_type": "markdown",
   "id": "friendly-batman",
   "metadata": {
    "papermill": {
     "duration": 0.129983,
     "end_time": "2023-01-29T12:17:44.678857",
     "exception": false,
     "start_time": "2023-01-29T12:17:44.548874",
     "status": "completed"
    },
    "tags": []
   },
   "source": [
    "# Truncate=True"
   ]
  },
  {
   "cell_type": "code",
   "execution_count": 13,
   "id": "lesbian-analyst",
   "metadata": {
    "execution": {
     "iopub.execute_input": "2023-01-29T12:17:44.981446Z",
     "iopub.status.busy": "2023-01-29T12:17:44.980760Z",
     "iopub.status.idle": "2023-01-29T12:17:45.134372Z",
     "shell.execute_reply": "2023-01-29T12:17:45.133514Z",
     "shell.execute_reply.started": "2023-01-29T12:11:57.244260Z"
    },
    "papermill": {
     "duration": 0.291035,
     "end_time": "2023-01-29T12:17:45.134569",
     "exception": false,
     "start_time": "2023-01-29T12:17:44.843534",
     "status": "completed"
    },
    "tags": []
   },
   "outputs": [
    {
     "name": "stdout",
     "output_type": "stream",
     "text": [
      "+--------------------+----+\n",
      "|                 _c0| _c2|\n",
      "+--------------------+----+\n",
      "|                name|year|\n",
      "|Hyundai Santro Xi...|2007|\n",
      "|Mahindra Jeep CL5...|2006|\n",
      "|Maruti Suzuki Alt...|2018|\n",
      "|Hyundai Grand i10...|2014|\n",
      "|Ford EcoSport Tit...|2014|\n",
      "|Ford EcoSport Tit...|2015|\n",
      "|           Ford Figo|2012|\n",
      "|         Hyundai Eon|2013|\n",
      "|Ford EcoSport Amb...|2016|\n",
      "|Maruti Suzuki Alt...|2015|\n",
      "|Skoda Fabia Class...|2010|\n",
      "|Maruti Suzuki Sti...|2015|\n",
      "|Hyundai Elite i20...|2014|\n",
      "|Mahindra Scorpio ...|2015|\n",
      "|Hyundai Santro Xi...|2007|\n",
      "|Mahindra Jeep CL5...|2006|\n",
      "|             Audi A8|2017|\n",
      "|             Audi Q7|2014|\n",
      "|Mahindra Scorpio S10|2016|\n",
      "|Maruti Suzuki Alt...|2014|\n",
      "|Mahindra Scorpio S10|2016|\n",
      "|Mahindra Scorpio S10|2016|\n",
      "|Maruti Suzuki Alt...|2015|\n",
      "|Hyundai i20 Sport...|2012|\n",
      "|Hyundai i20 Sport...|2012|\n",
      "|Hyundai i20 Sport...|2012|\n",
      "|Maruti Suzuki Alt...|2017|\n",
      "|Maruti Suzuki Vit...|2016|\n",
      "|Maruti Suzuki Alt...|2008|\n",
      "|  Mahindra Bolero DI|2017|\n",
      "|Maruti Suzuki Swi...|2014|\n",
      "|Mahindra Scorpio ...|2015|\n",
      "|Maruti Suzuki Swi...|2017|\n",
      "|Maruti Suzuki Wag...|2013|\n",
      "|Maruti Suzuki Wag...|2013|\n",
      "|Toyota Innova 2.0...|2012|\n",
      "|Renault Lodgy 85 ...|2018|\n",
      "|Skoda Yeti Ambiti...|2012|\n",
      "|Maruti Suzuki Bal...|2017|\n",
      "|Renault Duster 11...|2012|\n",
      "|Renault Duster 85...|2013|\n",
      "| Honda City 1.5 S MT|2011|\n",
      "|Maruti Suzuki Alt...|2015|\n",
      "| Maruti Suzuki Dzire|2013|\n",
      "|         Honda Amaze|2013|\n",
      "|Honda Amaze 1.5 S...|2015|\n",
      "|          Honda City|2015|\n",
      "|    Datsun Redi GO S|2017|\n",
      "|Maruti Suzuki SX4...|2010|\n",
      "+--------------------+----+\n",
      "only showing top 50 rows\n",
      "\n"
     ]
    }
   ],
   "source": [
    "df2.show(50,truncate=True)"
   ]
  },
  {
   "cell_type": "markdown",
   "id": "cellular-budget",
   "metadata": {
    "papermill": {
     "duration": 0.134387,
     "end_time": "2023-01-29T12:17:45.408952",
     "exception": false,
     "start_time": "2023-01-29T12:17:45.274565",
     "status": "completed"
    },
    "tags": []
   },
   "source": [
    "# df.show(n=20,truncate=20,vertical=True)"
   ]
  },
  {
   "cell_type": "code",
   "execution_count": 14,
   "id": "mysterious-stream",
   "metadata": {
    "execution": {
     "iopub.execute_input": "2023-01-29T12:17:45.677579Z",
     "iopub.status.busy": "2023-01-29T12:17:45.676539Z",
     "iopub.status.idle": "2023-01-29T12:17:45.802732Z",
     "shell.execute_reply": "2023-01-29T12:17:45.801895Z",
     "shell.execute_reply.started": "2023-01-29T12:11:57.403623Z"
    },
    "papermill": {
     "duration": 0.261876,
     "end_time": "2023-01-29T12:17:45.802942",
     "exception": false,
     "start_time": "2023-01-29T12:17:45.541066",
     "status": "completed"
    },
    "tags": []
   },
   "outputs": [
    {
     "name": "stdout",
     "output_type": "stream",
     "text": [
      "-RECORD 0----\n",
      " _c0 | name  \n",
      " _c2 | year  \n",
      "-RECORD 1----\n",
      " _c0 | Hy... \n",
      " _c2 | 2007  \n",
      "-RECORD 2----\n",
      " _c0 | Ma... \n",
      " _c2 | 2006  \n",
      "-RECORD 3----\n",
      " _c0 | Ma... \n",
      " _c2 | 2018  \n",
      "-RECORD 4----\n",
      " _c0 | Hy... \n",
      " _c2 | 2014  \n",
      "only showing top 5 rows\n",
      "\n"
     ]
    }
   ],
   "source": [
    "df2.show(n=5,truncate=5,vertical=True)"
   ]
  },
  {
   "cell_type": "markdown",
   "id": "lightweight-force",
   "metadata": {
    "papermill": {
     "duration": 0.137796,
     "end_time": "2023-01-29T12:17:46.088220",
     "exception": false,
     "start_time": "2023-01-29T12:17:45.950424",
     "status": "completed"
    },
    "tags": []
   },
   "source": [
    "# getNumPartitions() "
   ]
  },
  {
   "cell_type": "code",
   "execution_count": 15,
   "id": "separated-screening",
   "metadata": {
    "execution": {
     "iopub.execute_input": "2023-01-29T12:17:46.361173Z",
     "iopub.status.busy": "2023-01-29T12:17:46.360029Z",
     "iopub.status.idle": "2023-01-29T12:17:46.430837Z",
     "shell.execute_reply": "2023-01-29T12:17:46.431889Z",
     "shell.execute_reply.started": "2023-01-29T12:11:57.551248Z"
    },
    "papermill": {
     "duration": 0.208684,
     "end_time": "2023-01-29T12:17:46.432146",
     "exception": false,
     "start_time": "2023-01-29T12:17:46.223462",
     "status": "completed"
    },
    "tags": []
   },
   "outputs": [
    {
     "data": {
      "text/plain": [
       "1"
      ]
     },
     "execution_count": 15,
     "metadata": {},
     "output_type": "execute_result"
    }
   ],
   "source": [
    "df.rdd.getNumPartitions()"
   ]
  },
  {
   "cell_type": "markdown",
   "id": "absent-absence",
   "metadata": {
    "papermill": {
     "duration": 0.166045,
     "end_time": "2023-01-29T12:17:46.816805",
     "exception": false,
     "start_time": "2023-01-29T12:17:46.650760",
     "status": "completed"
    },
    "tags": []
   },
   "source": [
    "# See all columns"
   ]
  },
  {
   "cell_type": "code",
   "execution_count": 16,
   "id": "italian-beach",
   "metadata": {
    "execution": {
     "iopub.execute_input": "2023-01-29T12:17:47.091088Z",
     "iopub.status.busy": "2023-01-29T12:17:47.090060Z",
     "iopub.status.idle": "2023-01-29T12:17:47.114229Z",
     "shell.execute_reply": "2023-01-29T12:17:47.113571Z",
     "shell.execute_reply.started": "2023-01-29T12:11:57.622021Z"
    },
    "papermill": {
     "duration": 0.161859,
     "end_time": "2023-01-29T12:17:47.114370",
     "exception": false,
     "start_time": "2023-01-29T12:17:46.952511",
     "status": "completed"
    },
    "tags": []
   },
   "outputs": [
    {
     "data": {
      "text/plain": [
       "['_c0', '_c2']"
      ]
     },
     "execution_count": 16,
     "metadata": {},
     "output_type": "execute_result"
    }
   ],
   "source": [
    "df2.columns"
   ]
  },
  {
   "cell_type": "code",
   "execution_count": 17,
   "id": "aggressive-wilson",
   "metadata": {
    "execution": {
     "iopub.execute_input": "2023-01-29T12:17:47.386102Z",
     "iopub.status.busy": "2023-01-29T12:17:47.385152Z",
     "iopub.status.idle": "2023-01-29T12:17:47.389248Z",
     "shell.execute_reply": "2023-01-29T12:17:47.389868Z",
     "shell.execute_reply.started": "2023-01-29T12:11:57.653638Z"
    },
    "papermill": {
     "duration": 0.142628,
     "end_time": "2023-01-29T12:17:47.390041",
     "exception": false,
     "start_time": "2023-01-29T12:17:47.247413",
     "status": "completed"
    },
    "tags": []
   },
   "outputs": [],
   "source": [
    "name=\"_c0\""
   ]
  },
  {
   "cell_type": "code",
   "execution_count": 18,
   "id": "tamil-application",
   "metadata": {
    "execution": {
     "iopub.execute_input": "2023-01-29T12:17:47.656456Z",
     "iopub.status.busy": "2023-01-29T12:17:47.655501Z",
     "iopub.status.idle": "2023-01-29T12:17:47.659549Z",
     "shell.execute_reply": "2023-01-29T12:17:47.660171Z",
     "shell.execute_reply.started": "2023-01-29T12:11:57.661942Z"
    },
    "papermill": {
     "duration": 0.138755,
     "end_time": "2023-01-29T12:17:47.660356",
     "exception": false,
     "start_time": "2023-01-29T12:17:47.521601",
     "status": "completed"
    },
    "tags": []
   },
   "outputs": [],
   "source": [
    "data=[1,2,3,4,5]"
   ]
  },
  {
   "cell_type": "code",
   "execution_count": 19,
   "id": "stretch-acting",
   "metadata": {
    "execution": {
     "iopub.execute_input": "2023-01-29T12:17:47.927149Z",
     "iopub.status.busy": "2023-01-29T12:17:47.926462Z",
     "iopub.status.idle": "2023-01-29T12:17:47.942636Z",
     "shell.execute_reply": "2023-01-29T12:17:47.942043Z",
     "shell.execute_reply.started": "2023-01-29T12:11:57.675144Z"
    },
    "papermill": {
     "duration": 0.150775,
     "end_time": "2023-01-29T12:17:47.942815",
     "exception": false,
     "start_time": "2023-01-29T12:17:47.792040",
     "status": "completed"
    },
    "tags": []
   },
   "outputs": [],
   "source": [
    "rdd=spark.sparkContext.parallelize(data)"
   ]
  },
  {
   "cell_type": "code",
   "execution_count": 20,
   "id": "working-patient",
   "metadata": {
    "execution": {
     "iopub.execute_input": "2023-01-29T12:17:48.219033Z",
     "iopub.status.busy": "2023-01-29T12:17:48.218294Z",
     "iopub.status.idle": "2023-01-29T12:17:48.366364Z",
     "shell.execute_reply": "2023-01-29T12:17:48.367187Z",
     "shell.execute_reply.started": "2023-01-29T12:11:57.702498Z"
    },
    "papermill": {
     "duration": 0.288384,
     "end_time": "2023-01-29T12:17:48.367464",
     "exception": false,
     "start_time": "2023-01-29T12:17:48.079080",
     "status": "completed"
    },
    "tags": []
   },
   "outputs": [
    {
     "data": {
      "text/plain": [
       "[1, 2, 3, 4, 5]"
      ]
     },
     "execution_count": 20,
     "metadata": {},
     "output_type": "execute_result"
    }
   ],
   "source": [
    "rdd.collect()"
   ]
  }
 ],
 "metadata": {
  "kernelspec": {
   "display_name": "Python 3",
   "language": "python",
   "name": "python3"
  },
  "language_info": {
   "codemirror_mode": {
    "name": "ipython",
    "version": 3
   },
   "file_extension": ".py",
   "mimetype": "text/x-python",
   "name": "python",
   "nbconvert_exporter": "python",
   "pygments_lexer": "ipython3",
   "version": "3.7.10"
  },
  "papermill": {
   "default_parameters": {},
   "duration": 76.851134,
   "end_time": "2023-01-29T12:17:50.118811",
   "environment_variables": {},
   "exception": null,
   "input_path": "__notebook__.ipynb",
   "output_path": "__notebook__.ipynb",
   "parameters": {},
   "start_time": "2023-01-29T12:16:33.267677",
   "version": "2.3.3"
  }
 },
 "nbformat": 4,
 "nbformat_minor": 5
}
