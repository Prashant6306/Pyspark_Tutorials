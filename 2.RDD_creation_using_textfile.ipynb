{
 "cells": [
  {
   "cell_type": "code",
   "execution_count": 1,
   "id": "unsigned-northern",
   "metadata": {
    "execution": {
     "iopub.execute_input": "2023-01-29T06:39:29.135625Z",
     "iopub.status.busy": "2023-01-29T06:39:29.134224Z",
     "iopub.status.idle": "2023-01-29T06:40:07.780478Z",
     "shell.execute_reply": "2023-01-29T06:40:07.779851Z",
     "shell.execute_reply.started": "2023-01-29T06:33:14.987648Z"
    },
    "papermill": {
     "duration": 38.656925,
     "end_time": "2023-01-29T06:40:07.780628",
     "exception": false,
     "start_time": "2023-01-29T06:39:29.123703",
     "status": "completed"
    },
    "tags": []
   },
   "outputs": [
    {
     "name": "stdout",
     "output_type": "stream",
     "text": [
      "Collecting pyspark\r\n",
      "  Downloading pyspark-3.3.1.tar.gz (281.4 MB)\r\n",
      "\u001b[K     |████████████████████████████████| 281.4 MB 45 kB/s \r\n",
      "\u001b[?25hCollecting py4j==0.10.9.5\r\n",
      "  Downloading py4j-0.10.9.5-py2.py3-none-any.whl (199 kB)\r\n",
      "\u001b[K     |████████████████████████████████| 199 kB 66.4 MB/s \r\n",
      "\u001b[?25hBuilding wheels for collected packages: pyspark\r\n",
      "  Building wheel for pyspark (setup.py) ... \u001b[?25l-\b \b\\\b \b|\b \b/\b \b-\b \b\\\b \b|\b \b/\b \b-\b \b\\\b \b|\b \b/\b \b-\b \b\\\b \b|\b \b/\b \b-\b \b\\\b \b|\b \b/\b \b-\b \b\\\b \b|\b \b/\b \b-\b \b\\\b \b|\b \b/\b \b-\b \b\\\b \b|\b \b/\b \b-\b \b\\\b \b|\b \b/\b \b-\b \b\\\b \b|\b \b/\b \b-\b \b\\\b \b|\b \b/\b \b-\b \b\\\b \b|\b \b/\b \b-\b \b\\\b \b|\b \bdone\r\n",
      "\u001b[?25h  Created wheel for pyspark: filename=pyspark-3.3.1-py2.py3-none-any.whl size=281845515 sha256=2fe97f8e44121d0335f79d8ece472039a761391de6a034a9c23d63269dc7f1c8\r\n",
      "  Stored in directory: /root/.cache/pip/wheels/42/59/f5/79a5bf931714dcd201b26025347785f087370a10a3329a899c\r\n",
      "Successfully built pyspark\r\n",
      "Installing collected packages: py4j, pyspark\r\n",
      "Successfully installed py4j-0.10.9.5 pyspark-3.3.1\r\n",
      "Note: you may need to restart the kernel to use updated packages.\n"
     ]
    }
   ],
   "source": [
    "pip install pyspark"
   ]
  },
  {
   "cell_type": "markdown",
   "id": "steady-blowing",
   "metadata": {
    "papermill": {
     "duration": 0.0808,
     "end_time": "2023-01-29T06:40:07.944905",
     "exception": false,
     "start_time": "2023-01-29T06:40:07.864105",
     "status": "completed"
    },
    "tags": []
   },
   "source": [
    "# Using textFile()\n",
    "\n",
    "RDD can also be created from a text file using textFile() function of the SparkContext. "
   ]
  },
  {
   "cell_type": "code",
   "execution_count": 2,
   "id": "available-adelaide",
   "metadata": {
    "execution": {
     "iopub.execute_input": "2023-01-29T06:40:08.112861Z",
     "iopub.status.busy": "2023-01-29T06:40:08.112287Z",
     "iopub.status.idle": "2023-01-29T06:40:08.154124Z",
     "shell.execute_reply": "2023-01-29T06:40:08.153645Z",
     "shell.execute_reply.started": "2023-01-29T06:34:09.575092Z"
    },
    "papermill": {
     "duration": 0.127396,
     "end_time": "2023-01-29T06:40:08.154250",
     "exception": false,
     "start_time": "2023-01-29T06:40:08.026854",
     "status": "completed"
    },
    "tags": []
   },
   "outputs": [],
   "source": [
    "import pyspark"
   ]
  },
  {
   "cell_type": "code",
   "execution_count": 3,
   "id": "personalized-installation",
   "metadata": {
    "execution": {
     "iopub.execute_input": "2023-01-29T06:40:08.322122Z",
     "iopub.status.busy": "2023-01-29T06:40:08.321492Z",
     "iopub.status.idle": "2023-01-29T06:40:08.325067Z",
     "shell.execute_reply": "2023-01-29T06:40:08.324606Z",
     "shell.execute_reply.started": "2023-01-29T06:34:12.532312Z"
    },
    "papermill": {
     "duration": 0.089845,
     "end_time": "2023-01-29T06:40:08.325199",
     "exception": false,
     "start_time": "2023-01-29T06:40:08.235354",
     "status": "completed"
    },
    "tags": []
   },
   "outputs": [],
   "source": [
    "from pyspark.sql import SparkSession"
   ]
  },
  {
   "cell_type": "code",
   "execution_count": 4,
   "id": "local-atlanta",
   "metadata": {
    "execution": {
     "iopub.execute_input": "2023-01-29T06:40:08.493255Z",
     "iopub.status.busy": "2023-01-29T06:40:08.492474Z",
     "iopub.status.idle": "2023-01-29T06:40:13.646635Z",
     "shell.execute_reply": "2023-01-29T06:40:13.647032Z",
     "shell.execute_reply.started": "2023-01-29T06:36:40.077600Z"
    },
    "papermill": {
     "duration": 5.239256,
     "end_time": "2023-01-29T06:40:13.647196",
     "exception": false,
     "start_time": "2023-01-29T06:40:08.407940",
     "status": "completed"
    },
    "tags": []
   },
   "outputs": [],
   "source": [
    "spark =SparkSession.builder.appName('SparkByExamples.com').getOrCreate()\n",
    "rdd=spark.sparkContext.textFile(\"/kaggle/input/sample-text-file\")"
   ]
  },
  {
   "cell_type": "code",
   "execution_count": 5,
   "id": "closed-junior",
   "metadata": {
    "execution": {
     "iopub.execute_input": "2023-01-29T06:40:13.814299Z",
     "iopub.status.busy": "2023-01-29T06:40:13.813815Z",
     "iopub.status.idle": "2023-01-29T06:40:14.371182Z",
     "shell.execute_reply": "2023-01-29T06:40:14.371766Z",
     "shell.execute_reply.started": "2023-01-29T06:36:56.319943Z"
    },
    "papermill": {
     "duration": 0.643173,
     "end_time": "2023-01-29T06:40:14.371933",
     "exception": false,
     "start_time": "2023-01-29T06:40:13.728760",
     "status": "completed"
    },
    "tags": []
   },
   "outputs": [
    {
     "data": {
      "text/plain": [
       "['1,2,3,4,5']"
      ]
     },
     "execution_count": 5,
     "metadata": {},
     "output_type": "execute_result"
    }
   ],
   "source": [
    "rdd.collect()"
   ]
  },
  {
   "cell_type": "code",
   "execution_count": null,
   "id": "forced-nation",
   "metadata": {
    "papermill": {
     "duration": 0.083162,
     "end_time": "2023-01-29T06:40:14.536997",
     "exception": false,
     "start_time": "2023-01-29T06:40:14.453835",
     "status": "completed"
    },
    "tags": []
   },
   "outputs": [],
   "source": []
  }
 ],
 "metadata": {
  "kernelspec": {
   "display_name": "Python 3",
   "language": "python",
   "name": "python3"
  },
  "language_info": {
   "codemirror_mode": {
    "name": "ipython",
    "version": 3
   },
   "file_extension": ".py",
   "mimetype": "text/x-python",
   "name": "python",
   "nbconvert_exporter": "python",
   "pygments_lexer": "ipython3",
   "version": "3.7.10"
  },
  "papermill": {
   "default_parameters": {},
   "duration": 52.720108,
   "end_time": "2023-01-29T06:40:15.235797",
   "environment_variables": {},
   "exception": null,
   "input_path": "__notebook__.ipynb",
   "output_path": "__notebook__.ipynb",
   "parameters": {},
   "start_time": "2023-01-29T06:39:22.515689",
   "version": "2.3.3"
  }
 },
 "nbformat": 4,
 "nbformat_minor": 5
}
