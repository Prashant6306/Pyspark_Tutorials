{
 "cells": [
  {
   "cell_type": "code",
   "execution_count": 1,
   "id": "instructional-accessory",
   "metadata": {
    "execution": {
     "iopub.execute_input": "2023-01-30T04:18:07.186035Z",
     "iopub.status.busy": "2023-01-30T04:18:07.176348Z",
     "iopub.status.idle": "2023-01-30T04:19:06.534287Z",
     "shell.execute_reply": "2023-01-30T04:19:06.534807Z",
     "shell.execute_reply.started": "2023-01-30T03:54:18.811298Z"
    },
    "papermill": {
     "duration": 59.391481,
     "end_time": "2023-01-30T04:19:06.535192",
     "exception": false,
     "start_time": "2023-01-30T04:18:07.143711",
     "status": "completed"
    },
    "tags": []
   },
   "outputs": [
    {
     "name": "stdout",
     "output_type": "stream",
     "text": [
      "Collecting pyspark\r\n",
      "  Downloading pyspark-3.3.1.tar.gz (281.4 MB)\r\n",
      "\u001b[K     |████████████████████████████████| 281.4 MB 32 kB/s \r\n",
      "\u001b[?25hCollecting py4j==0.10.9.5\r\n",
      "  Downloading py4j-0.10.9.5-py2.py3-none-any.whl (199 kB)\r\n",
      "\u001b[K     |████████████████████████████████| 199 kB 48.4 MB/s \r\n",
      "\u001b[?25hBuilding wheels for collected packages: pyspark\r\n",
      "  Building wheel for pyspark (setup.py) ... \u001b[?25l-\b \b\\\b \b|\b \b/\b \b-\b \b\\\b \b|\b \b/\b \b-\b \b\\\b \b|\b \b/\b \b-\b \b\\\b \b|\b \b/\b \b-\b \b\\\b \b|\b \b/\b \b-\b \b\\\b \b|\b \b/\b \b-\b \b\\\b \b|\b \b/\b \b-\b \b\\\b \b|\b \b/\b \b-\b \b\\\b \b|\b \b/\b \b-\b \b\\\b \b|\b \b/\b \b-\b \b\\\b \b|\b \b/\b \b-\b \b\\\b \b|\b \b/\b \b-\b \b\\\b \b|\b \b/\b \b-\b \b\\\b \b|\b \b/\b \b-\b \b\\\b \b|\b \b/\b \b-\b \b\\\b \b|\b \bdone\r\n",
      "\u001b[?25h  Created wheel for pyspark: filename=pyspark-3.3.1-py2.py3-none-any.whl size=281845515 sha256=c97558c6c3895b6859a1163e409641e544b722f3a190e94641319e837251b1be\r\n",
      "  Stored in directory: /root/.cache/pip/wheels/42/59/f5/79a5bf931714dcd201b26025347785f087370a10a3329a899c\r\n",
      "Successfully built pyspark\r\n",
      "Installing collected packages: py4j, pyspark\r\n",
      "Successfully installed py4j-0.10.9.5 pyspark-3.3.1\r\n",
      "Note: you may need to restart the kernel to use updated packages.\n"
     ]
    }
   ],
   "source": [
    "pip install pyspark"
   ]
  },
  {
   "cell_type": "markdown",
   "id": "defined-representation",
   "metadata": {
    "papermill": {
     "duration": 0.205395,
     "end_time": "2023-01-30T04:19:06.946820",
     "exception": false,
     "start_time": "2023-01-30T04:19:06.741425",
     "status": "completed"
    },
    "tags": []
   },
   "source": [
    "# \tCreating DataFrame from CSV"
   ]
  },
  {
   "cell_type": "code",
   "execution_count": 2,
   "id": "scientific-horror",
   "metadata": {
    "execution": {
     "iopub.execute_input": "2023-01-30T04:19:07.361613Z",
     "iopub.status.busy": "2023-01-30T04:19:07.360615Z",
     "iopub.status.idle": "2023-01-30T04:19:07.417611Z",
     "shell.execute_reply": "2023-01-30T04:19:07.416851Z",
     "shell.execute_reply.started": "2023-01-30T03:55:11.934079Z"
    },
    "papermill": {
     "duration": 0.265921,
     "end_time": "2023-01-30T04:19:07.417764",
     "exception": false,
     "start_time": "2023-01-30T04:19:07.151843",
     "status": "completed"
    },
    "tags": []
   },
   "outputs": [],
   "source": [
    "import pyspark\n",
    "from pyspark.sql import SparkSession"
   ]
  },
  {
   "cell_type": "code",
   "execution_count": 3,
   "id": "charming-indiana",
   "metadata": {
    "execution": {
     "iopub.execute_input": "2023-01-30T04:19:07.828338Z",
     "iopub.status.busy": "2023-01-30T04:19:07.827603Z",
     "iopub.status.idle": "2023-01-30T04:19:13.517553Z",
     "shell.execute_reply": "2023-01-30T04:19:13.516971Z",
     "shell.execute_reply.started": "2023-01-30T03:56:11.345744Z"
    },
    "papermill": {
     "duration": 5.897062,
     "end_time": "2023-01-30T04:19:13.517712",
     "exception": false,
     "start_time": "2023-01-30T04:19:07.620650",
     "status": "completed"
    },
    "tags": []
   },
   "outputs": [],
   "source": [
    "spark=SparkSession.builder.master(\"local[1]\").appName(\"spark\").getOrCreate()"
   ]
  },
  {
   "cell_type": "code",
   "execution_count": 4,
   "id": "applicable-imagination",
   "metadata": {
    "execution": {
     "iopub.execute_input": "2023-01-30T04:19:13.921548Z",
     "iopub.status.busy": "2023-01-30T04:19:13.920805Z",
     "iopub.status.idle": "2023-01-30T04:19:20.204227Z",
     "shell.execute_reply": "2023-01-30T04:19:20.203334Z",
     "shell.execute_reply.started": "2023-01-30T03:57:09.018316Z"
    },
    "papermill": {
     "duration": 6.485029,
     "end_time": "2023-01-30T04:19:20.204433",
     "exception": false,
     "start_time": "2023-01-30T04:19:13.719404",
     "status": "completed"
    },
    "tags": []
   },
   "outputs": [],
   "source": [
    "df1=spark.read.csv(\"/kaggle/input/data-ml-superdatascience/data_ml_superdatascience/50_Startups.csv\")"
   ]
  },
  {
   "cell_type": "code",
   "execution_count": 5,
   "id": "manufactured-amateur",
   "metadata": {
    "execution": {
     "iopub.execute_input": "2023-01-30T04:19:20.659592Z",
     "iopub.status.busy": "2023-01-30T04:19:20.658650Z",
     "iopub.status.idle": "2023-01-30T04:19:20.960839Z",
     "shell.execute_reply": "2023-01-30T04:19:20.959945Z",
     "shell.execute_reply.started": "2023-01-30T03:57:33.678908Z"
    },
    "papermill": {
     "duration": 0.50632,
     "end_time": "2023-01-30T04:19:20.961062",
     "exception": false,
     "start_time": "2023-01-30T04:19:20.454742",
     "status": "completed"
    },
    "tags": []
   },
   "outputs": [
    {
     "name": "stdout",
     "output_type": "stream",
     "text": [
      "+---------+--------------+---------------+----------+---------+\n",
      "|      _c0|           _c1|            _c2|       _c3|      _c4|\n",
      "+---------+--------------+---------------+----------+---------+\n",
      "|R&D Spend|Administration|Marketing Spend|     State|   Profit|\n",
      "| 165349.2|      136897.8|       471784.1|  New York|192261.83|\n",
      "| 162597.7|     151377.59|      443898.53|California|191792.06|\n",
      "|153441.51|     101145.55|      407934.54|   Florida|191050.39|\n",
      "|144372.41|     118671.85|      383199.62|  New York|182901.99|\n",
      "|142107.34|      91391.77|      366168.42|   Florida|166187.94|\n",
      "| 131876.9|      99814.71|      362861.36|  New York|156991.12|\n",
      "|134615.46|     147198.87|      127716.82|California|156122.51|\n",
      "|130298.13|     145530.06|      323876.68|   Florida| 155752.6|\n",
      "|120542.52|     148718.95|      311613.29|  New York|152211.77|\n",
      "|123334.88|     108679.17|      304981.62|California|149759.96|\n",
      "|101913.08|     110594.11|      229160.95|   Florida|146121.95|\n",
      "|100671.96|      91790.61|      249744.55|California| 144259.4|\n",
      "| 93863.75|     127320.38|      249839.44|   Florida|141585.52|\n",
      "| 91992.39|     135495.07|      252664.93|California|134307.35|\n",
      "|119943.24|     156547.42|      256512.92|   Florida|132602.65|\n",
      "|114523.61|     122616.84|      261776.23|  New York|129917.04|\n",
      "| 78013.11|     121597.55|      264346.06|California|126992.93|\n",
      "| 94657.16|     145077.58|      282574.31|  New York|125370.37|\n",
      "| 91749.16|     114175.79|      294919.57|   Florida| 124266.9|\n",
      "+---------+--------------+---------------+----------+---------+\n",
      "only showing top 20 rows\n",
      "\n"
     ]
    }
   ],
   "source": [
    "df1.show()"
   ]
  },
  {
   "cell_type": "markdown",
   "id": "alive-nirvana",
   "metadata": {
    "papermill": {
     "duration": 0.253308,
     "end_time": "2023-01-30T04:19:21.456756",
     "exception": false,
     "start_time": "2023-01-30T04:19:21.203448",
     "status": "completed"
    },
    "tags": []
   },
   "source": [
    "# Creating from text (TXT) file"
   ]
  },
  {
   "cell_type": "code",
   "execution_count": 6,
   "id": "british-shoot",
   "metadata": {
    "execution": {
     "iopub.execute_input": "2023-01-30T04:19:21.865811Z",
     "iopub.status.busy": "2023-01-30T04:19:21.864694Z",
     "iopub.status.idle": "2023-01-30T04:19:21.896507Z",
     "shell.execute_reply": "2023-01-30T04:19:21.895396Z",
     "shell.execute_reply.started": "2023-01-30T03:58:47.401493Z"
    },
    "papermill": {
     "duration": 0.238627,
     "end_time": "2023-01-30T04:19:21.896674",
     "exception": false,
     "start_time": "2023-01-30T04:19:21.658047",
     "status": "completed"
    },
    "tags": []
   },
   "outputs": [],
   "source": [
    "df2=spark.read.text(\"/kaggle/input/sapmle/sample.txt\")"
   ]
  },
  {
   "cell_type": "code",
   "execution_count": 7,
   "id": "stock-seventh",
   "metadata": {
    "execution": {
     "iopub.execute_input": "2023-01-30T04:19:22.303507Z",
     "iopub.status.busy": "2023-01-30T04:19:22.302373Z",
     "iopub.status.idle": "2023-01-30T04:19:22.474799Z",
     "shell.execute_reply": "2023-01-30T04:19:22.473792Z",
     "shell.execute_reply.started": "2023-01-30T03:58:54.717224Z"
    },
    "papermill": {
     "duration": 0.377459,
     "end_time": "2023-01-30T04:19:22.475036",
     "exception": false,
     "start_time": "2023-01-30T04:19:22.097577",
     "status": "completed"
    },
    "tags": []
   },
   "outputs": [
    {
     "name": "stdout",
     "output_type": "stream",
     "text": [
      "+---------+\n",
      "|    value|\n",
      "+---------+\n",
      "|1,2,3,4,5|\n",
      "+---------+\n",
      "\n"
     ]
    }
   ],
   "source": [
    "df2.show()"
   ]
  },
  {
   "cell_type": "markdown",
   "id": "neural-effect",
   "metadata": {
    "papermill": {
     "duration": 0.200591,
     "end_time": "2023-01-30T04:19:22.883827",
     "exception": false,
     "start_time": "2023-01-30T04:19:22.683236",
     "status": "completed"
    },
    "tags": []
   },
   "source": [
    "# Creating from JSON file"
   ]
  },
  {
   "cell_type": "code",
   "execution_count": 8,
   "id": "boolean-quarter",
   "metadata": {
    "execution": {
     "iopub.execute_input": "2023-01-30T04:19:23.293479Z",
     "iopub.status.busy": "2023-01-30T04:19:23.292546Z",
     "iopub.status.idle": "2023-01-30T04:19:23.623256Z",
     "shell.execute_reply": "2023-01-30T04:19:23.622278Z",
     "shell.execute_reply.started": "2023-01-30T04:01:02.485356Z"
    },
    "papermill": {
     "duration": 0.535614,
     "end_time": "2023-01-30T04:19:23.623479",
     "exception": false,
     "start_time": "2023-01-30T04:19:23.087865",
     "status": "completed"
    },
    "tags": []
   },
   "outputs": [],
   "source": [
    "df3=spark.read.json(\"/kaggle/input/json-sample-file-1/sample2.json\")"
   ]
  },
  {
   "cell_type": "code",
   "execution_count": 9,
   "id": "special-breakfast",
   "metadata": {
    "execution": {
     "iopub.execute_input": "2023-01-30T04:19:24.034788Z",
     "iopub.status.busy": "2023-01-30T04:19:24.033714Z",
     "iopub.status.idle": "2023-01-30T04:19:24.241776Z",
     "shell.execute_reply": "2023-01-30T04:19:24.240438Z",
     "shell.execute_reply.started": "2023-01-30T04:01:10.955409Z"
    },
    "papermill": {
     "duration": 0.415371,
     "end_time": "2023-01-30T04:19:24.242026",
     "exception": false,
     "start_time": "2023-01-30T04:19:23.826655",
     "status": "completed"
    },
    "tags": []
   },
   "outputs": [
    {
     "name": "stdout",
     "output_type": "stream",
     "text": [
      "+--------------------+----------+----+\n",
      "|     _corrupt_record|    number|type|\n",
      "+--------------------+----------+----+\n",
      "|                   {|      null|null|\n",
      "|   \"firstName\": \"...|      null|null|\n",
      "|   \"lastName\": \"J...|      null|null|\n",
      "|   \"gender\": \"male\",|      null|null|\n",
      "|          \"age\": 28,|      null|null|\n",
      "|        \"address\": {|      null|null|\n",
      "|       \"streetAdd...|      null|null|\n",
      "|       \"city\": \"S...|      null|null|\n",
      "|       \"state\": \"CA\"|      null|null|\n",
      "|                  },|      null|null|\n",
      "|   \"phoneNumbers\": [|      null|null|\n",
      "|                null|7349282382|home|\n",
      "|                   ]|      null|null|\n",
      "|                   }|      null|null|\n",
      "+--------------------+----------+----+\n",
      "\n"
     ]
    }
   ],
   "source": [
    "df3.show()"
   ]
  },
  {
   "cell_type": "markdown",
   "id": "intellectual-yacht",
   "metadata": {
    "papermill": {
     "duration": 0.210842,
     "end_time": "2023-01-30T04:19:24.774550",
     "exception": false,
     "start_time": "2023-01-30T04:19:24.563708",
     "status": "completed"
    },
    "tags": []
   },
   "source": [
    "# Creating from Parquet file"
   ]
  },
  {
   "cell_type": "code",
   "execution_count": 10,
   "id": "packed-chester",
   "metadata": {
    "execution": {
     "iopub.execute_input": "2023-01-30T04:19:25.185897Z",
     "iopub.status.busy": "2023-01-30T04:19:25.184953Z",
     "iopub.status.idle": "2023-01-30T04:19:25.894505Z",
     "shell.execute_reply": "2023-01-30T04:19:25.893890Z",
     "shell.execute_reply.started": "2023-01-30T04:02:01.666553Z"
    },
    "papermill": {
     "duration": 0.916066,
     "end_time": "2023-01-30T04:19:25.894655",
     "exception": false,
     "start_time": "2023-01-30T04:19:24.978589",
     "status": "completed"
    },
    "tags": []
   },
   "outputs": [],
   "source": [
    "df4=spark.read.parquet(\"/kaggle/input/parquet-sample-file/userdata1.parquet\")"
   ]
  },
  {
   "cell_type": "code",
   "execution_count": 11,
   "id": "confidential-weekly",
   "metadata": {
    "execution": {
     "iopub.execute_input": "2023-01-30T04:19:26.338679Z",
     "iopub.status.busy": "2023-01-30T04:19:26.337425Z",
     "iopub.status.idle": "2023-01-30T04:19:27.383040Z",
     "shell.execute_reply": "2023-01-30T04:19:27.381969Z",
     "shell.execute_reply.started": "2023-01-30T04:02:08.887006Z"
    },
    "papermill": {
     "duration": 1.275898,
     "end_time": "2023-01-30T04:19:27.383255",
     "exception": false,
     "start_time": "2023-01-30T04:19:26.107357",
     "status": "completed"
    },
    "tags": []
   },
   "outputs": [
    {
     "name": "stdout",
     "output_type": "stream",
     "text": [
      "+-------------------+---+----------+---------+--------------------+------+---------------+-------------------+--------------------+----------+---------+--------------------+--------------------+\n",
      "|  registration_dttm| id|first_name|last_name|               email|gender|     ip_address|                 cc|             country| birthdate|   salary|               title|            comments|\n",
      "+-------------------+---+----------+---------+--------------------+------+---------------+-------------------+--------------------+----------+---------+--------------------+--------------------+\n",
      "|2016-02-03 07:55:29|  1|    Amanda|   Jordan|    ajordan0@com.com|Female|    1.197.201.2|   6759521864920116|           Indonesia|  3/8/1971| 49756.53|    Internal Auditor|               1E+02|\n",
      "|2016-02-03 17:04:03|  2|    Albert|  Freeman|     afreeman1@is.gd|  Male| 218.111.175.34|                   |              Canada| 1/16/1968|150280.17|       Accountant IV|                    |\n",
      "|2016-02-03 01:09:31|  3|    Evelyn|   Morgan|emorgan2@altervis...|Female|   7.161.136.94|   6767119071901597|              Russia|  2/1/1960|144972.51| Structural Engineer|                    |\n",
      "|2016-02-03 00:36:21|  4|    Denise|    Riley|    driley3@gmpg.org|Female|  140.35.109.83|   3576031598965625|               China|  4/8/1997| 90263.05|Senior Cost Accou...|                    |\n",
      "|2016-02-03 05:05:31|  5|    Carlos|    Burns|cburns4@miitbeian...|      | 169.113.235.40|   5602256255204850|        South Africa|          |     null|                    |                    |\n",
      "|2016-02-03 07:22:34|  6|   Kathryn|    White|  kwhite5@google.com|Female| 195.131.81.179|   3583136326049310|           Indonesia| 2/25/1983| 69227.11|   Account Executive|                    |\n",
      "|2016-02-03 08:33:08|  7|    Samuel|   Holmes|sholmes6@foxnews.com|  Male| 232.234.81.197|   3582641366974690|            Portugal|12/18/1987| 14247.62|Senior Financial ...|                    |\n",
      "|2016-02-03 06:47:06|  8|     Harry|   Howell| hhowell7@eepurl.com|  Male|   91.235.51.73|                   |Bosnia and Herzeg...|  3/1/1962|186469.43|    Web Developer IV|                    |\n",
      "|2016-02-03 03:52:53|  9|      Jose|   Foster|   jfoster8@yelp.com|  Male|   132.31.53.61|                   |         South Korea| 3/27/1992|231067.84|Software Test Eng...|               1E+02|\n",
      "|2016-02-03 18:29:47| 10|     Emily|  Stewart|estewart9@opensou...|Female| 143.28.251.245|   3574254110301671|             Nigeria| 1/28/1997| 27234.28|     Health Coach IV|                    |\n",
      "|2016-02-03 00:10:42| 11|     Susan|  Perkins| sperkinsa@patch.com|Female|    180.85.0.62|   3573823609854134|              Russia|          |210001.95|                    |                    |\n",
      "|2016-02-03 18:04:34| 12|     Alice|    Berry|aberryb@wikipedia...|Female| 246.225.12.189|   4917830851454417|               China| 8/12/1968| 22944.53|    Quality Engineer|                    |\n",
      "|2016-02-03 18:48:17| 13|    Justin|    Berry|jberryc@usatoday.com|  Male|   157.7.146.43|6331109912871813274|              Zambia| 8/15/1975| 44165.46|Structural Analys...|                    |\n",
      "|2016-02-03 21:46:52| 14|     Kathy| Reynolds|kreynoldsd@redcro...|Female|  81.254.172.13|   5537178462965976|Bosnia and Herzeg...| 6/27/1970|286592.99|           Librarian|                    |\n",
      "|2016-02-03 08:53:23| 15|   Dorothy|   Hudson|dhudsone@blogger.com|Female|       8.59.7.0|   3542586858224170|               Japan|12/20/1989|157099.71|  Nurse Practicioner|<script>alert('hi...|\n",
      "|2016-02-03 00:44:01| 16|     Bruce|   Willis|bwillisf@bluehost...|  Male|239.182.219.189|   3573030625927601|              Brazil|          |239100.65|                    |                    |\n",
      "|2016-02-03 00:57:45| 17|     Emily|  Andrews|eandrewsg@cornell...|Female| 29.231.180.172|     30271790537626|              Russia| 4/13/1990|116800.65|        Food Chemist|                    |\n",
      "|2016-02-03 16:44:24| 18|   Stephen|  Wallace|swallaceh@netvibe...|  Male|  152.49.213.62|   5433943468526428|             Ukraine| 1/15/1978|248877.99|Account Represent...|                    |\n",
      "|2016-02-03 11:45:54| 19|  Clarence|   Lawson|clawsoni@vkontakt...|  Male| 107.175.15.152|   3544052814080964|              Russia|          |177122.99|                    |                    |\n",
      "|2016-02-03 10:30:36| 20|   Rebecca|     Bell| rbellj@bandcamp.com|Female|172.215.104.127|                   |               China|          |137251.19|                    |                    |\n",
      "+-------------------+---+----------+---------+--------------------+------+---------------+-------------------+--------------------+----------+---------+--------------------+--------------------+\n",
      "only showing top 20 rows\n",
      "\n"
     ]
    }
   ],
   "source": [
    "df4.show()"
   ]
  },
  {
   "cell_type": "code",
   "execution_count": 12,
   "id": "dated-brook",
   "metadata": {
    "execution": {
     "iopub.execute_input": "2023-01-30T04:19:27.828985Z",
     "iopub.status.busy": "2023-01-30T04:19:27.828023Z",
     "iopub.status.idle": "2023-01-30T04:19:27.840410Z",
     "shell.execute_reply": "2023-01-30T04:19:27.840950Z",
     "shell.execute_reply.started": "2023-01-30T04:02:20.489752Z"
    },
    "papermill": {
     "duration": 0.223416,
     "end_time": "2023-01-30T04:19:27.841143",
     "exception": false,
     "start_time": "2023-01-30T04:19:27.617727",
     "status": "completed"
    },
    "tags": []
   },
   "outputs": [
    {
     "name": "stdout",
     "output_type": "stream",
     "text": [
      "root\n",
      " |-- registration_dttm: timestamp (nullable = true)\n",
      " |-- id: integer (nullable = true)\n",
      " |-- first_name: string (nullable = true)\n",
      " |-- last_name: string (nullable = true)\n",
      " |-- email: string (nullable = true)\n",
      " |-- gender: string (nullable = true)\n",
      " |-- ip_address: string (nullable = true)\n",
      " |-- cc: string (nullable = true)\n",
      " |-- country: string (nullable = true)\n",
      " |-- birthdate: string (nullable = true)\n",
      " |-- salary: double (nullable = true)\n",
      " |-- title: string (nullable = true)\n",
      " |-- comments: string (nullable = true)\n",
      "\n"
     ]
    }
   ],
   "source": [
    "df4.printSchema()"
   ]
  },
  {
   "cell_type": "markdown",
   "id": "downtown-locking",
   "metadata": {
    "papermill": {
     "duration": 0.200088,
     "end_time": "2023-01-30T04:19:28.243487",
     "exception": false,
     "start_time": "2023-01-30T04:19:28.043399",
     "status": "completed"
    },
    "tags": []
   },
   "source": [
    "# What is Parquet File?"
   ]
  },
  {
   "cell_type": "markdown",
   "id": "chief-storage",
   "metadata": {
    "papermill": {
     "duration": 0.199641,
     "end_time": "2023-01-30T04:19:28.643656",
     "exception": false,
     "start_time": "2023-01-30T04:19:28.444015",
     "status": "completed"
    },
    "tags": []
   },
   "source": [
    "# ****Apache Parquet file is a columnar storage format available to any project in the Hadoop ecosystem, regardless of the choice of data processing framework, data model, or programming language"
   ]
  },
  {
   "cell_type": "markdown",
   "id": "configured-egypt",
   "metadata": {
    "papermill": {
     "duration": 0.19987,
     "end_time": "2023-01-30T04:19:29.041253",
     "exception": false,
     "start_time": "2023-01-30T04:19:28.841383",
     "status": "completed"
    },
    "tags": []
   },
   "source": [
    "# Apache Parquet Pyspark Example"
   ]
  },
  {
   "cell_type": "code",
   "execution_count": 13,
   "id": "golden-revelation",
   "metadata": {
    "execution": {
     "iopub.execute_input": "2023-01-30T04:19:29.461237Z",
     "iopub.status.busy": "2023-01-30T04:19:29.460531Z",
     "iopub.status.idle": "2023-01-30T04:19:29.541082Z",
     "shell.execute_reply": "2023-01-30T04:19:29.540075Z",
     "shell.execute_reply.started": "2023-01-30T04:10:05.390619Z"
    },
    "papermill": {
     "duration": 0.30077,
     "end_time": "2023-01-30T04:19:29.541285",
     "exception": false,
     "start_time": "2023-01-30T04:19:29.240515",
     "status": "completed"
    },
    "tags": []
   },
   "outputs": [],
   "source": [
    "data =[(\"James \",\"\",\"Smith\",\"36636\",\"M\",3000),\n",
    "(\"Michael \",\"Rose\",\"\",\"40288\",\"M\",4000),\n",
    "(\"Robert \",\"\",\"Williams\",\"42114\",\"M\",4000),\n",
    "(\"Maria \",\"Anne\",\"Jones\",\"39192\",\"F\",4000),\n",
    "(\"Jen\",\"Mary\",\"Brown\",\"\",\"F\",-1)]\n",
    "columns=[\"firstname\",\"middlename\",\"lastname\",\"dob\",\"gender\",\"salary\"]\n",
    "df=spark.createDataFrame(data,columns)"
   ]
  },
  {
   "cell_type": "code",
   "execution_count": 14,
   "id": "amateur-trinidad",
   "metadata": {
    "execution": {
     "iopub.execute_input": "2023-01-30T04:19:29.981628Z",
     "iopub.status.busy": "2023-01-30T04:19:29.980946Z",
     "iopub.status.idle": "2023-01-30T04:19:30.928482Z",
     "shell.execute_reply": "2023-01-30T04:19:30.927505Z",
     "shell.execute_reply.started": "2023-01-30T04:10:06.567839Z"
    },
    "papermill": {
     "duration": 1.162698,
     "end_time": "2023-01-30T04:19:30.928682",
     "exception": false,
     "start_time": "2023-01-30T04:19:29.765984",
     "status": "completed"
    },
    "tags": []
   },
   "outputs": [
    {
     "name": "stdout",
     "output_type": "stream",
     "text": [
      "+---------+----------+--------+-----+------+------+\n",
      "|firstname|middlename|lastname|  dob|gender|salary|\n",
      "+---------+----------+--------+-----+------+------+\n",
      "|   James |          |   Smith|36636|     M|  3000|\n",
      "| Michael |      Rose|        |40288|     M|  4000|\n",
      "|  Robert |          |Williams|42114|     M|  4000|\n",
      "|   Maria |      Anne|   Jones|39192|     F|  4000|\n",
      "|      Jen|      Mary|   Brown|     |     F|    -1|\n",
      "+---------+----------+--------+-----+------+------+\n",
      "\n"
     ]
    }
   ],
   "source": [
    "df.show()"
   ]
  },
  {
   "cell_type": "code",
   "execution_count": 15,
   "id": "composite-measurement",
   "metadata": {
    "execution": {
     "iopub.execute_input": "2023-01-30T04:19:31.431311Z",
     "iopub.status.busy": "2023-01-30T04:19:31.429499Z",
     "iopub.status.idle": "2023-01-30T04:19:31.481695Z",
     "shell.execute_reply": "2023-01-30T04:19:31.481077Z",
     "shell.execute_reply.started": "2023-01-30T04:10:07.562020Z"
    },
    "papermill": {
     "duration": 0.261259,
     "end_time": "2023-01-30T04:19:31.481841",
     "exception": false,
     "start_time": "2023-01-30T04:19:31.220582",
     "status": "completed"
    },
    "tags": []
   },
   "outputs": [],
   "source": [
    "df.createOrReplaceTempView(\"table\")"
   ]
  },
  {
   "cell_type": "code",
   "execution_count": 16,
   "id": "underlying-demand",
   "metadata": {
    "execution": {
     "iopub.execute_input": "2023-01-30T04:19:31.895681Z",
     "iopub.status.busy": "2023-01-30T04:19:31.894530Z",
     "iopub.status.idle": "2023-01-30T04:19:31.969753Z",
     "shell.execute_reply": "2023-01-30T04:19:31.968755Z",
     "shell.execute_reply.started": "2023-01-30T04:11:41.647683Z"
    },
    "papermill": {
     "duration": 0.285811,
     "end_time": "2023-01-30T04:19:31.969993",
     "exception": false,
     "start_time": "2023-01-30T04:19:31.684182",
     "status": "completed"
    },
    "tags": []
   },
   "outputs": [],
   "source": [
    "parsql=spark.sql(\"select lastname,salary from table\")"
   ]
  },
  {
   "cell_type": "code",
   "execution_count": 17,
   "id": "enclosed-scale",
   "metadata": {
    "execution": {
     "iopub.execute_input": "2023-01-30T04:19:32.571928Z",
     "iopub.status.busy": "2023-01-30T04:19:32.570842Z",
     "iopub.status.idle": "2023-01-30T04:19:32.743665Z",
     "shell.execute_reply": "2023-01-30T04:19:32.742825Z",
     "shell.execute_reply.started": "2023-01-30T04:11:42.821582Z"
    },
    "papermill": {
     "duration": 0.454809,
     "end_time": "2023-01-30T04:19:32.743904",
     "exception": false,
     "start_time": "2023-01-30T04:19:32.289095",
     "status": "completed"
    },
    "tags": []
   },
   "outputs": [
    {
     "name": "stdout",
     "output_type": "stream",
     "text": [
      "+--------+------+\n",
      "|lastname|salary|\n",
      "+--------+------+\n",
      "|   Smith|  3000|\n",
      "|        |  4000|\n",
      "|Williams|  4000|\n",
      "|   Jones|  4000|\n",
      "|   Brown|    -1|\n",
      "+--------+------+\n",
      "\n"
     ]
    }
   ],
   "source": [
    "parsql.show()"
   ]
  },
  {
   "cell_type": "code",
   "execution_count": 18,
   "id": "accompanied-yellow",
   "metadata": {
    "execution": {
     "iopub.execute_input": "2023-01-30T04:19:33.177439Z",
     "iopub.status.busy": "2023-01-30T04:19:33.176344Z",
     "iopub.status.idle": "2023-01-30T04:19:33.210735Z",
     "shell.execute_reply": "2023-01-30T04:19:33.210028Z",
     "shell.execute_reply.started": "2023-01-30T04:13:54.169438Z"
    },
    "papermill": {
     "duration": 0.240729,
     "end_time": "2023-01-30T04:19:33.210908",
     "exception": false,
     "start_time": "2023-01-30T04:19:32.970179",
     "status": "completed"
    },
    "tags": []
   },
   "outputs": [],
   "source": [
    "parsql2=spark.sql(\"select firstname from table where gender=='M' \")"
   ]
  },
  {
   "cell_type": "code",
   "execution_count": 19,
   "id": "desirable-mayor",
   "metadata": {
    "execution": {
     "iopub.execute_input": "2023-01-30T04:19:33.837813Z",
     "iopub.status.busy": "2023-01-30T04:19:33.836842Z",
     "iopub.status.idle": "2023-01-30T04:19:34.032173Z",
     "shell.execute_reply": "2023-01-30T04:19:34.031342Z",
     "shell.execute_reply.started": "2023-01-30T04:13:55.177480Z"
    },
    "papermill": {
     "duration": 0.503894,
     "end_time": "2023-01-30T04:19:34.032401",
     "exception": false,
     "start_time": "2023-01-30T04:19:33.528507",
     "status": "completed"
    },
    "tags": []
   },
   "outputs": [
    {
     "name": "stdout",
     "output_type": "stream",
     "text": [
      "+---------+\n",
      "|firstname|\n",
      "+---------+\n",
      "|   James |\n",
      "| Michael |\n",
      "|  Robert |\n",
      "+---------+\n",
      "\n"
     ]
    }
   ],
   "source": [
    "parsql2.show()"
   ]
  },
  {
   "cell_type": "code",
   "execution_count": 20,
   "id": "subtle-tracy",
   "metadata": {
    "execution": {
     "iopub.execute_input": "2023-01-30T04:19:34.442622Z",
     "iopub.status.busy": "2023-01-30T04:19:34.441748Z",
     "iopub.status.idle": "2023-01-30T04:19:34.603515Z",
     "shell.execute_reply": "2023-01-30T04:19:34.602495Z",
     "shell.execute_reply.started": "2023-01-30T04:14:22.883193Z"
    },
    "papermill": {
     "duration": 0.368084,
     "end_time": "2023-01-30T04:19:34.603752",
     "exception": false,
     "start_time": "2023-01-30T04:19:34.235668",
     "status": "completed"
    },
    "tags": []
   },
   "outputs": [
    {
     "name": "stdout",
     "output_type": "stream",
     "text": [
      "+---------+\n",
      "|firstname|\n",
      "+---------+\n",
      "|   James |\n",
      "| Michael |\n",
      "|  Robert |\n",
      "+---------+\n",
      "\n"
     ]
    }
   ],
   "source": [
    "parsql2=spark.sql(\"select firstname from table where gender=='M' \").show()"
   ]
  },
  {
   "cell_type": "code",
   "execution_count": null,
   "id": "corresponding-warrant",
   "metadata": {
    "papermill": {
     "duration": 0.20002,
     "end_time": "2023-01-30T04:19:35.008999",
     "exception": false,
     "start_time": "2023-01-30T04:19:34.808979",
     "status": "completed"
    },
    "tags": []
   },
   "outputs": [],
   "source": []
  }
 ],
 "metadata": {
  "kernelspec": {
   "display_name": "Python 3",
   "language": "python",
   "name": "python3"
  },
  "language_info": {
   "codemirror_mode": {
    "name": "ipython",
    "version": 3
   },
   "file_extension": ".py",
   "mimetype": "text/x-python",
   "name": "python",
   "nbconvert_exporter": "python",
   "pygments_lexer": "ipython3",
   "version": "3.7.10"
  },
  "papermill": {
   "default_parameters": {},
   "duration": 96.725489,
   "end_time": "2023-01-30T04:19:35.921534",
   "environment_variables": {},
   "exception": null,
   "input_path": "__notebook__.ipynb",
   "output_path": "__notebook__.ipynb",
   "parameters": {},
   "start_time": "2023-01-30T04:17:59.196045",
   "version": "2.3.3"
  }
 },
 "nbformat": 4,
 "nbformat_minor": 5
}
