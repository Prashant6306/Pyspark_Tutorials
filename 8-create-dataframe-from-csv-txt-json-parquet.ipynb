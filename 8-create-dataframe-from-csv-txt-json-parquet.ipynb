{
 "cells": [
  {
   "cell_type": "code",
   "execution_count": 1,
   "id": "spoken-account",
   "metadata": {
    "execution": {
     "iopub.execute_input": "2023-01-30T04:03:14.429452Z",
     "iopub.status.busy": "2023-01-30T04:03:14.428157Z",
     "iopub.status.idle": "2023-01-30T04:04:01.547015Z",
     "shell.execute_reply": "2023-01-30T04:04:01.546131Z",
     "shell.execute_reply.started": "2023-01-30T03:54:18.811298Z"
    },
    "papermill": {
     "duration": 47.135835,
     "end_time": "2023-01-30T04:04:01.547212",
     "exception": false,
     "start_time": "2023-01-30T04:03:14.411377",
     "status": "completed"
    },
    "tags": []
   },
   "outputs": [
    {
     "name": "stdout",
     "output_type": "stream",
     "text": [
      "Collecting pyspark\r\n",
      "  Downloading pyspark-3.3.1.tar.gz (281.4 MB)\r\n",
      "\u001b[K     |████████████████████████████████| 281.4 MB 34 kB/s \r\n",
      "\u001b[?25hCollecting py4j==0.10.9.5\r\n",
      "  Downloading py4j-0.10.9.5-py2.py3-none-any.whl (199 kB)\r\n",
      "\u001b[K     |████████████████████████████████| 199 kB 62.6 MB/s \r\n",
      "\u001b[?25hBuilding wheels for collected packages: pyspark\r\n",
      "  Building wheel for pyspark (setup.py) ... \u001b[?25l-\b \b\\\b \b|\b \b/\b \b-\b \b\\\b \b|\b \b/\b \b-\b \b\\\b \b|\b \b/\b \b-\b \b\\\b \b|\b \b/\b \b-\b \b\\\b \b|\b \b/\b \b-\b \b\\\b \b|\b \b/\b \b-\b \b\\\b \b|\b \b/\b \b-\b \b\\\b \b|\b \b/\b \b-\b \b\\\b \b|\b \b/\b \b-\b \b\\\b \b|\b \b/\b \b-\b \b\\\b \b|\b \b/\b \b-\b \b\\\b \b|\b \b/\b \b-\b \b\\\b \b|\b \b/\b \b-\b \b\\\b \b|\b \b/\b \b-\b \b\\\b \b|\b \b/\b \b-\b \b\\\b \b|\b \bdone\r\n",
      "\u001b[?25h  Created wheel for pyspark: filename=pyspark-3.3.1-py2.py3-none-any.whl size=281845515 sha256=165845f06481f9ff1f10308b0517e268ec91b68ac8722b9813b22c1f0702b055\r\n",
      "  Stored in directory: /root/.cache/pip/wheels/42/59/f5/79a5bf931714dcd201b26025347785f087370a10a3329a899c\r\n",
      "Successfully built pyspark\r\n",
      "Installing collected packages: py4j, pyspark\r\n",
      "Successfully installed py4j-0.10.9.5 pyspark-3.3.1\r\n",
      "Note: you may need to restart the kernel to use updated packages.\n"
     ]
    }
   ],
   "source": [
    "pip install pyspark"
   ]
  },
  {
   "cell_type": "markdown",
   "id": "architectural-numbers",
   "metadata": {
    "papermill": {
     "duration": 0.140837,
     "end_time": "2023-01-30T04:04:01.832555",
     "exception": false,
     "start_time": "2023-01-30T04:04:01.691718",
     "status": "completed"
    },
    "tags": []
   },
   "source": [
    "# \tCreating DataFrame from CSV"
   ]
  },
  {
   "cell_type": "code",
   "execution_count": 2,
   "id": "conservative-natural",
   "metadata": {
    "execution": {
     "iopub.execute_input": "2023-01-30T04:04:02.114878Z",
     "iopub.status.busy": "2023-01-30T04:04:02.114113Z",
     "iopub.status.idle": "2023-01-30T04:04:02.172162Z",
     "shell.execute_reply": "2023-01-30T04:04:02.171588Z",
     "shell.execute_reply.started": "2023-01-30T03:55:11.934079Z"
    },
    "papermill": {
     "duration": 0.202908,
     "end_time": "2023-01-30T04:04:02.172324",
     "exception": false,
     "start_time": "2023-01-30T04:04:01.969416",
     "status": "completed"
    },
    "tags": []
   },
   "outputs": [],
   "source": [
    "import pyspark\n",
    "from pyspark.sql import SparkSession"
   ]
  },
  {
   "cell_type": "code",
   "execution_count": 3,
   "id": "based-compression",
   "metadata": {
    "execution": {
     "iopub.execute_input": "2023-01-30T04:04:02.451918Z",
     "iopub.status.busy": "2023-01-30T04:04:02.451189Z",
     "iopub.status.idle": "2023-01-30T04:04:08.667158Z",
     "shell.execute_reply": "2023-01-30T04:04:08.666197Z",
     "shell.execute_reply.started": "2023-01-30T03:56:11.345744Z"
    },
    "papermill": {
     "duration": 6.358127,
     "end_time": "2023-01-30T04:04:08.667379",
     "exception": false,
     "start_time": "2023-01-30T04:04:02.309252",
     "status": "completed"
    },
    "tags": []
   },
   "outputs": [],
   "source": [
    "spark=SparkSession.builder.master(\"local[1]\").appName(\"spark\").getOrCreate()"
   ]
  },
  {
   "cell_type": "code",
   "execution_count": 4,
   "id": "satisfactory-cleanup",
   "metadata": {
    "execution": {
     "iopub.execute_input": "2023-01-30T04:04:08.960382Z",
     "iopub.status.busy": "2023-01-30T04:04:08.959616Z",
     "iopub.status.idle": "2023-01-30T04:04:15.451988Z",
     "shell.execute_reply": "2023-01-30T04:04:15.451093Z",
     "shell.execute_reply.started": "2023-01-30T03:57:09.018316Z"
    },
    "papermill": {
     "duration": 6.635593,
     "end_time": "2023-01-30T04:04:15.452211",
     "exception": false,
     "start_time": "2023-01-30T04:04:08.816618",
     "status": "completed"
    },
    "tags": []
   },
   "outputs": [],
   "source": [
    "df1=spark.read.csv(\"/kaggle/input/data-ml-superdatascience/data_ml_superdatascience/50_Startups.csv\")"
   ]
  },
  {
   "cell_type": "code",
   "execution_count": 5,
   "id": "rapid-athletics",
   "metadata": {
    "execution": {
     "iopub.execute_input": "2023-01-30T04:04:15.754539Z",
     "iopub.status.busy": "2023-01-30T04:04:15.753837Z",
     "iopub.status.idle": "2023-01-30T04:04:16.097575Z",
     "shell.execute_reply": "2023-01-30T04:04:16.099199Z",
     "shell.execute_reply.started": "2023-01-30T03:57:33.678908Z"
    },
    "papermill": {
     "duration": 0.488161,
     "end_time": "2023-01-30T04:04:16.099565",
     "exception": false,
     "start_time": "2023-01-30T04:04:15.611404",
     "status": "completed"
    },
    "tags": []
   },
   "outputs": [
    {
     "name": "stdout",
     "output_type": "stream",
     "text": [
      "+---------+--------------+---------------+----------+---------+\n",
      "|      _c0|           _c1|            _c2|       _c3|      _c4|\n",
      "+---------+--------------+---------------+----------+---------+\n",
      "|R&D Spend|Administration|Marketing Spend|     State|   Profit|\n",
      "| 165349.2|      136897.8|       471784.1|  New York|192261.83|\n",
      "| 162597.7|     151377.59|      443898.53|California|191792.06|\n",
      "|153441.51|     101145.55|      407934.54|   Florida|191050.39|\n",
      "|144372.41|     118671.85|      383199.62|  New York|182901.99|\n",
      "|142107.34|      91391.77|      366168.42|   Florida|166187.94|\n",
      "| 131876.9|      99814.71|      362861.36|  New York|156991.12|\n",
      "|134615.46|     147198.87|      127716.82|California|156122.51|\n",
      "|130298.13|     145530.06|      323876.68|   Florida| 155752.6|\n",
      "|120542.52|     148718.95|      311613.29|  New York|152211.77|\n",
      "|123334.88|     108679.17|      304981.62|California|149759.96|\n",
      "|101913.08|     110594.11|      229160.95|   Florida|146121.95|\n",
      "|100671.96|      91790.61|      249744.55|California| 144259.4|\n",
      "| 93863.75|     127320.38|      249839.44|   Florida|141585.52|\n",
      "| 91992.39|     135495.07|      252664.93|California|134307.35|\n",
      "|119943.24|     156547.42|      256512.92|   Florida|132602.65|\n",
      "|114523.61|     122616.84|      261776.23|  New York|129917.04|\n",
      "| 78013.11|     121597.55|      264346.06|California|126992.93|\n",
      "| 94657.16|     145077.58|      282574.31|  New York|125370.37|\n",
      "| 91749.16|     114175.79|      294919.57|   Florida| 124266.9|\n",
      "+---------+--------------+---------------+----------+---------+\n",
      "only showing top 20 rows\n",
      "\n"
     ]
    }
   ],
   "source": [
    "df1.show()"
   ]
  },
  {
   "cell_type": "markdown",
   "id": "later-rehabilitation",
   "metadata": {
    "papermill": {
     "duration": 0.135914,
     "end_time": "2023-01-30T04:04:16.398574",
     "exception": false,
     "start_time": "2023-01-30T04:04:16.262660",
     "status": "completed"
    },
    "tags": []
   },
   "source": [
    "# Creating from text (TXT) file"
   ]
  },
  {
   "cell_type": "code",
   "execution_count": 6,
   "id": "timely-drove",
   "metadata": {
    "execution": {
     "iopub.execute_input": "2023-01-30T04:04:16.677109Z",
     "iopub.status.busy": "2023-01-30T04:04:16.676271Z",
     "iopub.status.idle": "2023-01-30T04:04:16.711811Z",
     "shell.execute_reply": "2023-01-30T04:04:16.710816Z",
     "shell.execute_reply.started": "2023-01-30T03:58:47.401493Z"
    },
    "papermill": {
     "duration": 0.178116,
     "end_time": "2023-01-30T04:04:16.712025",
     "exception": false,
     "start_time": "2023-01-30T04:04:16.533909",
     "status": "completed"
    },
    "tags": []
   },
   "outputs": [],
   "source": [
    "df2=spark.read.text(\"/kaggle/input/sapmle/sample.txt\")"
   ]
  },
  {
   "cell_type": "code",
   "execution_count": 7,
   "id": "devoted-walker",
   "metadata": {
    "execution": {
     "iopub.execute_input": "2023-01-30T04:04:16.992637Z",
     "iopub.status.busy": "2023-01-30T04:04:16.991955Z",
     "iopub.status.idle": "2023-01-30T04:04:17.141852Z",
     "shell.execute_reply": "2023-01-30T04:04:17.141051Z",
     "shell.execute_reply.started": "2023-01-30T03:58:54.717224Z"
    },
    "papermill": {
     "duration": 0.292085,
     "end_time": "2023-01-30T04:04:17.142084",
     "exception": false,
     "start_time": "2023-01-30T04:04:16.849999",
     "status": "completed"
    },
    "tags": []
   },
   "outputs": [
    {
     "name": "stdout",
     "output_type": "stream",
     "text": [
      "+---------+\n",
      "|    value|\n",
      "+---------+\n",
      "|1,2,3,4,5|\n",
      "+---------+\n",
      "\n"
     ]
    }
   ],
   "source": [
    "df2.show()"
   ]
  },
  {
   "cell_type": "markdown",
   "id": "consecutive-rhythm",
   "metadata": {
    "papermill": {
     "duration": 0.13649,
     "end_time": "2023-01-30T04:04:17.428850",
     "exception": false,
     "start_time": "2023-01-30T04:04:17.292360",
     "status": "completed"
    },
    "tags": []
   },
   "source": [
    "# Creating from JSON file"
   ]
  },
  {
   "cell_type": "code",
   "execution_count": 8,
   "id": "electronic-nancy",
   "metadata": {
    "execution": {
     "iopub.execute_input": "2023-01-30T04:04:17.712257Z",
     "iopub.status.busy": "2023-01-30T04:04:17.711579Z",
     "iopub.status.idle": "2023-01-30T04:04:18.029152Z",
     "shell.execute_reply": "2023-01-30T04:04:18.028103Z",
     "shell.execute_reply.started": "2023-01-30T04:01:02.485356Z"
    },
    "papermill": {
     "duration": 0.460944,
     "end_time": "2023-01-30T04:04:18.029401",
     "exception": false,
     "start_time": "2023-01-30T04:04:17.568457",
     "status": "completed"
    },
    "tags": []
   },
   "outputs": [],
   "source": [
    "df3=spark.read.json(\"/kaggle/input/json-sample-file-1/sample2.json\")"
   ]
  },
  {
   "cell_type": "code",
   "execution_count": 9,
   "id": "going-insurance",
   "metadata": {
    "execution": {
     "iopub.execute_input": "2023-01-30T04:04:18.313330Z",
     "iopub.status.busy": "2023-01-30T04:04:18.312327Z",
     "iopub.status.idle": "2023-01-30T04:04:18.516682Z",
     "shell.execute_reply": "2023-01-30T04:04:18.515986Z",
     "shell.execute_reply.started": "2023-01-30T04:01:10.955409Z"
    },
    "papermill": {
     "duration": 0.344603,
     "end_time": "2023-01-30T04:04:18.516848",
     "exception": false,
     "start_time": "2023-01-30T04:04:18.172245",
     "status": "completed"
    },
    "tags": []
   },
   "outputs": [
    {
     "name": "stdout",
     "output_type": "stream",
     "text": [
      "+--------------------+----------+----+\n",
      "|     _corrupt_record|    number|type|\n",
      "+--------------------+----------+----+\n",
      "|                   {|      null|null|\n",
      "|   \"firstName\": \"...|      null|null|\n",
      "|   \"lastName\": \"J...|      null|null|\n",
      "|   \"gender\": \"male\",|      null|null|\n",
      "|          \"age\": 28,|      null|null|\n",
      "|        \"address\": {|      null|null|\n",
      "|       \"streetAdd...|      null|null|\n",
      "|       \"city\": \"S...|      null|null|\n",
      "|       \"state\": \"CA\"|      null|null|\n",
      "|                  },|      null|null|\n",
      "|   \"phoneNumbers\": [|      null|null|\n",
      "|                null|7349282382|home|\n",
      "|                   ]|      null|null|\n",
      "|                   }|      null|null|\n",
      "+--------------------+----------+----+\n",
      "\n"
     ]
    }
   ],
   "source": [
    "df3.show()"
   ]
  },
  {
   "cell_type": "markdown",
   "id": "inside-shakespeare",
   "metadata": {
    "papermill": {
     "duration": 0.134735,
     "end_time": "2023-01-30T04:04:18.787318",
     "exception": false,
     "start_time": "2023-01-30T04:04:18.652583",
     "status": "completed"
    },
    "tags": []
   },
   "source": [
    "# Creating from Parquet file"
   ]
  },
  {
   "cell_type": "code",
   "execution_count": 10,
   "id": "occupational-happening",
   "metadata": {
    "execution": {
     "iopub.execute_input": "2023-01-30T04:04:19.069849Z",
     "iopub.status.busy": "2023-01-30T04:04:19.068351Z",
     "iopub.status.idle": "2023-01-30T04:04:19.678126Z",
     "shell.execute_reply": "2023-01-30T04:04:19.676998Z",
     "shell.execute_reply.started": "2023-01-30T04:02:01.666553Z"
    },
    "papermill": {
     "duration": 0.752903,
     "end_time": "2023-01-30T04:04:19.678341",
     "exception": false,
     "start_time": "2023-01-30T04:04:18.925438",
     "status": "completed"
    },
    "tags": []
   },
   "outputs": [],
   "source": [
    "df4=spark.read.parquet(\"/kaggle/input/parquet-sample-file/userdata1.parquet\")"
   ]
  },
  {
   "cell_type": "code",
   "execution_count": 11,
   "id": "ordered-storage",
   "metadata": {
    "execution": {
     "iopub.execute_input": "2023-01-30T04:04:19.995139Z",
     "iopub.status.busy": "2023-01-30T04:04:19.994073Z",
     "iopub.status.idle": "2023-01-30T04:04:20.867373Z",
     "shell.execute_reply": "2023-01-30T04:04:20.868306Z",
     "shell.execute_reply.started": "2023-01-30T04:02:08.887006Z"
    },
    "papermill": {
     "duration": 1.017746,
     "end_time": "2023-01-30T04:04:20.868574",
     "exception": false,
     "start_time": "2023-01-30T04:04:19.850828",
     "status": "completed"
    },
    "tags": []
   },
   "outputs": [
    {
     "name": "stdout",
     "output_type": "stream",
     "text": [
      "+-------------------+---+----------+---------+--------------------+------+---------------+-------------------+--------------------+----------+---------+--------------------+--------------------+\n",
      "|  registration_dttm| id|first_name|last_name|               email|gender|     ip_address|                 cc|             country| birthdate|   salary|               title|            comments|\n",
      "+-------------------+---+----------+---------+--------------------+------+---------------+-------------------+--------------------+----------+---------+--------------------+--------------------+\n",
      "|2016-02-03 07:55:29|  1|    Amanda|   Jordan|    ajordan0@com.com|Female|    1.197.201.2|   6759521864920116|           Indonesia|  3/8/1971| 49756.53|    Internal Auditor|               1E+02|\n",
      "|2016-02-03 17:04:03|  2|    Albert|  Freeman|     afreeman1@is.gd|  Male| 218.111.175.34|                   |              Canada| 1/16/1968|150280.17|       Accountant IV|                    |\n",
      "|2016-02-03 01:09:31|  3|    Evelyn|   Morgan|emorgan2@altervis...|Female|   7.161.136.94|   6767119071901597|              Russia|  2/1/1960|144972.51| Structural Engineer|                    |\n",
      "|2016-02-03 00:36:21|  4|    Denise|    Riley|    driley3@gmpg.org|Female|  140.35.109.83|   3576031598965625|               China|  4/8/1997| 90263.05|Senior Cost Accou...|                    |\n",
      "|2016-02-03 05:05:31|  5|    Carlos|    Burns|cburns4@miitbeian...|      | 169.113.235.40|   5602256255204850|        South Africa|          |     null|                    |                    |\n",
      "|2016-02-03 07:22:34|  6|   Kathryn|    White|  kwhite5@google.com|Female| 195.131.81.179|   3583136326049310|           Indonesia| 2/25/1983| 69227.11|   Account Executive|                    |\n",
      "|2016-02-03 08:33:08|  7|    Samuel|   Holmes|sholmes6@foxnews.com|  Male| 232.234.81.197|   3582641366974690|            Portugal|12/18/1987| 14247.62|Senior Financial ...|                    |\n",
      "|2016-02-03 06:47:06|  8|     Harry|   Howell| hhowell7@eepurl.com|  Male|   91.235.51.73|                   |Bosnia and Herzeg...|  3/1/1962|186469.43|    Web Developer IV|                    |\n",
      "|2016-02-03 03:52:53|  9|      Jose|   Foster|   jfoster8@yelp.com|  Male|   132.31.53.61|                   |         South Korea| 3/27/1992|231067.84|Software Test Eng...|               1E+02|\n",
      "|2016-02-03 18:29:47| 10|     Emily|  Stewart|estewart9@opensou...|Female| 143.28.251.245|   3574254110301671|             Nigeria| 1/28/1997| 27234.28|     Health Coach IV|                    |\n",
      "|2016-02-03 00:10:42| 11|     Susan|  Perkins| sperkinsa@patch.com|Female|    180.85.0.62|   3573823609854134|              Russia|          |210001.95|                    |                    |\n",
      "|2016-02-03 18:04:34| 12|     Alice|    Berry|aberryb@wikipedia...|Female| 246.225.12.189|   4917830851454417|               China| 8/12/1968| 22944.53|    Quality Engineer|                    |\n",
      "|2016-02-03 18:48:17| 13|    Justin|    Berry|jberryc@usatoday.com|  Male|   157.7.146.43|6331109912871813274|              Zambia| 8/15/1975| 44165.46|Structural Analys...|                    |\n",
      "|2016-02-03 21:46:52| 14|     Kathy| Reynolds|kreynoldsd@redcro...|Female|  81.254.172.13|   5537178462965976|Bosnia and Herzeg...| 6/27/1970|286592.99|           Librarian|                    |\n",
      "|2016-02-03 08:53:23| 15|   Dorothy|   Hudson|dhudsone@blogger.com|Female|       8.59.7.0|   3542586858224170|               Japan|12/20/1989|157099.71|  Nurse Practicioner|<script>alert('hi...|\n",
      "|2016-02-03 00:44:01| 16|     Bruce|   Willis|bwillisf@bluehost...|  Male|239.182.219.189|   3573030625927601|              Brazil|          |239100.65|                    |                    |\n",
      "|2016-02-03 00:57:45| 17|     Emily|  Andrews|eandrewsg@cornell...|Female| 29.231.180.172|     30271790537626|              Russia| 4/13/1990|116800.65|        Food Chemist|                    |\n",
      "|2016-02-03 16:44:24| 18|   Stephen|  Wallace|swallaceh@netvibe...|  Male|  152.49.213.62|   5433943468526428|             Ukraine| 1/15/1978|248877.99|Account Represent...|                    |\n",
      "|2016-02-03 11:45:54| 19|  Clarence|   Lawson|clawsoni@vkontakt...|  Male| 107.175.15.152|   3544052814080964|              Russia|          |177122.99|                    |                    |\n",
      "|2016-02-03 10:30:36| 20|   Rebecca|     Bell| rbellj@bandcamp.com|Female|172.215.104.127|                   |               China|          |137251.19|                    |                    |\n",
      "+-------------------+---+----------+---------+--------------------+------+---------------+-------------------+--------------------+----------+---------+--------------------+--------------------+\n",
      "only showing top 20 rows\n",
      "\n"
     ]
    }
   ],
   "source": [
    "df4.show()"
   ]
  },
  {
   "cell_type": "code",
   "execution_count": 12,
   "id": "undefined-egyptian",
   "metadata": {
    "execution": {
     "iopub.execute_input": "2023-01-30T04:04:21.240731Z",
     "iopub.status.busy": "2023-01-30T04:04:21.239518Z",
     "iopub.status.idle": "2023-01-30T04:04:21.253835Z",
     "shell.execute_reply": "2023-01-30T04:04:21.254666Z",
     "shell.execute_reply.started": "2023-01-30T04:02:20.489752Z"
    },
    "papermill": {
     "duration": 0.18489,
     "end_time": "2023-01-30T04:04:21.254945",
     "exception": false,
     "start_time": "2023-01-30T04:04:21.070055",
     "status": "completed"
    },
    "tags": []
   },
   "outputs": [
    {
     "name": "stdout",
     "output_type": "stream",
     "text": [
      "root\n",
      " |-- registration_dttm: timestamp (nullable = true)\n",
      " |-- id: integer (nullable = true)\n",
      " |-- first_name: string (nullable = true)\n",
      " |-- last_name: string (nullable = true)\n",
      " |-- email: string (nullable = true)\n",
      " |-- gender: string (nullable = true)\n",
      " |-- ip_address: string (nullable = true)\n",
      " |-- cc: string (nullable = true)\n",
      " |-- country: string (nullable = true)\n",
      " |-- birthdate: string (nullable = true)\n",
      " |-- salary: double (nullable = true)\n",
      " |-- title: string (nullable = true)\n",
      " |-- comments: string (nullable = true)\n",
      "\n"
     ]
    }
   ],
   "source": [
    "df4.printSchema()"
   ]
  },
  {
   "cell_type": "code",
   "execution_count": null,
   "id": "green-wrestling",
   "metadata": {
    "papermill": {
     "duration": 0.137504,
     "end_time": "2023-01-30T04:04:21.535742",
     "exception": false,
     "start_time": "2023-01-30T04:04:21.398238",
     "status": "completed"
    },
    "tags": []
   },
   "outputs": [],
   "source": []
  }
 ],
 "metadata": {
  "kernelspec": {
   "display_name": "Python 3",
   "language": "python",
   "name": "python3"
  },
  "language_info": {
   "codemirror_mode": {
    "name": "ipython",
    "version": 3
   },
   "file_extension": ".py",
   "mimetype": "text/x-python",
   "name": "python",
   "nbconvert_exporter": "python",
   "pygments_lexer": "ipython3",
   "version": "3.7.10"
  },
  "papermill": {
   "default_parameters": {},
   "duration": 76.883123,
   "end_time": "2023-01-30T04:04:23.236425",
   "environment_variables": {},
   "exception": null,
   "input_path": "__notebook__.ipynb",
   "output_path": "__notebook__.ipynb",
   "parameters": {},
   "start_time": "2023-01-30T04:03:06.353302",
   "version": "2.3.3"
  }
 },
 "nbformat": 4,
 "nbformat_minor": 5
}
